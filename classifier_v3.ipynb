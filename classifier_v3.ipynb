{
 "cells": [
  {
   "cell_type": "markdown",
   "source": [
    "# Chord classifier\n"
   ],
   "metadata": {
    "collapsed": false,
    "id": "Xt-8qB58u2_y"
   }
  },
  {
   "cell_type": "markdown",
   "source": [
    "## Packages installation"
   ],
   "metadata": {
    "collapsed": false,
    "id": "SsWRTAQULONO"
   }
  },
  {
   "cell_type": "code",
   "source": [
    "!wget https://repo.anaconda.com/miniconda/Miniconda3-latest-Linux-x86_64.sh\n",
    "!chmod +x Miniconda3-latest-Linux-x86_64.sh\n",
    "!bash ./Miniconda3-latest-Linux-x86_64.sh -b -f -p /usr/local"
   ],
   "metadata": {
    "id": "2SS7bMiAyRSX"
   },
   "execution_count": null,
   "outputs": []
  },
  {
   "cell_type": "code",
   "source": [
    "import sys\n",
    "sys.path.append('/usr/local/lib/python3.7/site-packages/')"
   ],
   "metadata": {
    "id": "8rhj8TkuyXRz"
   },
   "execution_count": null,
   "outputs": []
  },
  {
   "cell_type": "code",
   "execution_count": null,
   "outputs": [],
   "source": [
    "!conda install -c conda-forge ffmpeg libsndfile"
   ],
   "metadata": {
    "id": "SkbLGjSLu2_0"
   }
  },
  {
   "cell_type": "code",
   "execution_count": null,
   "outputs": [],
   "source": [
    "%pip install spleeter"
   ],
   "metadata": {
    "id": "3v-Uf9rZu2_1"
   }
  },
  {
   "cell_type": "code",
   "source": [
    "%pip install pandas numpy librosa matplotlib torch torchvision seaborn"
   ],
   "metadata": {
    "colab": {
     "base_uri": "https://localhost:8080/"
    },
    "id": "-QVyZk6y0nc_",
    "outputId": "593384ad-9eb1-458a-cd8f-ff024a684f26"
   },
   "execution_count": 4,
   "outputs": [
    {
     "output_type": "stream",
     "name": "stdout",
     "text": [
      "Requirement already satisfied: pandas in /usr/local/lib/python3.10/dist-packages (1.5.3)\n",
      "Requirement already satisfied: numpy in /usr/local/lib/python3.10/dist-packages (1.23.5)\n",
      "Requirement already satisfied: librosa in /usr/local/lib/python3.10/dist-packages (0.10.1)\n",
      "Requirement already satisfied: matplotlib in /usr/local/lib/python3.10/dist-packages (3.7.1)\n",
      "Requirement already satisfied: torch in /usr/local/lib/python3.10/dist-packages (2.1.0+cu121)\n",
      "Requirement already satisfied: torchvision in /usr/local/lib/python3.10/dist-packages (0.16.0+cu121)\n",
      "Requirement already satisfied: seaborn in /usr/local/lib/python3.10/dist-packages (0.13.1)\n",
      "Requirement already satisfied: python-dateutil>=2.8.1 in /usr/local/lib/python3.10/dist-packages (from pandas) (2.8.2)\n",
      "Requirement already satisfied: pytz>=2020.1 in /usr/local/lib/python3.10/dist-packages (from pandas) (2023.4)\n",
      "Requirement already satisfied: audioread>=2.1.9 in /usr/local/lib/python3.10/dist-packages (from librosa) (3.0.1)\n",
      "Requirement already satisfied: scipy>=1.2.0 in /usr/local/lib/python3.10/dist-packages (from librosa) (1.11.4)\n",
      "Requirement already satisfied: scikit-learn>=0.20.0 in /usr/local/lib/python3.10/dist-packages (from librosa) (1.2.2)\n",
      "Requirement already satisfied: joblib>=0.14 in /usr/local/lib/python3.10/dist-packages (from librosa) (1.3.2)\n",
      "Requirement already satisfied: decorator>=4.3.0 in /usr/local/lib/python3.10/dist-packages (from librosa) (4.4.2)\n",
      "Requirement already satisfied: numba>=0.51.0 in /usr/local/lib/python3.10/dist-packages (from librosa) (0.58.1)\n",
      "Requirement already satisfied: soundfile>=0.12.1 in /usr/local/lib/python3.10/dist-packages (from librosa) (0.12.1)\n",
      "Requirement already satisfied: pooch>=1.0 in /usr/local/lib/python3.10/dist-packages (from librosa) (1.8.0)\n",
      "Requirement already satisfied: soxr>=0.3.2 in /usr/local/lib/python3.10/dist-packages (from librosa) (0.3.7)\n",
      "Requirement already satisfied: typing-extensions>=4.1.1 in /usr/local/lib/python3.10/dist-packages (from librosa) (4.5.0)\n",
      "Requirement already satisfied: lazy-loader>=0.1 in /usr/local/lib/python3.10/dist-packages (from librosa) (0.3)\n",
      "Requirement already satisfied: msgpack>=1.0 in /usr/local/lib/python3.10/dist-packages (from librosa) (1.0.7)\n",
      "Requirement already satisfied: contourpy>=1.0.1 in /usr/local/lib/python3.10/dist-packages (from matplotlib) (1.2.0)\n",
      "Requirement already satisfied: cycler>=0.10 in /usr/local/lib/python3.10/dist-packages (from matplotlib) (0.12.1)\n",
      "Requirement already satisfied: fonttools>=4.22.0 in /usr/local/lib/python3.10/dist-packages (from matplotlib) (4.47.2)\n",
      "Requirement already satisfied: kiwisolver>=1.0.1 in /usr/local/lib/python3.10/dist-packages (from matplotlib) (1.4.5)\n",
      "Requirement already satisfied: packaging>=20.0 in /usr/local/lib/python3.10/dist-packages (from matplotlib) (23.2)\n",
      "Requirement already satisfied: pillow>=6.2.0 in /usr/local/lib/python3.10/dist-packages (from matplotlib) (9.4.0)\n",
      "Requirement already satisfied: pyparsing>=2.3.1 in /usr/local/lib/python3.10/dist-packages (from matplotlib) (3.1.1)\n",
      "Requirement already satisfied: filelock in /usr/local/lib/python3.10/dist-packages (from torch) (3.13.1)\n",
      "Requirement already satisfied: sympy in /usr/local/lib/python3.10/dist-packages (from torch) (1.12)\n",
      "Requirement already satisfied: networkx in /usr/local/lib/python3.10/dist-packages (from torch) (3.2.1)\n",
      "Requirement already satisfied: jinja2 in /usr/local/lib/python3.10/dist-packages (from torch) (3.1.3)\n",
      "Requirement already satisfied: fsspec in /usr/local/lib/python3.10/dist-packages (from torch) (2023.6.0)\n",
      "Requirement already satisfied: triton==2.1.0 in /usr/local/lib/python3.10/dist-packages (from torch) (2.1.0)\n",
      "Requirement already satisfied: requests in /usr/local/lib/python3.10/dist-packages (from torchvision) (2.31.0)\n",
      "Requirement already satisfied: llvmlite<0.42,>=0.41.0dev0 in /usr/local/lib/python3.10/dist-packages (from numba>=0.51.0->librosa) (0.41.1)\n",
      "Requirement already satisfied: platformdirs>=2.5.0 in /usr/local/lib/python3.10/dist-packages (from pooch>=1.0->librosa) (4.2.0)\n",
      "Requirement already satisfied: six>=1.5 in /usr/local/lib/python3.10/dist-packages (from python-dateutil>=2.8.1->pandas) (1.16.0)\n",
      "Requirement already satisfied: charset-normalizer<4,>=2 in /usr/local/lib/python3.10/dist-packages (from requests->torchvision) (3.3.2)\n",
      "Requirement already satisfied: idna<4,>=2.5 in /usr/local/lib/python3.10/dist-packages (from requests->torchvision) (3.6)\n",
      "Requirement already satisfied: urllib3<3,>=1.21.1 in /usr/local/lib/python3.10/dist-packages (from requests->torchvision) (2.0.7)\n",
      "Requirement already satisfied: certifi>=2017.4.17 in /usr/local/lib/python3.10/dist-packages (from requests->torchvision) (2023.11.17)\n",
      "Requirement already satisfied: threadpoolctl>=2.0.0 in /usr/local/lib/python3.10/dist-packages (from scikit-learn>=0.20.0->librosa) (3.2.0)\n",
      "Requirement already satisfied: cffi>=1.0 in /usr/local/lib/python3.10/dist-packages (from soundfile>=0.12.1->librosa) (1.16.0)\n",
      "Requirement already satisfied: MarkupSafe>=2.0 in /usr/local/lib/python3.10/dist-packages (from jinja2->torch) (2.1.4)\n",
      "Requirement already satisfied: mpmath>=0.19 in /usr/local/lib/python3.10/dist-packages (from sympy->torch) (1.3.0)\n",
      "Requirement already satisfied: pycparser in /usr/local/lib/python3.10/dist-packages (from cffi>=1.0->soundfile>=0.12.1->librosa) (2.21)\n"
     ]
    }
   ]
  },
  {
   "cell_type": "code",
   "source": [
    "%pip install \"ray[tune]\""
   ],
   "metadata": {
    "colab": {
     "base_uri": "https://localhost:8080/"
    },
    "id": "mb4P8XkEnmq7",
    "outputId": "7bab0582-bc94-42d5-e653-5f3bc00bc3aa"
   },
   "execution_count": 2,
   "outputs": [
    {
     "output_type": "stream",
     "name": "stdout",
     "text": [
      "Collecting ray[tune]\n",
      "  Downloading ray-2.9.2-cp310-cp310-manylinux2014_x86_64.whl (64.9 MB)\n",
      "\u001B[2K     \u001B[90m━━━━━━━━━━━━━━━━━━━━━━━━━━━━━━━━━━━━━━━━\u001B[0m \u001B[32m64.9/64.9 MB\u001B[0m \u001B[31m10.4 MB/s\u001B[0m eta \u001B[36m0:00:00\u001B[0m\n",
      "\u001B[?25hRequirement already satisfied: click>=7.0 in /usr/local/lib/python3.10/dist-packages (from ray[tune]) (8.1.7)\n",
      "Requirement already satisfied: filelock in /usr/local/lib/python3.10/dist-packages (from ray[tune]) (3.13.1)\n",
      "Requirement already satisfied: jsonschema in /usr/local/lib/python3.10/dist-packages (from ray[tune]) (4.19.2)\n",
      "Requirement already satisfied: msgpack<2.0.0,>=1.0.0 in /usr/local/lib/python3.10/dist-packages (from ray[tune]) (1.0.7)\n",
      "Requirement already satisfied: packaging in /usr/local/lib/python3.10/dist-packages (from ray[tune]) (23.2)\n",
      "Requirement already satisfied: protobuf!=3.19.5,>=3.15.3 in /usr/local/lib/python3.10/dist-packages (from ray[tune]) (3.20.3)\n",
      "Requirement already satisfied: pyyaml in /usr/local/lib/python3.10/dist-packages (from ray[tune]) (6.0.1)\n",
      "Requirement already satisfied: aiosignal in /usr/local/lib/python3.10/dist-packages (from ray[tune]) (1.3.1)\n",
      "Requirement already satisfied: frozenlist in /usr/local/lib/python3.10/dist-packages (from ray[tune]) (1.4.1)\n",
      "Requirement already satisfied: requests in /usr/local/lib/python3.10/dist-packages (from ray[tune]) (2.31.0)\n",
      "Requirement already satisfied: pandas in /usr/local/lib/python3.10/dist-packages (from ray[tune]) (1.5.3)\n",
      "Collecting tensorboardX>=1.9 (from ray[tune])\n",
      "  Downloading tensorboardX-2.6.2.2-py2.py3-none-any.whl (101 kB)\n",
      "\u001B[2K     \u001B[90m━━━━━━━━━━━━━━━━━━━━━━━━━━━━━━━━━━━━━━━━\u001B[0m \u001B[32m101.7/101.7 kB\u001B[0m \u001B[31m13.5 MB/s\u001B[0m eta \u001B[36m0:00:00\u001B[0m\n",
      "\u001B[?25hRequirement already satisfied: pyarrow>=6.0.1 in /usr/local/lib/python3.10/dist-packages (from ray[tune]) (10.0.1)\n",
      "Requirement already satisfied: fsspec in /usr/local/lib/python3.10/dist-packages (from ray[tune]) (2023.6.0)\n",
      "Requirement already satisfied: numpy>=1.16.6 in /usr/local/lib/python3.10/dist-packages (from pyarrow>=6.0.1->ray[tune]) (1.23.5)\n",
      "Requirement already satisfied: attrs>=22.2.0 in /usr/local/lib/python3.10/dist-packages (from jsonschema->ray[tune]) (23.2.0)\n",
      "Requirement already satisfied: jsonschema-specifications>=2023.03.6 in /usr/local/lib/python3.10/dist-packages (from jsonschema->ray[tune]) (2023.12.1)\n",
      "Requirement already satisfied: referencing>=0.28.4 in /usr/local/lib/python3.10/dist-packages (from jsonschema->ray[tune]) (0.33.0)\n",
      "Requirement already satisfied: rpds-py>=0.7.1 in /usr/local/lib/python3.10/dist-packages (from jsonschema->ray[tune]) (0.17.1)\n",
      "Requirement already satisfied: python-dateutil>=2.8.1 in /usr/local/lib/python3.10/dist-packages (from pandas->ray[tune]) (2.8.2)\n",
      "Requirement already satisfied: pytz>=2020.1 in /usr/local/lib/python3.10/dist-packages (from pandas->ray[tune]) (2023.4)\n",
      "Requirement already satisfied: charset-normalizer<4,>=2 in /usr/local/lib/python3.10/dist-packages (from requests->ray[tune]) (3.3.2)\n",
      "Requirement already satisfied: idna<4,>=2.5 in /usr/local/lib/python3.10/dist-packages (from requests->ray[tune]) (3.6)\n",
      "Requirement already satisfied: urllib3<3,>=1.21.1 in /usr/local/lib/python3.10/dist-packages (from requests->ray[tune]) (2.0.7)\n",
      "Requirement already satisfied: certifi>=2017.4.17 in /usr/local/lib/python3.10/dist-packages (from requests->ray[tune]) (2023.11.17)\n",
      "Requirement already satisfied: six>=1.5 in /usr/local/lib/python3.10/dist-packages (from python-dateutil>=2.8.1->pandas->ray[tune]) (1.16.0)\n",
      "Installing collected packages: tensorboardX, ray\n",
      "Successfully installed ray-2.9.2 tensorboardX-2.6.2.2\n"
     ]
    }
   ]
  },
  {
   "cell_type": "code",
   "source": [
    "import ray"
   ],
   "metadata": {
    "id": "6s463FSjZsGx"
   },
   "execution_count": 5,
   "outputs": []
  },
  {
   "cell_type": "markdown",
   "source": [
    "## Data preprocessing"
   ],
   "metadata": {
    "collapsed": false,
    "id": "rmWFaHtPLONQ"
   }
  },
  {
   "cell_type": "markdown",
   "source": [
    "The purpose of preprocessing step, which is crucial for training the model, is to convert each chord represented as `wav` file into   spectrograms.\n"
   ],
   "metadata": {
    "collapsed": false,
    "id": "uMqj0zz2u2_1"
   }
  },
  {
   "cell_type": "code",
   "execution_count": 6,
   "outputs": [],
   "source": [
    "import pandas as pd\n",
    "import os"
   ],
   "metadata": {
    "id": "OUhOhQU6u2_1"
   }
  },
  {
   "cell_type": "markdown",
   "source": [
    "### Google Colab file management (no need to run outside Colab)"
   ],
   "metadata": {
    "collapsed": false,
    "id": "qVBE4Vj_LONR"
   }
  },
  {
   "cell_type": "markdown",
   "source": [
    "For usage of data in Google Colab, I mount my Google Drive and then copy files from it to the local instance to make processing faster."
   ],
   "metadata": {
    "collapsed": false,
    "id": "OPD9C4CRu2_1"
   }
  },
  {
   "cell_type": "code",
   "source": [
    "from google.colab import drive\n",
    "drive.mount('/gdrive')\n",
    "%cd /gdrive"
   ],
   "metadata": {
    "colab": {
     "base_uri": "https://localhost:8080/"
    },
    "id": "U0foJ3AMw0tN",
    "outputId": "eef056f7-ebe2-4d15-9ace-b50bfc05a070"
   },
   "execution_count": 7,
   "outputs": [
    {
     "output_type": "stream",
     "name": "stdout",
     "text": [
      "Mounted at /gdrive\n",
      "/gdrive\n"
     ]
    }
   ]
  },
  {
   "cell_type": "code",
   "source": [
    "os.chdir(\"/content\")"
   ],
   "metadata": {
    "id": "EZFpDsTJxRpS"
   },
   "execution_count": 8,
   "outputs": []
  },
  {
   "cell_type": "code",
   "source": [
    "!cp -R \"/gdrive/My Drive/chord_classifier/data\" \"data\""
   ],
   "metadata": {
    "id": "z8E-C9mMpUXe"
   },
   "execution_count": 9,
   "outputs": []
  },
  {
   "cell_type": "markdown",
   "source": [
    "### Data exploration\n"
   ],
   "metadata": {
    "collapsed": false,
    "id": "yGM2NlCju2_2"
   }
  },
  {
   "cell_type": "code",
   "execution_count": 1,
   "outputs": [],
   "source": [
    "from pathlib import Path\n",
    "import os\n",
    "\n",
    "data_dir = \"data\"\n",
    "preprocessed_train_data_dir = Path(os.path.join(data_dir, \"preprocessed\", \"train\"))\n",
    "preprocessed_test_data_dir = Path(os.path.join(data_dir, \"preprocessed\", \"test\"))\n",
    "pretrained_models_dir = Path(\"pretrained_models\")\n",
    "preprocessed_train_data_dir.mkdir(parents=True, exist_ok=True)\n",
    "preprocessed_test_data_dir.mkdir(parents=True, exist_ok=True)\n",
    "pretrained_models_dir.mkdir(parents=True, exist_ok=True)\n",
    "\n",
    "train_data_dir = data_dir + \"/Training\"\n",
    "test_data_dir = data_dir + \"/Test\""
   ],
   "metadata": {
    "id": "MaJyzqRzLONS"
   }
  },
  {
   "cell_type": "markdown",
   "source": [
    "Show the number of chord recordings available for training and testing"
   ],
   "metadata": {
    "collapsed": false,
    "id": "ASY83Mqqu2_2"
   }
  },
  {
   "cell_type": "code",
   "execution_count": 10,
   "outputs": [],
   "source": [
    "def get_chord_counts(data_dir):\n",
    "    chord_counts = {}\n",
    "\n",
    "    for chord in os.listdir(data_dir):\n",
    "        chord_path = os.path.join(data_dir, chord)\n",
    "        if os.path.isdir(chord_path):\n",
    "            chord_counts[chord] = len(os.listdir(chord_path))\n",
    "\n",
    "    return chord_counts"
   ],
   "metadata": {
    "id": "9vEb-JWvu2_2"
   }
  },
  {
   "cell_type": "code",
   "execution_count": null,
   "outputs": [],
   "source": [
    "print(f\"Training data chord count {get_chord_counts(train_data_dir)}\")\n",
    "print(f\"Testing data chord count {get_chord_counts(test_data_dir)}\")"
   ],
   "metadata": {
    "id": "imX0urefu2_2"
   }
  },
  {
   "cell_type": "markdown",
   "source": [
    "Show the duration of sounds of chords. It ranges from 1.12 to 16.34 seconds with median about 5 seconds."
   ],
   "metadata": {
    "collapsed": false,
    "id": "Xm-YKrM1u2_3"
   }
  },
  {
   "cell_type": "code",
   "execution_count": null,
   "outputs": [],
   "source": [
    "import librosa\n",
    "\n",
    "durations = []\n",
    "\n",
    "for chord in os.listdir(train_data_dir):\n",
    "    chord_path = os.path.join(train_data_dir, chord)\n",
    "    if os.path.isdir(chord_path):\n",
    "        for file in os.listdir(chord_path):\n",
    "            file_path = os.path.join(chord_path, file)\n",
    "            y, sr = librosa.load(file_path, sr=None)\n",
    "            durations.append(librosa.get_duration(y=y, sr=sr))\n",
    "\n",
    "durations_df = pd.DataFrame(durations, columns=['duration'])\n",
    "durations_df.describe()"
   ],
   "metadata": {
    "id": "PWs-EDGCu2_3"
   }
  },
  {
   "cell_type": "markdown",
   "source": [
    "A little trick to create an image from a spectrogram with matplotlib and then save it."
   ],
   "metadata": {
    "collapsed": false,
    "id": "pWGyYICru2_3"
   }
  },
  {
   "cell_type": "code",
   "execution_count": null,
   "outputs": [],
   "source": [
    "import os\n",
    "import librosa.display\n",
    "import numpy as np\n",
    "import matplotlib.pyplot as plt\n",
    "\n",
    "def create_spectrogram(audio_input, sr=None, save_path=None):\n",
    "    # skip already existing sprectrogram\n",
    "    if os.path.exists(save_path):\n",
    "        print(f\"Spectrogram  {save_path} already exists. Skipping.\")\n",
    "        return\n",
    "\n",
    "    # Load the audio file if a path is provided, else use the provided audio data\n",
    "    if isinstance(audio_input, str):\n",
    "        y, sr = librosa.load(audio_input, sr=None)\n",
    "    else:\n",
    "        y = audio_input\n",
    "        if sr is None:\n",
    "            raise ValueError(\"Sampling rate must be provided with audio data\")\n",
    "\n",
    "    print(f\"Creating spectrogram {save_path}\")\n",
    "\n",
    "    # Generate the Mel spectrogram\n",
    "    S = librosa.feature.melspectrogram(y=y, sr=sr)\n",
    "    S_dB = librosa.power_to_db(S, ref=np.max)\n",
    "\n",
    "    # Plot and save the spectrogram\n",
    "    plt.figure(figsize=(10, 4))\n",
    "    librosa.display.specshow(S_dB, sr=sr, x_axis='time', y_axis='mel')\n",
    "    plt.axis('off')\n",
    "    plt.xticks([]), plt.yticks([])\n",
    "    plt.tight_layout()\n",
    "\n",
    "    if save_path:\n",
    "        plt.savefig(save_path, bbox_inches='tight', pad_inches=0, format=\"jpg\")\n",
    "    plt.close()\n",
    "\n",
    "    return S_dB\n"
   ],
   "metadata": {
    "id": "OcNPyjwhu2_3"
   }
  },
  {
   "cell_type": "code",
   "execution_count": null,
   "outputs": [],
   "source": [
    "def convert_chords_to_spectrograms(source_dir, destination_dir, durations=[0.4, 0.5, 0.6]):\n",
    "    for chord in os.listdir(source_dir):\n",
    "        chord_path = os.path.join(source_dir, chord)\n",
    "        preprocessed_chord_path = os.path.join(destination_dir, chord)\n",
    "\n",
    "        if not os.path.exists(preprocessed_chord_path):\n",
    "            os.makedirs(preprocessed_chord_path)\n",
    "\n",
    "        if os.path.isdir(chord_path):\n",
    "            for file in os.listdir(chord_path):\n",
    "                file_path = os.path.join(chord_path, file)\n",
    "                y, sr = librosa.load(file_path, sr=None)\n",
    "\n",
    "                for beat_duration in durations:\n",
    "                    samples_per_beat = int(beat_duration * sr)\n",
    "\n",
    "                    for i in range(0, len(y), samples_per_beat):\n",
    "                        end_frame = i + samples_per_beat\n",
    "                        if end_frame > len(y):\n",
    "                            end_frame = len(y)  # Adjust the end frame for the last segment\n",
    "\n",
    "                        segment = y[i:end_frame]\n",
    "                        duration_ms = int(beat_duration * 1000)  # Convert to milliseconds for filename\n",
    "                        save_path = os.path.join(preprocessed_chord_path, f\"{os.path.splitext(file)[0]}_{i // samples_per_beat}_{duration_ms}ms.jpg\")\n",
    "                        # Create spectrogram from a segment and save it to disk\n",
    "                        create_spectrogram(segment, sr, save_path)\n",
    "\n"
   ],
   "metadata": {
    "id": "Xa6Jel3ru2_3"
   }
  },
  {
   "cell_type": "markdown",
   "source": [
    "Convert train and test data. This is going to take a while.\n"
   ],
   "metadata": {
    "collapsed": false,
    "id": "_oMlp5eSu2_3"
   }
  },
  {
   "cell_type": "code",
   "execution_count": null,
   "outputs": [],
   "source": [
    "convert_chords_to_spectrograms(train_data_dir, preprocessed_train_data_dir)\n",
    "convert_chords_to_spectrograms(test_data_dir, preprocessed_test_data_dir)"
   ],
   "metadata": {
    "id": "oakTOTEiu2_4"
   }
  },
  {
   "cell_type": "markdown",
   "source": [
    "Let's check the number of generated files."
   ],
   "metadata": {
    "collapsed": false,
    "id": "FnAdETfyu2_4"
   }
  },
  {
   "cell_type": "code",
   "execution_count": 12,
   "outputs": [
    {
     "output_type": "stream",
     "name": "stdout",
     "text": [
      "Training data chord count {'C': 6555, 'G': 6615, 'Am': 6558, 'Em': 6647, 'Bb': 6535, 'Dm': 6515, 'F': 6416}\n",
      "Testing data chord count {}\n"
     ]
    }
   ],
   "source": [
    "print(f\"Training data chord count {get_chord_counts(preprocessed_train_data_dir)}\")\n",
    "print(f\"Testing data chord count {get_chord_counts(preprocessed_test_data_dir)}\")"
   ],
   "metadata": {
    "id": "O9NI_yORu2_4",
    "colab": {
     "base_uri": "https://localhost:8080/"
    },
    "outputId": "ba542f7a-74da-4caf-89a5-4fa78abec5ac"
   }
  },
  {
   "cell_type": "markdown",
   "source": [
    "An example of a spectrogram"
   ],
   "metadata": {
    "collapsed": false,
    "id": "lkzRMMoXu2_4"
   }
  },
  {
   "cell_type": "code",
   "execution_count": null,
   "outputs": [],
   "source": [
    "import matplotlib.image as mpimg\n",
    "\n",
    "image_path = os.path.join(preprocessed_train_data_dir, 'Am', 'Am_acousticguitar_Mari_1_0.jpg')\n",
    "\n",
    "img = mpimg.imread(image_path)\n",
    "\n",
    "# Display the image\n",
    "plt.imshow(img)\n",
    "plt.axis('off')\n",
    "plt.show()"
   ],
   "metadata": {
    "id": "rT2SeEOTu2_4"
   }
  },
  {
   "cell_type": "markdown",
   "source": [
    "## Fine tuning ResNet50\n"
   ],
   "metadata": {
    "collapsed": false,
    "id": "epSQxduXu3AF"
   }
  },
  {
   "cell_type": "markdown",
   "source": [
    "Load the model and enable the last layer for fine tuning. If we have a saved version of the model, we can load its state."
   ],
   "metadata": {
    "collapsed": false,
    "id": "Q4KREqLGu3AF"
   }
  },
  {
   "cell_type": "code",
   "execution_count": 2,
   "outputs": [],
   "source": [
    "import torch\n",
    "# use GPU where available\n",
    "device = \"mps\" if getattr(torch, 'has_mps', False) \\\n",
    "    else \"cuda\" if torch.cuda.is_available() else \"cpu\""
   ],
   "metadata": {
    "colab": {
     "base_uri": "https://localhost:8080/"
    },
    "id": "xKk_OzWWLONW",
    "outputId": "d23ea8de-75b6-4839-f20f-646ea619ca1d"
   }
  },
  {
   "cell_type": "code",
   "execution_count": 3,
   "outputs": [],
   "source": [
    "import torch.nn as nn\n",
    "import torchvision.models as models\n",
    "from torchvision.models import ResNet50_Weights\n",
    "\n",
    "def load_model(saved_model_path=None):\n",
    "  num_classes = 7 # we have 7 chords in our dataset\n",
    "  model = models.resnet50(weights=ResNet50_Weights.DEFAULT)\n",
    "\n",
    "  # replacing the last layer for fine tuning\n",
    "  num_features = model.fc.in_features\n",
    "  model.fc = nn.Linear(num_features, num_classes)\n",
    "\n",
    "\n",
    "  if saved_model_path:\n",
    "    model.load_state_dict(torch.load(saved_model_path, map_location=torch.device(device)))\n",
    "\n",
    "  return model.to(device)\n"
   ],
   "metadata": {
    "id": "j5nQPcFiu3AF"
   }
  },
  {
   "cell_type": "code",
   "source": [
    "model = load_model()"
   ],
   "metadata": {
    "id": "YLLN_7Mz7t8N"
   },
   "execution_count": 11,
   "outputs": [
    {
     "ename": "NameError",
     "evalue": "name 'models' is not defined",
     "output_type": "error",
     "traceback": [
      "\u001B[0;31m---------------------------------------------------------------------------\u001B[0m",
      "\u001B[0;31mNameError\u001B[0m                                 Traceback (most recent call last)",
      "Cell \u001B[0;32mIn[11], line 1\u001B[0m\n\u001B[0;32m----> 1\u001B[0m model \u001B[38;5;241m=\u001B[39m \u001B[43mload_model\u001B[49m\u001B[43m(\u001B[49m\u001B[43m)\u001B[49m\n",
      "Cell \u001B[0;32mIn[10], line 5\u001B[0m, in \u001B[0;36mload_model\u001B[0;34m(saved_model_path)\u001B[0m\n\u001B[1;32m      3\u001B[0m \u001B[38;5;28;01mdef\u001B[39;00m \u001B[38;5;21mload_model\u001B[39m(saved_model_path\u001B[38;5;241m=\u001B[39m\u001B[38;5;28;01mNone\u001B[39;00m):\n\u001B[1;32m      4\u001B[0m   num_classes \u001B[38;5;241m=\u001B[39m \u001B[38;5;241m7\u001B[39m \u001B[38;5;66;03m# we have 7 chords in our dataset\u001B[39;00m\n\u001B[0;32m----> 5\u001B[0m   model \u001B[38;5;241m=\u001B[39m \u001B[43mmodels\u001B[49m\u001B[38;5;241m.\u001B[39mresnet50(weights\u001B[38;5;241m=\u001B[39mResNet50_Weights\u001B[38;5;241m.\u001B[39mDEFAULT)\n\u001B[1;32m      7\u001B[0m   \u001B[38;5;66;03m# replacing the last layer for fine tuning\u001B[39;00m\n\u001B[1;32m      8\u001B[0m   num_features \u001B[38;5;241m=\u001B[39m model\u001B[38;5;241m.\u001B[39mfc\u001B[38;5;241m.\u001B[39min_features\n",
      "\u001B[0;31mNameError\u001B[0m: name 'models' is not defined"
     ]
    }
   ]
  },
  {
   "cell_type": "markdown",
   "source": [
    "Categorical mapping of chords so that we could use them as numerical indexes in the neural network but also could decipher it back to actual labels for representation."
   ],
   "metadata": {
    "id": "PhvMWvY-75Vf"
   }
  },
  {
   "cell_type": "code",
   "source": [
    "chord_labels = [\"Am\", \"Bb\", \"C\", \"Dm\", \"Em\", \"F\", \"G\"]\n",
    "label_to_idx = {\n",
    "    \"Am\": 0,\n",
    "    \"Bb\": 1,\n",
    "    \"C\": 2,\n",
    "    \"Dm\": 3,\n",
    "    \"Em\": 4,\n",
    "    \"F\": 5,\n",
    "    \"G\": 6,\n",
    "}"
   ],
   "metadata": {
    "id": "yEBSo6Tl8CHp"
   },
   "execution_count": 4,
   "outputs": []
  },
  {
   "cell_type": "markdown",
   "source": [
    "Define our dataset\n"
   ],
   "metadata": {
    "collapsed": false,
    "id": "XWwNPmQVu3AF"
   }
  },
  {
   "cell_type": "code",
   "execution_count": 102,
   "outputs": [],
   "source": [
    "from PIL import Image\n",
    "from torch.utils.data import DataLoader, Dataset\n",
    "\n",
    "class SpectrogramDataset(Dataset):\n",
    "    def __init__(self, root_dir, transform=None, include_labels=True, image_mode=\"RGB\"):\n",
    "        \"\"\"\n",
    "        Args:\n",
    "            root_dir (string): Directory with all the subdirectories for each label.\n",
    "            transform (callable, optional): Optional transform to be applied on a sample.\n",
    "        \"\"\"\n",
    "        self.transform = transform\n",
    "        self.samples = []\n",
    "        self.label_to_idx = label_to_idx\n",
    "        self.include_labels = include_labels\n",
    "        self.image_mode = image_mode\n",
    "\n",
    "        # Iterate over each subdirectory in root_dir\n",
    "        for label_dir in os.listdir(root_dir):\n",
    "            label_dir_full_path = os.path.join(root_dir, label_dir)\n",
    "            if os.path.isdir(label_dir_full_path):\n",
    "\n",
    "                # Iterate over each file in the subdirectory\n",
    "                for file in os.listdir(label_dir_full_path):\n",
    "                    file_full_path = os.path.join(label_dir_full_path, file)\n",
    "                    if os.path.isfile(file_full_path):\n",
    "                        # Append the file path and its label to the samples list\n",
    "                        self.samples.append((file_full_path, self.label_to_idx[label_dir]))\n",
    "\n",
    "    def __len__(self):\n",
    "        return len(self.samples)\n",
    "\n",
    "    def __getitem__(self, idx):\n",
    "        img_path, label_idx = self.samples[idx]\n",
    "        img = Image.open(img_path).convert(self.image_mode)\n",
    "\n",
    "        if self.transform:\n",
    "            img = self.transform(img)\n",
    "\n",
    "        if self.include_labels:\n",
    "            return img, label_idx\n",
    "\n",
    "        return img\n"
   ],
   "metadata": {
    "id": "Eio5-74xu3AF"
   }
  },
  {
   "cell_type": "markdown",
   "source": [
    "The function to resize the images to the size expected by ResNet (224x224). As the original images are not square, it also pads them with blank space to keep the proportions as they are crucial for a time representation like the spectrogram."
   ],
   "metadata": {
    "collapsed": false,
    "id": "70rxfFMbu3AG"
   }
  },
  {
   "cell_type": "code",
   "execution_count": 103,
   "outputs": [],
   "source": [
    "from PIL import Image, ImageOps\n",
    "\n",
    "def resize_and_pad(spectrogram, target_size=(224, 224)):\n",
    "    # Calculate the resize ratio and resize the spectrogram\n",
    "    ratio = min(target_size[0] / spectrogram.width, target_size[1] / spectrogram.height)\n",
    "    new_size = (int(spectrogram.width * ratio), int(spectrogram.height * ratio))\n",
    "    spectrogram = spectrogram.resize(new_size, Image.LANCZOS)\n",
    "\n",
    "    # Calculate padding\n",
    "    delta_width = target_size[0] - new_size[0]\n",
    "    delta_height = target_size[1] - new_size[1]\n",
    "    padding = (delta_width // 2, delta_height // 2, delta_width - (delta_width // 2), delta_height - (delta_height // 2))\n",
    "\n",
    "    # Add padding\n",
    "    return ImageOps.expand(spectrogram, padding)\n"
   ],
   "metadata": {
    "id": "U_ikXvRGu3AG"
   }
  },
  {
   "cell_type": "markdown",
   "source": [
    "A function to calculate mean and standard deviation for normalization.\n"
   ],
   "metadata": {
    "collapsed": false,
    "id": "odH3Zu_7u3AG"
   }
  },
  {
   "cell_type": "code",
   "execution_count": 104,
   "outputs": [],
   "source": [
    "from torch.utils.data import DataLoader\n",
    "import torch\n",
    "\n",
    "def calculate_mean_std(loader):\n",
    "    mean = 0.\n",
    "    std = 0.\n",
    "    total_images_count = 0\n",
    "    for images, _ in loader:\n",
    "        batch_samples = images.size(0)\n",
    "        channels = images.size(1)\n",
    "        images = images.view(batch_samples, channels, -1)\n",
    "        mean += images.mean(2).sum(0)\n",
    "        std += images.std(2).sum(0)\n",
    "        total_images_count += batch_samples\n",
    "\n",
    "    mean /= total_images_count\n",
    "    std /= total_images_count\n",
    "\n",
    "    return mean, std\n"
   ],
   "metadata": {
    "id": "aTK5WfyPu3AG"
   }
  },
  {
   "cell_type": "markdown",
   "source": [
    "Transform the data to the input format expected by the network. This step without the normalization as we first need to calculate the mean and standard deviation.\n"
   ],
   "metadata": {
    "collapsed": false,
    "id": "9COMnosNu3AG"
   }
  },
  {
   "cell_type": "code",
   "execution_count": 105,
   "outputs": [],
   "source": [
    "from torchvision import transforms\n",
    "\n",
    "pre_transform = transforms.Compose([\n",
    "    transforms.Lambda(resize_and_pad),\n",
    "    transforms.ToTensor(),\n",
    "])\n"
   ],
   "metadata": {
    "id": "UBqZ21SIu3AG"
   }
  },
  {
   "cell_type": "markdown",
   "source": [
    "The following operation is to calculate mean and std across the training dataset for normalization. It is an expensive operation so this cell is disabled and the following cell contains those values received from a previous calculation."
   ],
   "metadata": {
    "collapsed": false,
    "id": "b31QXH_pu3AG"
   }
  },
  {
   "cell_type": "code",
   "execution_count": 106,
   "outputs": [],
   "source": [
    "%%script false --no-raise-error\n",
    "#| code: true\n",
    "#| output: false\n",
    "#} eval: false\n",
    "\n",
    "pre_dataset = SpectrogramDataset(root_dir=preprocessed_train_data_dir, transform=pre_transform)\n",
    "\n",
    "pre_loader = DataLoader(pre_dataset, batch_size=64, shuffle=True, num_workers=0)\n",
    "\n",
    "mean, std = calculate_mean_std(pre_loader)\n",
    "print(mean, std)\n"
   ],
   "metadata": {
    "id": "bQSBsSiHu3AG"
   }
  },
  {
   "cell_type": "code",
   "execution_count": 107,
   "outputs": [],
   "source": [
    "mean = [0.1940, 0.0823, 0.1370]\n",
    "std = [0.3135, 0.1575, 0.1981]"
   ],
   "metadata": {
    "id": "nPUjEcUau3AH"
   }
  },
  {
   "cell_type": "markdown",
   "source": [
    "Now that we have all necessary information, we can fully transform the dataset."
   ],
   "metadata": {
    "collapsed": false,
    "id": "YRypMVXsu3AH"
   }
  },
  {
   "cell_type": "code",
   "execution_count": 108,
   "outputs": [],
   "source": [
    "from torchvision import transforms\n",
    "\n",
    "transform = transforms.Compose([\n",
    "    transforms.Lambda(resize_and_pad),\n",
    "    transforms.ToTensor(),\n",
    "    transforms.Normalize(mean=mean, std=std),\n",
    "])"
   ],
   "metadata": {
    "id": "-UqW_-uPu3AH"
   }
  },
  {
   "cell_type": "code",
   "execution_count": 109,
   "outputs": [
    {
     "data": {
      "text/plain": "45831"
     },
     "execution_count": 109,
     "metadata": {},
     "output_type": "execute_result"
    }
   ],
   "source": [
    "dataset = SpectrogramDataset(root_dir=preprocessed_train_data_dir, transform=transform)\n",
    "len(dataset)"
   ],
   "metadata": {
    "id": "XAN024Amu3AH",
    "colab": {
     "base_uri": "https://localhost:8080/"
    },
    "outputId": "5411417a-85f9-47a9-9287-67585b4cacac"
   }
  },
  {
   "cell_type": "markdown",
   "source": [
    "Create validation dataset"
   ],
   "metadata": {
    "collapsed": false,
    "id": "4nVG82ycu3AH"
   }
  },
  {
   "cell_type": "code",
   "execution_count": 110,
   "outputs": [
    {
     "data": {
      "text/plain": "9167"
     },
     "execution_count": 110,
     "metadata": {},
     "output_type": "execute_result"
    }
   ],
   "source": [
    "from torch.utils.data import random_split\n",
    "\n",
    "train_size = int(0.8 * len(dataset))\n",
    "val_size = len(dataset) - train_size\n",
    "train_dataset, validation_dataset = random_split(dataset, [train_size, val_size])\n",
    "len(validation_dataset)"
   ],
   "metadata": {
    "id": "R_6E-KsTu3AH",
    "colab": {
     "base_uri": "https://localhost:8080/"
    },
    "outputId": "a3d527bd-8c6a-4cc6-c638-b1428682a488"
   }
  },
  {
   "cell_type": "markdown",
   "source": [
    "The following function is used for testing the model and returns current loss and accuracy. It is used both for hyperparameter tuning feedback and for testing the model on the test dataset."
   ],
   "metadata": {
    "collapsed": false,
    "id": "20YYxD0vu3AI"
   }
  },
  {
   "cell_type": "code",
   "execution_count": 12,
   "outputs": [],
   "source": [
    "import torch.nn as nn\n",
    "\n",
    "criterion = nn.CrossEntropyLoss()"
   ],
   "metadata": {
    "id": "m2Pjyf3du3AI"
   }
  },
  {
   "cell_type": "code",
   "execution_count": 13,
   "outputs": [],
   "source": [
    "def evaluate_model(model, data_loader, criterion):\n",
    "    model.eval()\n",
    "    total_loss = 0.0\n",
    "    correct = 0\n",
    "    total = 0\n",
    "    with torch.no_grad():\n",
    "        for inputs, labels in data_loader:\n",
    "            inputs, labels = inputs.to(device), labels.to(device)\n",
    "            outputs = model(inputs)\n",
    "            loss = criterion(outputs, labels)\n",
    "            total_loss += loss.item()\n",
    "\n",
    "            _, predicted = torch.max(outputs.data, 1)\n",
    "            total += labels.size(0)\n",
    "            correct += (predicted == labels).sum().item()\n",
    "\n",
    "    avg_loss = total_loss / len(data_loader)\n",
    "    accuracy = correct / total\n",
    "    return avg_loss, accuracy\n"
   ],
   "metadata": {
    "id": "xUxWMTtTu3AK"
   }
  },
  {
   "cell_type": "code",
   "execution_count": 42,
   "outputs": [],
   "source": [
    "max_epochs = 30"
   ],
   "metadata": {
    "id": "dPKG7Ogfu3AI"
   }
  },
  {
   "cell_type": "markdown",
   "source": [
    "The model training loop. It uses checkpoints as the training is a long operation that might be interrupted and it that case we should be able to continue where we left off. It also leverages learning rate scheduler to adjust learning rate during the training to improve convergency."
   ],
   "metadata": {
    "id": "kHQa9MBi9K0f"
   }
  },
  {
   "cell_type": "code",
   "execution_count": 27,
   "outputs": [],
   "source": [
    "from ray import train\n",
    "import tempfile\n",
    "from ray.train import Checkpoint\n",
    "from torch.optim.lr_scheduler import StepLR\n",
    "import torch.optim as optim\n",
    "\n",
    "checkpoint_dir = os.path.join(pretrained_models_dir, \"checkpoints\")\n",
    "\n",
    "def train_model(config):\n",
    "    # optimizer = getattr(torch.optim, config[\"optimizer\"])(model.parameters(), lr=config[\"lr\"])\n",
    "    optimizer = optim.SGD(model.parameters(), lr=config[\"lr\"], momentum=config[\"momentum\"])\n",
    "    scheduler = StepLR(optimizer, step_size=10, gamma=0.1)\n",
    "\n",
    "    start = 1\n",
    "    checkpoint = train.get_checkpoint()\n",
    "    if checkpoint:\n",
    "        checkpoint = torch.load(os.path.join(checkpoint_dir, \"checkpoint.pt\"))\n",
    "        model.load_state_dict(checkpoint['model_state'])\n",
    "        optimizer.load_state_dict(checkpoint['optimizer_state'])\n",
    "        start_epoch = checkpoint['epoch'] + 1\n",
    "        scheduler.load_state_dict(checkpoint['scheduler_state'])\n",
    "\n",
    "    train_loader = DataLoader(train_dataset, batch_size=config[\"batch_size\"], shuffle=True)\n",
    "    val_loader = DataLoader(validation_dataset, batch_size=config[\"batch_size\"], shuffle=False)\n",
    "\n",
    "    num_epochs = config.get(\"epochs\", 7)\n",
    "\n",
    "    for epoch in range(start, num_epochs):\n",
    "      print(f\"Start epoch {epoch}\")\n",
    "      model.train()\n",
    "      running_loss = 0.0\n",
    "      for inputs, labels in train_loader:\n",
    "          inputs, labels = inputs.to(device), labels.to(device)\n",
    "\n",
    "          optimizer.zero_grad()\n",
    "\n",
    "          outputs = model(inputs)\n",
    "          loss = criterion(outputs, labels)\n",
    "          loss.backward()\n",
    "          optimizer.step()\n",
    "\n",
    "          running_loss += loss.item()\n",
    "\n",
    "      # validation\n",
    "      val_loss, val_accuracy = evaluate_model(model, val_loader, criterion)\n",
    "      print(f\"Epoch {epoch+1}/{num_epochs}, Loss: {running_loss/len(train_loader)}, Val Loss: {val_loss}, Val Accuracy: {val_accuracy}\")\n",
    "      scheduler.step()\n",
    "\n",
    "      torch.save({\n",
    "          'epoch': epoch,\n",
    "          'model_state': model.state_dict(),\n",
    "          'optimizer_state': optimizer.state_dict(),\n",
    "          'scheduler_state': scheduler.state_dict(),\n",
    "        }, os.path.join(checkpoint_dir, \"checkpoint.pt\"))\n",
    "\n",
    "      checkpoint=Checkpoint.from_directory(checkpoint_dir)\n",
    "      # send data to Ray Tune at each epoch to allow the scheduler to cancel inefficient experiments early\n",
    "      train.report({\"val_loss\": val_loss, \"accuracy\": val_accuracy})\n"
   ],
   "metadata": {
    "id": "sBRUqnQWu3AI"
   }
  },
  {
   "cell_type": "markdown",
   "source": [
    "## Hyperparameter tuning"
   ],
   "metadata": {
    "collapsed": false,
    "id": "PTVE-XPRu3AI"
   }
  },
  {
   "cell_type": "markdown",
   "source": [
    "Here I use a Ray Tune scheduler to be able to cut off inefficient experiments early and improve the efficiency of hyperparameter tuning"
   ],
   "metadata": {
    "collapsed": false,
    "id": "qRcjYnyiu3AJ"
   }
  },
  {
   "cell_type": "code",
   "execution_count": 34,
   "outputs": [],
   "source": [
    "from ray.tune.schedulers import ASHAScheduler\n",
    "\n",
    "scheduler = ASHAScheduler(\n",
    "    metric=\"val_loss\",\n",
    "    mode=\"min\",\n",
    "    max_t = max_epochs,\n",
    "    grace_period=1,\n",
    "    reduction_factor=2,\n",
    ")\n"
   ],
   "metadata": {
    "id": "jslQRUXxu3AJ"
   }
  },
  {
   "cell_type": "markdown",
   "source": [
    "These are hyperparameters that we are going to choose."
   ],
   "metadata": {
    "id": "1OFK0lfb9hl-"
   }
  },
  {
   "cell_type": "code",
   "execution_count": 52,
   "outputs": [],
   "source": [
    "from ray import tune\n",
    "\n",
    "config = {\n",
    "    \"lr\": 0.0151688,\n",
    "    # \"lr\": tune.loguniform(1e-2, 1e-1),\n",
    "    # \"batch_size\": tune.choice([16, 32, 64]),\n",
    "    \"batch_size\": 16,\n",
    "    \"epochs\": tune.choice([7, 10, 15, 18, 23, 30]),\n",
    "    # \"optimizer\": tune.choice([\"Adam\", \"SGD\"]),\n",
    "    \"step_size\": tune.choice([5, 10, 20]),\n",
    "    \"gamma\": tune.choice([0.1, 0.5, 0.9]),\n",
    "    \"momentum\": tune.uniform(0.8, 0.99),\n",
    "}"
   ],
   "metadata": {
    "id": "QKou6L0Au3AJ"
   }
  },
  {
   "cell_type": "code",
   "execution_count": 45,
   "outputs": [
    {
     "output_type": "stream",
     "name": "stderr",
     "text": [
      "2024-02-06 17:05:24,497\tINFO worker.py:1724 -- Started a local Ray instance.\n"
     ]
    },
    {
     "output_type": "execute_result",
     "data": {
      "text/plain": [
       "RayContext(dashboard_url='', python_version='3.10.12', ray_version='2.9.2', ray_commit='fce7a361807580953364e2da964f9498f3123bf9', protocol_version=None)"
      ],
      "text/html": [
       "<div class=\"lm-Widget p-Widget lm-Panel p-Panel jp-Cell-outputWrapper\">\n",
       "    <div style=\"margin-left: 50px;display: flex;flex-direction: row;align-items: center\">\n",
       "        <div class=\"jp-RenderedHTMLCommon\" style=\"display: flex; flex-direction: row;\">\n",
       "  <svg viewBox=\"0 0 567 224\" fill=\"none\" xmlns=\"http://www.w3.org/2000/svg\" style=\"height: 3em;\">\n",
       "    <g clip-path=\"url(#clip0_4338_178347)\">\n",
       "        <path d=\"M341.29 165.561H355.29L330.13 129.051C345.63 123.991 354.21 112.051 354.21 94.2307C354.21 71.3707 338.72 58.1807 311.88 58.1807H271V165.561H283.27V131.661H311.8C314.25 131.661 316.71 131.501 319.01 131.351L341.25 165.561H341.29ZM283.29 119.851V70.0007H311.82C331.3 70.0007 342.34 78.2907 342.34 94.5507C342.34 111.271 331.34 119.861 311.82 119.861L283.29 119.851ZM451.4 138.411L463.4 165.561H476.74L428.74 58.1807H416L367.83 165.561H380.83L392.83 138.411H451.4ZM446.19 126.601H398L422 72.1407L446.24 126.601H446.19ZM526.11 128.741L566.91 58.1807H554.35L519.99 114.181L485.17 58.1807H472.44L514.01 129.181V165.541H526.13V128.741H526.11Z\" fill=\"var(--jp-ui-font-color0)\"/>\n",
       "        <path d=\"M82.35 104.44C84.0187 97.8827 87.8248 92.0678 93.1671 87.9146C98.5094 83.7614 105.083 81.5067 111.85 81.5067C118.617 81.5067 125.191 83.7614 130.533 87.9146C135.875 92.0678 139.681 97.8827 141.35 104.44H163.75C164.476 101.562 165.622 98.8057 167.15 96.2605L127.45 56.5605C121.071 60.3522 113.526 61.6823 106.235 60.3005C98.9443 58.9187 92.4094 54.9203 87.8602 49.0574C83.3109 43.1946 81.0609 35.8714 81.5332 28.4656C82.0056 21.0599 85.1679 14.0819 90.4252 8.8446C95.6824 3.60726 102.672 0.471508 110.08 0.0272655C117.487 -0.416977 124.802 1.86091 130.647 6.4324C136.493 11.0039 140.467 17.5539 141.821 24.8501C143.175 32.1463 141.816 39.6859 138 46.0505L177.69 85.7505C182.31 82.9877 187.58 81.4995 192.962 81.4375C198.345 81.3755 203.648 82.742 208.33 85.3976C213.012 88.0532 216.907 91.9029 219.616 96.5544C222.326 101.206 223.753 106.492 223.753 111.875C223.753 117.258 222.326 122.545 219.616 127.197C216.907 131.848 213.012 135.698 208.33 138.353C203.648 141.009 198.345 142.375 192.962 142.313C187.58 142.251 182.31 140.763 177.69 138L138 177.7C141.808 184.071 143.155 191.614 141.79 198.91C140.424 206.205 136.44 212.75 130.585 217.313C124.731 221.875 117.412 224.141 110.004 223.683C102.596 223.226 95.6103 220.077 90.3621 214.828C85.1139 209.58 81.9647 202.595 81.5072 195.187C81.0497 187.779 83.3154 180.459 87.878 174.605C92.4405 168.751 98.9853 164.766 106.281 163.401C113.576 162.035 121.119 163.383 127.49 167.19L167.19 127.49C165.664 124.941 164.518 122.182 163.79 119.3H141.39C139.721 125.858 135.915 131.673 130.573 135.826C125.231 139.98 118.657 142.234 111.89 142.234C105.123 142.234 98.5494 139.98 93.2071 135.826C87.8648 131.673 84.0587 125.858 82.39 119.3H60C58.1878 126.495 53.8086 132.78 47.6863 136.971C41.5641 141.163 34.1211 142.972 26.7579 142.059C19.3947 141.146 12.6191 137.574 7.70605 132.014C2.79302 126.454 0.0813599 119.29 0.0813599 111.87C0.0813599 104.451 2.79302 97.2871 7.70605 91.7272C12.6191 86.1673 19.3947 82.5947 26.7579 81.6817C34.1211 80.7686 41.5641 82.5781 47.6863 86.7696C53.8086 90.9611 58.1878 97.2456 60 104.44H82.35ZM100.86 204.32C103.407 206.868 106.759 208.453 110.345 208.806C113.93 209.159 117.527 208.258 120.522 206.256C123.517 204.254 125.725 201.276 126.771 197.828C127.816 194.38 127.633 190.677 126.253 187.349C124.874 184.021 122.383 181.274 119.205 179.577C116.027 177.88 112.359 177.337 108.826 178.042C105.293 178.746 102.113 180.654 99.8291 183.44C97.5451 186.226 96.2979 189.718 96.3 193.32C96.2985 195.364 96.7006 197.388 97.4831 199.275C98.2656 201.163 99.4132 202.877 100.86 204.32ZM204.32 122.88C206.868 120.333 208.453 116.981 208.806 113.396C209.159 109.811 208.258 106.214 206.256 103.219C204.254 100.223 201.275 98.0151 197.827 96.97C194.38 95.9249 190.676 96.1077 187.348 97.4873C184.02 98.8669 181.274 101.358 179.577 104.536C177.879 107.714 177.337 111.382 178.041 114.915C178.746 118.448 180.653 121.627 183.439 123.911C186.226 126.195 189.717 127.443 193.32 127.44C195.364 127.443 197.388 127.042 199.275 126.259C201.163 125.476 202.878 124.328 204.32 122.88ZM122.88 19.4205C120.333 16.8729 116.981 15.2876 113.395 14.9347C109.81 14.5817 106.213 15.483 103.218 17.4849C100.223 19.4868 98.0146 22.4654 96.9696 25.9131C95.9245 29.3608 96.1073 33.0642 97.4869 36.3922C98.8665 39.7202 101.358 42.4668 104.535 44.1639C107.713 45.861 111.381 46.4036 114.914 45.6992C118.447 44.9949 121.627 43.0871 123.911 40.301C126.195 37.515 127.442 34.0231 127.44 30.4205C127.44 28.3772 127.038 26.3539 126.255 24.4664C125.473 22.5788 124.326 20.8642 122.88 19.4205ZM19.42 100.86C16.8725 103.408 15.2872 106.76 14.9342 110.345C14.5813 113.93 15.4826 117.527 17.4844 120.522C19.4863 123.518 22.4649 125.726 25.9127 126.771C29.3604 127.816 33.0638 127.633 36.3918 126.254C39.7198 124.874 42.4664 122.383 44.1635 119.205C45.8606 116.027 46.4032 112.359 45.6988 108.826C44.9944 105.293 43.0866 102.114 40.3006 99.8296C37.5145 97.5455 34.0227 96.2983 30.42 96.3005C26.2938 96.3018 22.337 97.9421 19.42 100.86ZM100.86 100.86C98.3125 103.408 96.7272 106.76 96.3742 110.345C96.0213 113.93 96.9226 117.527 98.9244 120.522C100.926 123.518 103.905 125.726 107.353 126.771C110.8 127.816 114.504 127.633 117.832 126.254C121.16 124.874 123.906 122.383 125.604 119.205C127.301 116.027 127.843 112.359 127.139 108.826C126.434 105.293 124.527 102.114 121.741 99.8296C118.955 97.5455 115.463 96.2983 111.86 96.3005C109.817 96.299 107.793 96.701 105.905 97.4835C104.018 98.2661 102.303 99.4136 100.86 100.86Z\" fill=\"#00AEEF\"/>\n",
       "    </g>\n",
       "    <defs>\n",
       "        <clipPath id=\"clip0_4338_178347\">\n",
       "            <rect width=\"566.93\" height=\"223.75\" fill=\"white\"/>\n",
       "        </clipPath>\n",
       "    </defs>\n",
       "  </svg>\n",
       "</div>\n",
       "\n",
       "        <table class=\"jp-RenderedHTMLCommon\" style=\"border-collapse: collapse;color: var(--jp-ui-font-color1);font-size: var(--jp-ui-font-size1);\">\n",
       "    <tr>\n",
       "        <td style=\"text-align: left\"><b>Python version:</b></td>\n",
       "        <td style=\"text-align: left\"><b>3.10.12</b></td>\n",
       "    </tr>\n",
       "    <tr>\n",
       "        <td style=\"text-align: left\"><b>Ray version:</b></td>\n",
       "        <td style=\"text-align: left\"><b>2.9.2</b></td>\n",
       "    </tr>\n",
       "    \n",
       "</table>\n",
       "\n",
       "    </div>\n",
       "</div>\n"
      ]
     },
     "metadata": {},
     "execution_count": 45
    }
   ],
   "source": [
    "import ray\n",
    "ray.shutdown()\n",
    "ray.init(ignore_reinit_error=True, local_mode=True)"
   ],
   "metadata": {
    "colab": {
     "base_uri": "https://localhost:8080/",
     "height": 76
    },
    "id": "II7CAXI-u3AJ",
    "outputId": "abd1d20f-be1d-4cbe-a0cc-a67d935eb4f1"
   }
  },
  {
   "cell_type": "code",
   "execution_count": 46,
   "outputs": [],
   "source": [
    "def get_best_params(config, train_model, scheduler, num_samples=10):\n",
    "    analysis = tune.run(\n",
    "        train_model,\n",
    "        config=config,\n",
    "        num_samples=num_samples,  # Number of times to sample from the hyperparameter space\n",
    "        resources_per_trial={\"cpu\": 8},  # Resources per trial\n",
    "        scheduler=scheduler,\n",
    "        resume=\"AUTO\"\n",
    "    )\n",
    "\n",
    "    return analysis.get_best_config(metric=\"accuracy\", mode=\"max\")"
   ],
   "metadata": {
    "id": "aC58WU_xu3AJ"
   }
  },
  {
   "cell_type": "code",
   "execution_count": 68,
   "outputs": [],
   "source": [
    "# this is the most successful config received by running hyperparameter tuning on Google Colab\n",
    "best_config = {'lr': 0.0151688, 'batch_size': 16, 'epochs': 15, 'step_size': 20, 'gamma': 0.9, 'momentum': 0.8621876688576123}"
   ],
   "metadata": {
    "id": "UTR93zqGu3AJ"
   }
  },
  {
   "cell_type": "markdown",
   "source": [
    "Run this cell to get current best config result"
   ],
   "metadata": {
    "collapsed": false,
    "id": "pun9Dy_BLONb"
   }
  },
  {
   "cell_type": "code",
   "execution_count": 53,
   "outputs": [
    {
     "output_type": "stream",
     "name": "stderr",
     "text": [
      "2024-02-06 11:08:38,622\tINFO tune.py:592 -- [output] This will use the new output engine with verbosity 2. To disable the new output and use the legacy output engine, set the environment variable RAY_AIR_NEW_OUTPUT=0. For more information, please see https://github.com/ray-project/ray/issues/36949\n",
      "2024-02-06 11:08:39,573\tINFO experiment_state.py:402 -- No local checkpoint was found. Starting a new run...\n"
     ]
    },
    {
     "output_type": "stream",
     "name": "stdout",
     "text": [
      "+--------------------------------------------------------------------+\n",
      "| Configuration for experiment     train_model_2024-02-06_11-08-39   |\n",
      "+--------------------------------------------------------------------+\n",
      "| Search algorithm                 BasicVariantGenerator             |\n",
      "| Scheduler                        AsyncHyperBandScheduler           |\n",
      "| Number of trials                 15                                |\n",
      "+--------------------------------------------------------------------+\n",
      "\n",
      "View detailed results here: /root/ray_results/train_model_2024-02-06_11-08-39\n",
      "To visualize your results with TensorBoard, run: `tensorboard --logdir /root/ray_results/train_model_2024-02-06_11-08-39`\n",
      ":task_name:bundle_reservation_check_func\n"
     ]
    },
    {
     "output_type": "stream",
     "name": "stderr",
     "text": [
      ":task_name:bundle_reservation_check_func\n"
     ]
    },
    {
     "output_type": "stream",
     "name": "stdout",
     "text": [
      ":actor_name:ImplicitFunc\n",
      ":actor_name:train_model\n",
      "\n",
      "Trial train_model_14cbf_00000 started with configuration:\n",
      "+--------------------------------------------------+\n",
      "| Trial train_model_14cbf_00000 config             |\n",
      "+--------------------------------------------------+\n",
      "| batch_size                                    16 |\n",
      "| epochs                                        10 |\n",
      "| gamma                                        0.9 |\n",
      "| lr                                       0.01517 |\n",
      "| momentum                                 0.98965 |\n",
      "| step_size                                     10 |\n",
      "+--------------------------------------------------+\n",
      "Start epoch 1\n"
     ]
    },
    {
     "output_type": "stream",
     "name": "stderr",
     "text": [
      ":actor_name:ImplicitFunc\n",
      ":actor_name:train_model\n"
     ]
    },
    {
     "output_type": "stream",
     "name": "stdout",
     "text": [
      "Epoch 3/7, Loss: 0.22839996854680028\n",
      "Save to checkpoint /tmp/tmplghd1973/checkpoint.pt\n",
      "\n",
      "Trial status: 1 RUNNING\n",
      "Current time: 2024-02-06 11:22:39. Total running time: 13min 59s\n",
      "Logical resource usage: 2.0/2 CPUs, 2560.0/1 GPUs (0.0/1.0 accelerator_type:V100)\n",
      "+------------------------------------------------------------------------------------+\n",
      "| Trial name                status       epochs     step_size     gamma     momentum |\n",
      "+------------------------------------------------------------------------------------+\n",
      "| train_model_14cbf_00000   RUNNING          10            10       0.9     0.989646 |\n",
      "+------------------------------------------------------------------------------------+\n",
      "\n",
      "Trial train_model_14cbf_00000 finished iteration 1 at 2024-02-06 11:22:39. Total running time: 13min 59s\n",
      "+--------------------------------------------------+\n",
      "| Trial train_model_14cbf_00000 result             |\n",
      "+--------------------------------------------------+\n",
      "| checkpoint_dir_name                              |\n",
      "| time_this_iter_s                         831.859 |\n",
      "| time_total_s                             831.859 |\n",
      "| training_iteration                             1 |\n",
      "| accuracy                                 0.92431 |\n",
      "| val_loss                                 0.18869 |\n",
      "+--------------------------------------------------+\n",
      "Start epoch 3\n",
      "Epoch 2/10, Loss: 0.7285333778367851\n",
      "Save to checkpoint /tmp/tmpgpiu750c/checkpoint.pt\n",
      "\n",
      "Trial status: 1 RUNNING\n",
      "Current time: 2024-02-06 11:24:16. Total running time: 15min 36s\n",
      "Logical resource usage: 2.0/2 CPUs, 2560.0/1 GPUs (0.0/1.0 accelerator_type:V100)\n",
      "+------------------------------------------------------------------------------------------------------------------------------------------+\n",
      "| Trial name                status       epochs     step_size     gamma     momentum     iter     total time (s)     val_loss     accuracy |\n",
      "+------------------------------------------------------------------------------------------------------------------------------------------+\n",
      "| train_model_14cbf_00000   RUNNING          10            10       0.9     0.989646        1            831.859     0.188688      0.92431 |\n",
      "+------------------------------------------------------------------------------------------------------------------------------------------+\n",
      "\n",
      "Trial train_model_14cbf_00000 finished iteration 2 at 2024-02-06 11:24:16. Total running time: 15min 36s\n",
      "+--------------------------------------------------+\n",
      "| Trial train_model_14cbf_00000 result             |\n",
      "+--------------------------------------------------+\n",
      "| checkpoint_dir_name                              |\n",
      "| time_this_iter_s                         96.9096 |\n",
      "| time_total_s                             928.769 |\n",
      "| training_iteration                             2 |\n",
      "| accuracy                                 0.87011 |\n",
      "| val_loss                                 0.35762 |\n",
      "+--------------------------------------------------+\n",
      "\n",
      "Trial train_model_14cbf_00000 completed after 2 iterations at 2024-02-06 11:24:16. Total running time: 15min 36s\n",
      ":task_name:bundle_reservation_check_func\n",
      ":actor_name:ImplicitFunc\n",
      ":actor_name:train_model\n",
      "\n",
      "Trial train_model_14cbf_00001 started with configuration:\n",
      "+--------------------------------------------------+\n",
      "| Trial train_model_14cbf_00001 config             |\n",
      "+--------------------------------------------------+\n",
      "| batch_size                                    16 |\n",
      "| epochs                                        23 |\n",
      "| gamma                                        0.9 |\n",
      "| lr                                       0.01517 |\n",
      "| momentum                                 0.85765 |\n",
      "| step_size                                     10 |\n",
      "+--------------------------------------------------+\n",
      "Start epoch 1\n"
     ]
    },
    {
     "output_type": "stream",
     "name": "stderr",
     "text": [
      ":task_name:bundle_reservation_check_func\n",
      ":actor_name:ImplicitFunc\n",
      ":actor_name:train_model\n"
     ]
    },
    {
     "output_type": "stream",
     "name": "stdout",
     "text": [
      "Epoch 4/7, Loss: 0.17673377506232385\n",
      "Save to checkpoint /tmp/tmpex0l1z5w/checkpoint.pt\n",
      "\n",
      "Trial status: 1 TERMINATED | 1 RUNNING\n",
      "Current time: 2024-02-06 11:38:20. Total running time: 29min 41s\n",
      "Logical resource usage: 4.0/2 CPUs, 5120.0/1 GPUs (0.0/1.0 accelerator_type:V100)\n",
      "+--------------------------------------------------------------------------------------------------------------------------------------------+\n",
      "| Trial name                status         epochs     step_size     gamma     momentum     iter     total time (s)     val_loss     accuracy |\n",
      "+--------------------------------------------------------------------------------------------------------------------------------------------+\n",
      "| train_model_14cbf_00001   RUNNING            23            10       0.9     0.857647                                                       |\n",
      "| train_model_14cbf_00000   TERMINATED         10            10       0.9     0.989646        2            928.769     0.357619     0.870106 |\n",
      "+--------------------------------------------------------------------------------------------------------------------------------------------+\n",
      "\n",
      "Trial train_model_14cbf_00001 finished iteration 1 at 2024-02-06 11:38:20. Total running time: 29min 41s\n",
      "+--------------------------------------------------+\n",
      "| Trial train_model_14cbf_00001 result             |\n",
      "+--------------------------------------------------+\n",
      "| checkpoint_dir_name                              |\n",
      "| time_this_iter_s                         838.894 |\n",
      "| time_total_s                             838.894 |\n",
      "| training_iteration                             1 |\n",
      "| accuracy                                  0.9326 |\n",
      "| val_loss                                 0.17584 |\n",
      "+--------------------------------------------------+\n",
      "Start epoch 4\n",
      "Epoch 2/23, Loss: 0.297680066194894\n",
      "Save to checkpoint /tmp/tmpkyj792dd/checkpoint.pt\n",
      "\n",
      "Trial status: 1 TERMINATED | 1 RUNNING\n",
      "Current time: 2024-02-06 11:40:01. Total running time: 31min 21s\n",
      "Logical resource usage: 2.0/2 CPUs, 2560.0/1 GPUs (0.0/1.0 accelerator_type:V100)\n",
      "+--------------------------------------------------------------------------------------------------------------------------------------------+\n",
      "| Trial name                status         epochs     step_size     gamma     momentum     iter     total time (s)     val_loss     accuracy |\n",
      "+--------------------------------------------------------------------------------------------------------------------------------------------+\n",
      "| train_model_14cbf_00001   RUNNING            23            10       0.9     0.857647        1            838.894     0.175838     0.932599 |\n",
      "| train_model_14cbf_00000   TERMINATED         10            10       0.9     0.989646        2            928.769     0.357619     0.870106 |\n",
      "+--------------------------------------------------------------------------------------------------------------------------------------------+\n",
      "\n",
      "Trial train_model_14cbf_00001 finished iteration 2 at 2024-02-06 11:40:01. Total running time: 31min 21s\n",
      "+--------------------------------------------------+\n",
      "| Trial train_model_14cbf_00001 result             |\n",
      "+--------------------------------------------------+\n",
      "| checkpoint_dir_name                              |\n",
      "| time_this_iter_s                         100.233 |\n",
      "| time_total_s                             939.126 |\n",
      "| training_iteration                             2 |\n",
      "| accuracy                                 0.90217 |\n",
      "| val_loss                                  0.2671 |\n",
      "+--------------------------------------------------+\n",
      "Start epoch 2\n",
      "Epoch 5/7, Loss: 0.15279311094062242\n",
      "Save to checkpoint /tmp/tmpt1ujerpv/checkpoint.pt\n",
      "\n",
      "Trial status: 1 TERMINATED | 1 RUNNING\n",
      "Current time: 2024-02-06 11:53:59. Total running time: 45min 19s\n",
      "Logical resource usage: 2.0/2 CPUs, 2560.0/1 GPUs (0.0/1.0 accelerator_type:V100)\n",
      "+--------------------------------------------------------------------------------------------------------------------------------------------+\n",
      "| Trial name                status         epochs     step_size     gamma     momentum     iter     total time (s)     val_loss     accuracy |\n",
      "+--------------------------------------------------------------------------------------------------------------------------------------------+\n",
      "| train_model_14cbf_00001   RUNNING            23            10       0.9     0.857647        2            939.126     0.267099     0.90217  |\n",
      "| train_model_14cbf_00000   TERMINATED         10            10       0.9     0.989646        2            928.769     0.357619     0.870106 |\n",
      "+--------------------------------------------------------------------------------------------------------------------------------------------+\n",
      "\n",
      "Trial train_model_14cbf_00001 finished iteration 3 at 2024-02-06 11:53:59. Total running time: 45min 19s\n",
      "+--------------------------------------------------+\n",
      "| Trial train_model_14cbf_00001 result             |\n",
      "+--------------------------------------------------+\n",
      "| checkpoint_dir_name                              |\n",
      "| time_this_iter_s                         837.919 |\n",
      "| time_total_s                             1777.05 |\n",
      "| training_iteration                             3 |\n",
      "| accuracy                                 0.92867 |\n",
      "| val_loss                                 0.19102 |\n",
      "+--------------------------------------------------+\n",
      "Start epoch 5\n",
      "Epoch 3/23, Loss: 0.2664987932379483\n",
      "Save to checkpoint /tmp/tmp4qkv4cd_/checkpoint.pt\n",
      "\n",
      "Trial status: 1 TERMINATED | 1 RUNNING\n",
      "Current time: 2024-02-06 11:55:38. Total running time: 46min 58s\n",
      "Logical resource usage: 2.0/2 CPUs, 2560.0/1 GPUs (0.0/1.0 accelerator_type:V100)\n",
      "+--------------------------------------------------------------------------------------------------------------------------------------------+\n",
      "| Trial name                status         epochs     step_size     gamma     momentum     iter     total time (s)     val_loss     accuracy |\n",
      "+--------------------------------------------------------------------------------------------------------------------------------------------+\n",
      "| train_model_14cbf_00001   RUNNING            23            10       0.9     0.857647        3           1777.05      0.191016     0.928673 |\n",
      "| train_model_14cbf_00000   TERMINATED         10            10       0.9     0.989646        2            928.769     0.357619     0.870106 |\n",
      "+--------------------------------------------------------------------------------------------------------------------------------------------+\n",
      "\n",
      "Trial train_model_14cbf_00001 finished iteration 4 at 2024-02-06 11:55:38. Total running time: 46min 58s\n",
      "+--------------------------------------------------+\n",
      "| Trial train_model_14cbf_00001 result             |\n",
      "+--------------------------------------------------+\n",
      "| checkpoint_dir_name                              |\n",
      "| time_this_iter_s                         99.0272 |\n",
      "| time_total_s                             1876.07 |\n",
      "| training_iteration                             4 |\n",
      "| accuracy                                 0.90577 |\n",
      "| val_loss                                 0.24754 |\n",
      "+--------------------------------------------------+\n",
      "\n",
      "Trial train_model_14cbf_00001 completed after 4 iterations at 2024-02-06 11:55:38. Total running time: 46min 58s\n",
      ":task_name:bundle_reservation_check_func\n",
      ":actor_name:ImplicitFunc\n",
      ":actor_name:train_model\n",
      "\n",
      "Trial train_model_14cbf_00002 started with configuration:\n",
      "+--------------------------------------------------+\n",
      "| Trial train_model_14cbf_00002 config             |\n",
      "+--------------------------------------------------+\n",
      "| batch_size                                    16 |\n",
      "| epochs                                        15 |\n",
      "| gamma                                        0.9 |\n",
      "| lr                                       0.01517 |\n",
      "| momentum                                 0.86219 |\n",
      "| step_size                                     20 |\n",
      "+--------------------------------------------------+\n",
      "Start epoch 1\n"
     ]
    },
    {
     "output_type": "stream",
     "name": "stderr",
     "text": [
      ":task_name:bundle_reservation_check_func\n",
      ":actor_name:ImplicitFunc\n",
      ":actor_name:train_model\n"
     ]
    },
    {
     "output_type": "stream",
     "name": "stdout",
     "text": [
      "Epoch 6/7, Loss: 0.14126097518839542\n",
      "Save to checkpoint /tmp/tmpez4cgmln/checkpoint.pt\n",
      "\n",
      "Trial status: 2 TERMINATED | 1 RUNNING\n",
      "Current time: 2024-02-06 12:09:46. Total running time: 1hr 1min 6s\n",
      "Logical resource usage: 2.0/2 CPUs, 2560.0/1 GPUs (0.0/1.0 accelerator_type:V100)\n",
      "+--------------------------------------------------------------------------------------------------------------------------------------------+\n",
      "| Trial name                status         epochs     step_size     gamma     momentum     iter     total time (s)     val_loss     accuracy |\n",
      "+--------------------------------------------------------------------------------------------------------------------------------------------+\n",
      "| train_model_14cbf_00002   RUNNING            15            20       0.9     0.862188                                                       |\n",
      "| train_model_14cbf_00000   TERMINATED         10            10       0.9     0.989646        2            928.769     0.357619     0.870106 |\n",
      "| train_model_14cbf_00001   TERMINATED         23            10       0.9     0.857647        4           1876.07      0.247543     0.905769 |\n",
      "+--------------------------------------------------------------------------------------------------------------------------------------------+\n",
      "\n",
      "Trial train_model_14cbf_00002 finished iteration 1 at 2024-02-06 12:09:46. Total running time: 1hr 1min 6s\n",
      "+--------------------------------------------------+\n",
      "| Trial train_model_14cbf_00002 result             |\n",
      "+--------------------------------------------------+\n",
      "| checkpoint_dir_name                              |\n",
      "| time_this_iter_s                         844.182 |\n",
      "| time_total_s                             844.182 |\n",
      "| training_iteration                             1 |\n",
      "| accuracy                                 0.93991 |\n",
      "| val_loss                                  0.1575 |\n",
      "+--------------------------------------------------+\n",
      "Start epoch 6\n",
      "Epoch 2/15, Loss: 0.24410248803316956\n",
      "Save to checkpoint /tmp/tmpcm8lapzl/checkpoint.pt\n",
      "\n",
      "Trial status: 2 TERMINATED | 1 RUNNING\n",
      "Current time: 2024-02-06 12:11:23. Total running time: 1hr 2min 43s\n",
      "Logical resource usage: 2.0/2 CPUs, 2560.0/1 GPUs (0.0/1.0 accelerator_type:V100)\n",
      "+--------------------------------------------------------------------------------------------------------------------------------------------+\n",
      "| Trial name                status         epochs     step_size     gamma     momentum     iter     total time (s)     val_loss     accuracy |\n",
      "+--------------------------------------------------------------------------------------------------------------------------------------------+\n",
      "| train_model_14cbf_00002   RUNNING            15            20       0.9     0.862188        1            844.182     0.157496     0.939906 |\n",
      "| train_model_14cbf_00000   TERMINATED         10            10       0.9     0.989646        2            928.769     0.357619     0.870106 |\n",
      "| train_model_14cbf_00001   TERMINATED         23            10       0.9     0.857647        4           1876.07      0.247543     0.905769 |\n",
      "+--------------------------------------------------------------------------------------------------------------------------------------------+\n",
      "\n",
      "Trial train_model_14cbf_00002 finished iteration 2 at 2024-02-06 12:11:23. Total running time: 1hr 2min 43s\n",
      "+--------------------------------------------------+\n",
      "| Trial train_model_14cbf_00002 result             |\n",
      "+--------------------------------------------------+\n",
      "| checkpoint_dir_name                              |\n",
      "| time_this_iter_s                         96.9353 |\n",
      "| time_total_s                             941.117 |\n",
      "| training_iteration                             2 |\n",
      "| accuracy                                 0.91144 |\n",
      "| val_loss                                 0.23239 |\n",
      "+--------------------------------------------------+\n",
      "Start epoch 2\n",
      "Epoch 7/7, Loss: 0.12801058788159203\n",
      "Save to checkpoint /tmp/tmptpf_6os3/checkpoint.pt\n",
      "\n",
      "Trial status: 2 TERMINATED | 1 RUNNING\n",
      "Current time: 2024-02-06 12:25:08. Total running time: 1hr 16min 29s\n",
      "Logical resource usage: 2.0/2 CPUs, 2560.0/1 GPUs (0.0/1.0 accelerator_type:V100)\n",
      "+--------------------------------------------------------------------------------------------------------------------------------------------+\n",
      "| Trial name                status         epochs     step_size     gamma     momentum     iter     total time (s)     val_loss     accuracy |\n",
      "+--------------------------------------------------------------------------------------------------------------------------------------------+\n",
      "| train_model_14cbf_00002   RUNNING            15            20       0.9     0.862188        2            941.117     0.232389     0.911441 |\n",
      "| train_model_14cbf_00000   TERMINATED         10            10       0.9     0.989646        2            928.769     0.357619     0.870106 |\n",
      "| train_model_14cbf_00001   TERMINATED         23            10       0.9     0.857647        4           1876.07      0.247543     0.905769 |\n",
      "+--------------------------------------------------------------------------------------------------------------------------------------------+\n",
      "\n",
      "Trial train_model_14cbf_00002 finished iteration 3 at 2024-02-06 12:25:08. Total running time: 1hr 16min 29s\n",
      "+--------------------------------------------------+\n",
      "| Trial train_model_14cbf_00002 result             |\n",
      "+--------------------------------------------------+\n",
      "| checkpoint_dir_name                              |\n",
      "| time_this_iter_s                         825.248 |\n",
      "| time_total_s                             1766.37 |\n",
      "| training_iteration                             3 |\n",
      "| accuracy                                 0.94121 |\n",
      "| val_loss                                 0.15928 |\n",
      "+--------------------------------------------------+\n",
      "\n",
      "Trial train_model_14cbf_00002 completed after 3 iterations at 2024-02-06 12:25:08. Total running time: 1hr 16min 29s\n",
      ":task_name:bundle_reservation_check_func\n",
      ":actor_name:ImplicitFunc\n",
      ":actor_name:train_model\n",
      "\n",
      "Trial train_model_14cbf_00003 started with configuration:\n",
      "+--------------------------------------------------+\n",
      "| Trial train_model_14cbf_00003 config             |\n",
      "+--------------------------------------------------+\n",
      "| batch_size                                    16 |\n",
      "| epochs                                        18 |\n",
      "| gamma                                        0.1 |\n",
      "| lr                                       0.01517 |\n",
      "| momentum                                 0.87154 |\n",
      "| step_size                                     20 |\n",
      "+--------------------------------------------------+\n",
      "Start epoch 1\n"
     ]
    },
    {
     "output_type": "stream",
     "name": "stderr",
     "text": [
      ":task_name:bundle_reservation_check_func\n",
      ":actor_name:ImplicitFunc\n",
      ":actor_name:train_model\n"
     ]
    },
    {
     "output_type": "stream",
     "name": "stdout",
     "text": [
      "Epoch 3/15, Loss: 0.22712422775793484\n",
      "Save to checkpoint /tmp/tmpuuwok2se/checkpoint.pt\n",
      "\n",
      "Trial status: 3 TERMINATED | 1 RUNNING\n",
      "Current time: 2024-02-06 12:26:50. Total running time: 1hr 18min 10s\n",
      "Logical resource usage: 2.0/2 CPUs, 2560.0/1 GPUs (0.0/1.0 accelerator_type:V100)\n",
      "+--------------------------------------------------------------------------------------------------------------------------------------------+\n",
      "| Trial name                status         epochs     step_size     gamma     momentum     iter     total time (s)     val_loss     accuracy |\n",
      "+--------------------------------------------------------------------------------------------------------------------------------------------+\n",
      "| train_model_14cbf_00003   RUNNING            18            20       0.1     0.871538                                                       |\n",
      "| train_model_14cbf_00000   TERMINATED         10            10       0.9     0.989646        2            928.769     0.357619     0.870106 |\n",
      "| train_model_14cbf_00001   TERMINATED         23            10       0.9     0.857647        4           1876.07      0.247543     0.905769 |\n",
      "| train_model_14cbf_00002   TERMINATED         15            20       0.9     0.862188        3           1766.37      0.15928      0.941215 |\n",
      "+--------------------------------------------------------------------------------------------------------------------------------------------+\n",
      "\n",
      "Trial train_model_14cbf_00003 finished iteration 1 at 2024-02-06 12:26:50. Total running time: 1hr 18min 10s\n",
      "+--------------------------------------------------+\n",
      "| Trial train_model_14cbf_00003 result             |\n",
      "+--------------------------------------------------+\n",
      "| checkpoint_dir_name                              |\n",
      "| time_this_iter_s                         96.5838 |\n",
      "| time_total_s                             96.5838 |\n",
      "| training_iteration                             1 |\n",
      "| accuracy                                  0.9134 |\n",
      "| val_loss                                 0.22745 |\n",
      "+--------------------------------------------------+\n",
      "Start epoch 3\n",
      "Epoch 2/18, Loss: 0.21271463566900134\n",
      "Save to checkpoint /tmp/tmpg0n95af5/checkpoint.pt\n",
      "\n",
      "Trial status: 3 TERMINATED | 1 RUNNING\n",
      "Current time: 2024-02-06 12:35:53. Total running time: 1hr 27min 13s\n",
      "Logical resource usage: 2.0/2 CPUs, 2560.0/1 GPUs (0.0/1.0 accelerator_type:V100)\n",
      "+--------------------------------------------------------------------------------------------------------------------------------------------+\n",
      "| Trial name                status         epochs     step_size     gamma     momentum     iter     total time (s)     val_loss     accuracy |\n",
      "+--------------------------------------------------------------------------------------------------------------------------------------------+\n",
      "| train_model_14cbf_00003   RUNNING            18            20       0.1     0.871538        1            96.5838     0.227447     0.913404 |\n",
      "| train_model_14cbf_00000   TERMINATED         10            10       0.9     0.989646        2           928.769      0.357619     0.870106 |\n",
      "| train_model_14cbf_00001   TERMINATED         23            10       0.9     0.857647        4          1876.07       0.247543     0.905769 |\n",
      "| train_model_14cbf_00002   TERMINATED         15            20       0.9     0.862188        3          1766.37       0.15928      0.941215 |\n",
      "+--------------------------------------------------------------------------------------------------------------------------------------------+\n",
      "\n",
      "Trial train_model_14cbf_00003 finished iteration 2 at 2024-02-06 12:35:53. Total running time: 1hr 27min 13s\n",
      "+--------------------------------------------------+\n",
      "| Trial train_model_14cbf_00003 result             |\n",
      "+--------------------------------------------------+\n",
      "| checkpoint_dir_name                              |\n",
      "| time_this_iter_s                         543.339 |\n",
      "| time_total_s                             639.923 |\n",
      "| training_iteration                             2 |\n",
      "| accuracy                                 0.92278 |\n",
      "| val_loss                                 0.20625 |\n",
      "+--------------------------------------------------+\n",
      "Start epoch 2\n",
      "Epoch 3/18, Loss: 0.2018139957618947\n",
      "Save to checkpoint /tmp/tmpbzms6vog/checkpoint.pt\n",
      "\n",
      "Trial status: 3 TERMINATED | 1 RUNNING\n",
      "Current time: 2024-02-06 12:46:19. Total running time: 1hr 37min 40s\n",
      "Logical resource usage: 2.0/2 CPUs, 2560.0/1 GPUs (0.0/1.0 accelerator_type:V100)\n",
      "+--------------------------------------------------------------------------------------------------------------------------------------------+\n",
      "| Trial name                status         epochs     step_size     gamma     momentum     iter     total time (s)     val_loss     accuracy |\n",
      "+--------------------------------------------------------------------------------------------------------------------------------------------+\n",
      "| train_model_14cbf_00003   RUNNING            18            20       0.1     0.871538        2            639.923     0.206252     0.922783 |\n",
      "| train_model_14cbf_00000   TERMINATED         10            10       0.9     0.989646        2            928.769     0.357619     0.870106 |\n",
      "| train_model_14cbf_00001   TERMINATED         23            10       0.9     0.857647        4           1876.07      0.247543     0.905769 |\n",
      "| train_model_14cbf_00002   TERMINATED         15            20       0.9     0.862188        3           1766.37      0.15928      0.941215 |\n",
      "+--------------------------------------------------------------------------------------------------------------------------------------------+\n",
      "\n",
      "Trial train_model_14cbf_00003 finished iteration 3 at 2024-02-06 12:46:19. Total running time: 1hr 37min 40s\n",
      "+--------------------------------------------------+\n",
      "| Trial train_model_14cbf_00003 result             |\n",
      "+--------------------------------------------------+\n",
      "| checkpoint_dir_name                              |\n",
      "| time_this_iter_s                         626.201 |\n",
      "| time_total_s                             1266.12 |\n",
      "| training_iteration                             3 |\n",
      "| accuracy                                 0.92507 |\n",
      "| val_loss                                 0.19804 |\n",
      "+--------------------------------------------------+\n",
      "Start epoch 3\n",
      "Epoch 4/18, Loss: 0.18829119598731156\n",
      "Save to checkpoint /tmp/tmpgezl18ck/checkpoint.pt\n",
      "\n",
      "Trial status: 3 TERMINATED | 1 RUNNING\n",
      "Current time: 2024-02-06 12:56:14. Total running time: 1hr 47min 35s\n",
      "Logical resource usage: 2.0/2 CPUs, 2560.0/1 GPUs (0.0/1.0 accelerator_type:V100)\n",
      "+--------------------------------------------------------------------------------------------------------------------------------------------+\n",
      "| Trial name                status         epochs     step_size     gamma     momentum     iter     total time (s)     val_loss     accuracy |\n",
      "+--------------------------------------------------------------------------------------------------------------------------------------------+\n",
      "| train_model_14cbf_00003   RUNNING            18            20       0.1     0.871538        3           1266.12      0.198044     0.925074 |\n",
      "| train_model_14cbf_00000   TERMINATED         10            10       0.9     0.989646        2            928.769     0.357619     0.870106 |\n",
      "| train_model_14cbf_00001   TERMINATED         23            10       0.9     0.857647        4           1876.07      0.247543     0.905769 |\n",
      "| train_model_14cbf_00002   TERMINATED         15            20       0.9     0.862188        3           1766.37      0.15928      0.941215 |\n",
      "+--------------------------------------------------------------------------------------------------------------------------------------------+\n",
      "\n",
      "Trial train_model_14cbf_00003 finished iteration 4 at 2024-02-06 12:56:14. Total running time: 1hr 47min 35s\n",
      "+--------------------------------------------------+\n",
      "| Trial train_model_14cbf_00003 result             |\n",
      "+--------------------------------------------------+\n",
      "| checkpoint_dir_name                              |\n",
      "| time_this_iter_s                         595.102 |\n",
      "| time_total_s                             1861.23 |\n",
      "| training_iteration                             4 |\n",
      "| accuracy                                 0.92551 |\n",
      "| val_loss                                  0.1896 |\n",
      "+--------------------------------------------------+\n",
      "Start epoch 4\n",
      "Epoch 5/18, Loss: 0.1781524612888858\n",
      "Save to checkpoint /tmp/tmpu6aftlqv/checkpoint.pt\n",
      "\n",
      "Trial status: 3 TERMINATED | 1 RUNNING\n",
      "Current time: 2024-02-06 13:06:04. Total running time: 1hr 57min 25s\n",
      "Logical resource usage: 2.0/2 CPUs, 2560.0/1 GPUs (0.0/1.0 accelerator_type:V100)\n",
      "+--------------------------------------------------------------------------------------------------------------------------------------------+\n",
      "| Trial name                status         epochs     step_size     gamma     momentum     iter     total time (s)     val_loss     accuracy |\n",
      "+--------------------------------------------------------------------------------------------------------------------------------------------+\n",
      "| train_model_14cbf_00003   RUNNING            18            20       0.1     0.871538        4           1861.23      0.189601     0.92551  |\n",
      "| train_model_14cbf_00000   TERMINATED         10            10       0.9     0.989646        2            928.769     0.357619     0.870106 |\n",
      "| train_model_14cbf_00001   TERMINATED         23            10       0.9     0.857647        4           1876.07      0.247543     0.905769 |\n",
      "| train_model_14cbf_00002   TERMINATED         15            20       0.9     0.862188        3           1766.37      0.15928      0.941215 |\n",
      "+--------------------------------------------------------------------------------------------------------------------------------------------+\n",
      "\n",
      "Trial train_model_14cbf_00003 finished iteration 5 at 2024-02-06 13:06:04. Total running time: 1hr 57min 25s\n",
      "+--------------------------------------------------+\n",
      "| Trial train_model_14cbf_00003 result             |\n",
      "+--------------------------------------------------+\n",
      "| checkpoint_dir_name                              |\n",
      "| time_this_iter_s                         589.649 |\n",
      "| time_total_s                             2450.87 |\n",
      "| training_iteration                             5 |\n",
      "| accuracy                                 0.92824 |\n",
      "| val_loss                                 0.18491 |\n",
      "+--------------------------------------------------+\n",
      "Start epoch 5\n",
      "Epoch 6/18, Loss: 0.16751628858853615\n",
      "Save to checkpoint /tmp/tmphifhoz4i/checkpoint.pt\n",
      "\n",
      "Trial status: 3 TERMINATED | 1 RUNNING\n",
      "Current time: 2024-02-06 13:16:16. Total running time: 2hr 7min 37s\n",
      "Logical resource usage: 2.0/2 CPUs, 2560.0/1 GPUs (0.0/1.0 accelerator_type:V100)\n",
      "+--------------------------------------------------------------------------------------------------------------------------------------------+\n",
      "| Trial name                status         epochs     step_size     gamma     momentum     iter     total time (s)     val_loss     accuracy |\n",
      "+--------------------------------------------------------------------------------------------------------------------------------------------+\n",
      "| train_model_14cbf_00003   RUNNING            18            20       0.1     0.871538        5           2450.87      0.18491      0.928236 |\n",
      "| train_model_14cbf_00000   TERMINATED         10            10       0.9     0.989646        2            928.769     0.357619     0.870106 |\n",
      "| train_model_14cbf_00001   TERMINATED         23            10       0.9     0.857647        4           1876.07      0.247543     0.905769 |\n",
      "| train_model_14cbf_00002   TERMINATED         15            20       0.9     0.862188        3           1766.37      0.15928      0.941215 |\n",
      "+--------------------------------------------------------------------------------------------------------------------------------------------+\n",
      "\n",
      "Trial train_model_14cbf_00003 finished iteration 6 at 2024-02-06 13:16:16. Total running time: 2hr 7min 37s\n",
      "+--------------------------------------------------+\n",
      "| Trial train_model_14cbf_00003 result             |\n",
      "+--------------------------------------------------+\n",
      "| checkpoint_dir_name                              |\n",
      "| time_this_iter_s                         612.016 |\n",
      "| time_total_s                             3062.89 |\n",
      "| training_iteration                             6 |\n",
      "| accuracy                                  0.9314 |\n",
      "| val_loss                                 0.17973 |\n",
      "+--------------------------------------------------+\n",
      "Start epoch 6\n",
      "Epoch 7/18, Loss: 0.15635249613189983\n",
      "Save to checkpoint /tmp/tmpl_y845ur/checkpoint.pt\n",
      "\n",
      "Trial status: 3 TERMINATED | 1 RUNNING\n",
      "Current time: 2024-02-06 13:26:50. Total running time: 2hr 18min 10s\n",
      "Logical resource usage: 2.0/2 CPUs, 2560.0/1 GPUs (0.0/1.0 accelerator_type:V100)\n",
      "+--------------------------------------------------------------------------------------------------------------------------------------------+\n",
      "| Trial name                status         epochs     step_size     gamma     momentum     iter     total time (s)     val_loss     accuracy |\n",
      "+--------------------------------------------------------------------------------------------------------------------------------------------+\n",
      "| train_model_14cbf_00003   RUNNING            18            20       0.1     0.871538        6           3062.89      0.179728     0.931399 |\n",
      "| train_model_14cbf_00000   TERMINATED         10            10       0.9     0.989646        2            928.769     0.357619     0.870106 |\n",
      "| train_model_14cbf_00001   TERMINATED         23            10       0.9     0.857647        4           1876.07      0.247543     0.905769 |\n",
      "| train_model_14cbf_00002   TERMINATED         15            20       0.9     0.862188        3           1766.37      0.15928      0.941215 |\n",
      "+--------------------------------------------------------------------------------------------------------------------------------------------+\n",
      "\n",
      "Trial train_model_14cbf_00003 finished iteration 7 at 2024-02-06 13:26:50. Total running time: 2hr 18min 10s\n",
      "+--------------------------------------------------+\n",
      "| Trial train_model_14cbf_00003 result             |\n",
      "+--------------------------------------------------+\n",
      "| checkpoint_dir_name                              |\n",
      "| time_this_iter_s                         633.652 |\n",
      "| time_total_s                             3696.54 |\n",
      "| training_iteration                             7 |\n",
      "| accuracy                                 0.93402 |\n",
      "| val_loss                                 0.17733 |\n",
      "+--------------------------------------------------+\n",
      "Start epoch 7\n",
      "Epoch 8/18, Loss: 0.15285586942856202\n",
      "Save to checkpoint /tmp/tmpezl3nh1w/checkpoint.pt\n",
      "\n",
      "Trial status: 3 TERMINATED | 1 RUNNING\n",
      "Current time: 2024-02-06 13:37:29. Total running time: 2hr 28min 49s\n",
      "Logical resource usage: 2.0/2 CPUs, 2560.0/1 GPUs (0.0/1.0 accelerator_type:V100)\n",
      "+--------------------------------------------------------------------------------------------------------------------------------------------+\n",
      "| Trial name                status         epochs     step_size     gamma     momentum     iter     total time (s)     val_loss     accuracy |\n",
      "+--------------------------------------------------------------------------------------------------------------------------------------------+\n",
      "| train_model_14cbf_00003   RUNNING            18            20       0.1     0.871538        7           3696.54      0.177326     0.934017 |\n",
      "| train_model_14cbf_00000   TERMINATED         10            10       0.9     0.989646        2            928.769     0.357619     0.870106 |\n",
      "| train_model_14cbf_00001   TERMINATED         23            10       0.9     0.857647        4           1876.07      0.247543     0.905769 |\n",
      "| train_model_14cbf_00002   TERMINATED         15            20       0.9     0.862188        3           1766.37      0.15928      0.941215 |\n",
      "+--------------------------------------------------------------------------------------------------------------------------------------------+\n",
      "\n",
      "Trial train_model_14cbf_00003 finished iteration 8 at 2024-02-06 13:37:29. Total running time: 2hr 28min 49s\n",
      "+--------------------------------------------------+\n",
      "| Trial train_model_14cbf_00003 result             |\n",
      "+--------------------------------------------------+\n",
      "| checkpoint_dir_name                              |\n",
      "| time_this_iter_s                         638.637 |\n",
      "| time_total_s                             4335.18 |\n",
      "| training_iteration                             8 |\n",
      "| accuracy                                 0.93402 |\n",
      "| val_loss                                 0.17413 |\n",
      "+--------------------------------------------------+\n",
      "Start epoch 8\n",
      "Epoch 9/18, Loss: 0.14275861580979138\n",
      "Save to checkpoint /tmp/tmp1mz6tfz3/checkpoint.pt\n",
      "\n",
      "Trial status: 3 TERMINATED | 1 RUNNING\n",
      "Current time: 2024-02-06 13:47:50. Total running time: 2hr 39min 11s\n",
      "Logical resource usage: 2.0/2 CPUs, 2560.0/1 GPUs (0.0/1.0 accelerator_type:V100)\n",
      "+--------------------------------------------------------------------------------------------------------------------------------------------+\n",
      "| Trial name                status         epochs     step_size     gamma     momentum     iter     total time (s)     val_loss     accuracy |\n",
      "+--------------------------------------------------------------------------------------------------------------------------------------------+\n",
      "| train_model_14cbf_00003   RUNNING            18            20       0.1     0.871538        8           4335.18      0.174126     0.934017 |\n",
      "| train_model_14cbf_00000   TERMINATED         10            10       0.9     0.989646        2            928.769     0.357619     0.870106 |\n",
      "| train_model_14cbf_00001   TERMINATED         23            10       0.9     0.857647        4           1876.07      0.247543     0.905769 |\n",
      "| train_model_14cbf_00002   TERMINATED         15            20       0.9     0.862188        3           1766.37      0.15928      0.941215 |\n",
      "+--------------------------------------------------------------------------------------------------------------------------------------------+\n",
      "\n",
      "Trial train_model_14cbf_00003 finished iteration 9 at 2024-02-06 13:47:50. Total running time: 2hr 39min 11s\n",
      "+--------------------------------------------------+\n",
      "| Trial train_model_14cbf_00003 result             |\n",
      "+--------------------------------------------------+\n",
      "| checkpoint_dir_name                              |\n",
      "| time_this_iter_s                         621.331 |\n",
      "| time_total_s                             4956.51 |\n",
      "| training_iteration                             9 |\n",
      "| accuracy                                 0.93587 |\n",
      "| val_loss                                 0.16568 |\n",
      "+--------------------------------------------------+\n",
      "Start epoch 9\n",
      "Epoch 10/18, Loss: 0.13603027266740933\n",
      "Save to checkpoint /tmp/tmpvgtzohal/checkpoint.pt\n",
      "\n",
      "Trial status: 3 TERMINATED | 1 RUNNING\n",
      "Current time: 2024-02-06 13:58:20. Total running time: 2hr 49min 40s\n",
      "Logical resource usage: 2.0/2 CPUs, 2560.0/1 GPUs (0.0/1.0 accelerator_type:V100)\n",
      "+--------------------------------------------------------------------------------------------------------------------------------------------+\n",
      "| Trial name                status         epochs     step_size     gamma     momentum     iter     total time (s)     val_loss     accuracy |\n",
      "+--------------------------------------------------------------------------------------------------------------------------------------------+\n",
      "| train_model_14cbf_00003   RUNNING            18            20       0.1     0.871538        9           4956.51      0.165684     0.935871 |\n",
      "| train_model_14cbf_00000   TERMINATED         10            10       0.9     0.989646        2            928.769     0.357619     0.870106 |\n",
      "| train_model_14cbf_00001   TERMINATED         23            10       0.9     0.857647        4           1876.07      0.247543     0.905769 |\n",
      "| train_model_14cbf_00002   TERMINATED         15            20       0.9     0.862188        3           1766.37      0.15928      0.941215 |\n",
      "+--------------------------------------------------------------------------------------------------------------------------------------------+\n",
      "\n",
      "Trial train_model_14cbf_00003 finished iteration 10 at 2024-02-06 13:58:20. Total running time: 2hr 49min 40s\n",
      "+--------------------------------------------------+\n",
      "| Trial train_model_14cbf_00003 result             |\n",
      "+--------------------------------------------------+\n",
      "| checkpoint_dir_name                              |\n",
      "| time_this_iter_s                         629.298 |\n",
      "| time_total_s                             5585.81 |\n",
      "| training_iteration                            10 |\n",
      "| accuracy                                   0.935 |\n",
      "| val_loss                                 0.16735 |\n",
      "+--------------------------------------------------+\n",
      "Start epoch 10\n"
     ]
    },
    {
     "output_type": "stream",
     "name": "stderr",
     "text": [
      "2024-02-06 13:58:45,000\tWARNING tune.py:186 -- Stop signal received (e.g. via SIGINT/Ctrl+C), ending Ray Tune run. This will try to checkpoint the experiment state one last time. Press CTRL+C (or send SIGINT/SIGKILL/SIGTERM) to skip. \n"
     ]
    },
    {
     "output_type": "stream",
     "name": "stdout",
     "text": [
      "Epoch 11/18, Loss: 0.12940649024106132\n",
      "Save to checkpoint /tmp/tmphi1n7f4w/checkpoint.pt\n"
     ]
    },
    {
     "output_type": "stream",
     "name": "stderr",
     "text": [
      "2024-02-06 14:08:42,374\tWARNING tune.py:1057 -- Experiment has been interrupted, but the most recent state was saved.\n",
      "Resume experiment with: tune.run(..., resume=True)\n"
     ]
    },
    {
     "output_type": "stream",
     "name": "stdout",
     "text": [
      "\n",
      "Trial status: 3 TERMINATED | 1 RUNNING\n",
      "Current time: 2024-02-06 14:08:42. Total running time: 3hr 0min 2s\n",
      "Logical resource usage: 2.0/2 CPUs, 2560.0/1 GPUs (0.0/1.0 accelerator_type:V100)\n",
      "+--------------------------------------------------------------------------------------------------------------------------------------------+\n",
      "| Trial name                status         epochs     step_size     gamma     momentum     iter     total time (s)     val_loss     accuracy |\n",
      "+--------------------------------------------------------------------------------------------------------------------------------------------+\n",
      "| train_model_14cbf_00003   RUNNING            18            20       0.1     0.871538       10           5585.81      0.167346     0.934998 |\n",
      "| train_model_14cbf_00000   TERMINATED         10            10       0.9     0.989646        2            928.769     0.357619     0.870106 |\n",
      "| train_model_14cbf_00001   TERMINATED         23            10       0.9     0.857647        4           1876.07      0.247543     0.905769 |\n",
      "| train_model_14cbf_00002   TERMINATED         15            20       0.9     0.862188        3           1766.37      0.15928      0.941215 |\n",
      "+--------------------------------------------------------------------------------------------------------------------------------------------+\n",
      "Trial status: 3 TERMINATED | 1 RUNNING\n",
      "Current time: 2024-02-06 14:08:42. Total running time: 3hr 0min 2s\n",
      "Logical resource usage: 2.0/2 CPUs, 2560.0/1 GPUs (0.0/1.0 accelerator_type:V100)\n",
      "+--------------------------------------------------------------------------------------------------------------------------------------------+\n",
      "| Trial name                status         epochs     step_size     gamma     momentum     iter     total time (s)     val_loss     accuracy |\n",
      "+--------------------------------------------------------------------------------------------------------------------------------------------+\n",
      "| train_model_14cbf_00003   RUNNING            18            20       0.1     0.871538       10           5585.81      0.167346     0.934998 |\n",
      "| train_model_14cbf_00000   TERMINATED         10            10       0.9     0.989646        2            928.769     0.357619     0.870106 |\n",
      "| train_model_14cbf_00001   TERMINATED         23            10       0.9     0.857647        4           1876.07      0.247543     0.905769 |\n",
      "| train_model_14cbf_00002   TERMINATED         15            20       0.9     0.862188        3           1766.37      0.15928      0.941215 |\n",
      "+--------------------------------------------------------------------------------------------------------------------------------------------+\n",
      "\n",
      "Best config:  {'lr': 0.0151688, 'batch_size': 16, 'epochs': 15, 'step_size': 20, 'gamma': 0.9, 'momentum': 0.8621876688576123}\n"
     ]
    }
   ],
   "source": [
    "best_config = get_best_params(config, train_model, scheduler, 15)\n",
    "print(\"Best config: \", best_config)"
   ],
   "metadata": {
    "colab": {
     "base_uri": "https://localhost:8080/"
    },
    "id": "s4sudUQQLONb",
    "outputId": "6ce435aa-9dee-4ecd-8850-ce946d304c7f"
   }
  },
  {
   "cell_type": "markdown",
   "source": [
    "### Training the model with optimal hyperparameters\n"
   ],
   "metadata": {
    "collapsed": false,
    "id": "bOkg4VSYu3AK"
   }
  },
  {
   "cell_type": "code",
   "execution_count": 23,
   "outputs": [
    {
     "metadata": {
      "tags": null
     },
     "name": "stderr",
     "output_type": "stream",
     "text": [
      "/usr/local/lib/python3.10/dist-packages/ray/train/_internal/session.py:638: UserWarning: `get_checkpoint` is meant to only be called inside a function that is executed by a Tuner or Trainer. Returning `None`.\n",
      "  warnings.warn(\n"
     ]
    },
    {
     "metadata": {
      "tags": null
     },
     "name": "stdout",
     "output_type": "stream",
     "text": [
      "Start epoch 1\n",
      "Epoch 2/15, Loss: 0.5091636091942882\n",
      "Save to checkpoint /tmp/tmprzl5fac7/checkpoint.pt\n"
     ]
    },
    {
     "metadata": {
      "tags": null
     },
     "name": "stderr",
     "output_type": "stream",
     "text": [
      "/usr/local/lib/python3.10/dist-packages/ray/train/_internal/session.py:638: UserWarning: `report` is meant to only be called inside a function that is executed by a Tuner or Trainer. Returning `None`.\n",
      "  warnings.warn(\n"
     ]
    },
    {
     "output_type": "stream",
     "name": "stdout",
     "text": [
      "Start epoch 2\n",
      "Epoch 3/15, Loss: 0.2262736892707978\n",
      "Save to checkpoint /tmp/tmpd3kgzwm5/checkpoint.pt\n",
      "Start epoch 3\n",
      "Epoch 4/15, Loss: 0.18148053778454445\n",
      "Save to checkpoint /tmp/tmphz2ic17h/checkpoint.pt\n",
      "Start epoch 4\n",
      "Epoch 5/15, Loss: 0.15612309563855048\n",
      "Save to checkpoint /tmp/tmpmuy4kuvp/checkpoint.pt\n",
      "Start epoch 5\n",
      "Epoch 6/15, Loss: 0.14424184967610248\n",
      "Save to checkpoint /tmp/tmp_499rf60/checkpoint.pt\n",
      "Start epoch 6\n",
      "Epoch 7/15, Loss: 0.1276284369279869\n",
      "Save to checkpoint /tmp/tmp40vtppi9/checkpoint.pt\n",
      "Start epoch 7\n",
      "Epoch 8/15, Loss: 0.11452750454196128\n",
      "Save to checkpoint /tmp/tmp2hzzazzw/checkpoint.pt\n",
      "Start epoch 8\n",
      "Epoch 9/15, Loss: 0.11665851295976591\n",
      "Save to checkpoint /tmp/tmpkd98t4_m/checkpoint.pt\n",
      "Start epoch 9\n",
      "Epoch 10/15, Loss: 0.10920110530014164\n",
      "Save to checkpoint /tmp/tmpsgcbymg3/checkpoint.pt\n",
      "Start epoch 10\n",
      "Epoch 11/15, Loss: 0.10262493730207822\n",
      "Save to checkpoint /tmp/tmpsu9cxt5u/checkpoint.pt\n",
      "Start epoch 11\n",
      "Epoch 12/15, Loss: 0.09575605211894765\n",
      "Save to checkpoint /tmp/tmpitck_ptu/checkpoint.pt\n",
      "Start epoch 12\n",
      "Epoch 13/15, Loss: 0.09176325905899022\n",
      "Save to checkpoint /tmp/tmpyvdtikfu/checkpoint.pt\n",
      "Start epoch 13\n",
      "Epoch 14/15, Loss: 0.09091411849245525\n",
      "Save to checkpoint /tmp/tmprqiwbnbt/checkpoint.pt\n",
      "Start epoch 14\n",
      "Epoch 15/15, Loss: 0.09029461813451119\n",
      "Save to checkpoint /tmp/tmpg7_liooz/checkpoint.pt\n"
     ]
    }
   ],
   "source": [
    "train_model(best_config)"
   ],
   "metadata": {
    "id": "f8p1bI-bu3AK",
    "colab": {
     "base_uri": "https://localhost:8080/"
    },
    "outputId": "86899faa-1858-4f60-b139-a0a3718e346b"
   }
  },
  {
   "cell_type": "code",
   "source": [
    "torch.save(model.state_dict(), os.path.join(pretrained_models_dir, f\"chord_classifier.pth\"))"
   ],
   "metadata": {
    "id": "30vKzQU9ljnb"
   },
   "execution_count": 5,
   "outputs": [
    {
     "ename": "NameError",
     "evalue": "name 'torch' is not defined",
     "output_type": "error",
     "traceback": [
      "\u001B[0;31m---------------------------------------------------------------------------\u001B[0m",
      "\u001B[0;31mNameError\u001B[0m                                 Traceback (most recent call last)",
      "Cell \u001B[0;32mIn[5], line 1\u001B[0m\n\u001B[0;32m----> 1\u001B[0m \u001B[43mtorch\u001B[49m\u001B[38;5;241m.\u001B[39msave(model\u001B[38;5;241m.\u001B[39mstate_dict(), os\u001B[38;5;241m.\u001B[39mpath\u001B[38;5;241m.\u001B[39mjoin(pretrained_models_dir, \u001B[38;5;124mf\u001B[39m\u001B[38;5;124m\"\u001B[39m\u001B[38;5;124mchord_classifier.pth\u001B[39m\u001B[38;5;124m\"\u001B[39m))\n",
      "\u001B[0;31mNameError\u001B[0m: name 'torch' is not defined"
     ]
    }
   ]
  },
  {
   "cell_type": "markdown",
   "source": [
    "## Transfer Learning"
   ],
   "metadata": {
    "collapsed": false,
    "id": "jz27k528LONc"
   }
  },
  {
   "cell_type": "markdown",
   "source": [
    "Load the model, replace the last ResNet50 layer with an identity function that will just return features without changes and switch to evaluation mode."
   ],
   "metadata": {
    "collapsed": false,
    "id": "hXeuF5BCLONc"
   }
  },
  {
   "cell_type": "code",
   "execution_count": 233,
   "outputs": [
    {
     "data": {
      "text/plain": "ResNet(\n  (conv1): Conv2d(3, 64, kernel_size=(7, 7), stride=(2, 2), padding=(3, 3), bias=False)\n  (bn1): BatchNorm2d(64, eps=1e-05, momentum=0.1, affine=True, track_running_stats=True)\n  (relu): ReLU(inplace=True)\n  (maxpool): MaxPool2d(kernel_size=3, stride=2, padding=1, dilation=1, ceil_mode=False)\n  (layer1): Sequential(\n    (0): Bottleneck(\n      (conv1): Conv2d(64, 64, kernel_size=(1, 1), stride=(1, 1), bias=False)\n      (bn1): BatchNorm2d(64, eps=1e-05, momentum=0.1, affine=True, track_running_stats=True)\n      (conv2): Conv2d(64, 64, kernel_size=(3, 3), stride=(1, 1), padding=(1, 1), bias=False)\n      (bn2): BatchNorm2d(64, eps=1e-05, momentum=0.1, affine=True, track_running_stats=True)\n      (conv3): Conv2d(64, 256, kernel_size=(1, 1), stride=(1, 1), bias=False)\n      (bn3): BatchNorm2d(256, eps=1e-05, momentum=0.1, affine=True, track_running_stats=True)\n      (relu): ReLU(inplace=True)\n      (downsample): Sequential(\n        (0): Conv2d(64, 256, kernel_size=(1, 1), stride=(1, 1), bias=False)\n        (1): BatchNorm2d(256, eps=1e-05, momentum=0.1, affine=True, track_running_stats=True)\n      )\n    )\n    (1): Bottleneck(\n      (conv1): Conv2d(256, 64, kernel_size=(1, 1), stride=(1, 1), bias=False)\n      (bn1): BatchNorm2d(64, eps=1e-05, momentum=0.1, affine=True, track_running_stats=True)\n      (conv2): Conv2d(64, 64, kernel_size=(3, 3), stride=(1, 1), padding=(1, 1), bias=False)\n      (bn2): BatchNorm2d(64, eps=1e-05, momentum=0.1, affine=True, track_running_stats=True)\n      (conv3): Conv2d(64, 256, kernel_size=(1, 1), stride=(1, 1), bias=False)\n      (bn3): BatchNorm2d(256, eps=1e-05, momentum=0.1, affine=True, track_running_stats=True)\n      (relu): ReLU(inplace=True)\n    )\n    (2): Bottleneck(\n      (conv1): Conv2d(256, 64, kernel_size=(1, 1), stride=(1, 1), bias=False)\n      (bn1): BatchNorm2d(64, eps=1e-05, momentum=0.1, affine=True, track_running_stats=True)\n      (conv2): Conv2d(64, 64, kernel_size=(3, 3), stride=(1, 1), padding=(1, 1), bias=False)\n      (bn2): BatchNorm2d(64, eps=1e-05, momentum=0.1, affine=True, track_running_stats=True)\n      (conv3): Conv2d(64, 256, kernel_size=(1, 1), stride=(1, 1), bias=False)\n      (bn3): BatchNorm2d(256, eps=1e-05, momentum=0.1, affine=True, track_running_stats=True)\n      (relu): ReLU(inplace=True)\n    )\n  )\n  (layer2): Sequential(\n    (0): Bottleneck(\n      (conv1): Conv2d(256, 128, kernel_size=(1, 1), stride=(1, 1), bias=False)\n      (bn1): BatchNorm2d(128, eps=1e-05, momentum=0.1, affine=True, track_running_stats=True)\n      (conv2): Conv2d(128, 128, kernel_size=(3, 3), stride=(2, 2), padding=(1, 1), bias=False)\n      (bn2): BatchNorm2d(128, eps=1e-05, momentum=0.1, affine=True, track_running_stats=True)\n      (conv3): Conv2d(128, 512, kernel_size=(1, 1), stride=(1, 1), bias=False)\n      (bn3): BatchNorm2d(512, eps=1e-05, momentum=0.1, affine=True, track_running_stats=True)\n      (relu): ReLU(inplace=True)\n      (downsample): Sequential(\n        (0): Conv2d(256, 512, kernel_size=(1, 1), stride=(2, 2), bias=False)\n        (1): BatchNorm2d(512, eps=1e-05, momentum=0.1, affine=True, track_running_stats=True)\n      )\n    )\n    (1): Bottleneck(\n      (conv1): Conv2d(512, 128, kernel_size=(1, 1), stride=(1, 1), bias=False)\n      (bn1): BatchNorm2d(128, eps=1e-05, momentum=0.1, affine=True, track_running_stats=True)\n      (conv2): Conv2d(128, 128, kernel_size=(3, 3), stride=(1, 1), padding=(1, 1), bias=False)\n      (bn2): BatchNorm2d(128, eps=1e-05, momentum=0.1, affine=True, track_running_stats=True)\n      (conv3): Conv2d(128, 512, kernel_size=(1, 1), stride=(1, 1), bias=False)\n      (bn3): BatchNorm2d(512, eps=1e-05, momentum=0.1, affine=True, track_running_stats=True)\n      (relu): ReLU(inplace=True)\n    )\n    (2): Bottleneck(\n      (conv1): Conv2d(512, 128, kernel_size=(1, 1), stride=(1, 1), bias=False)\n      (bn1): BatchNorm2d(128, eps=1e-05, momentum=0.1, affine=True, track_running_stats=True)\n      (conv2): Conv2d(128, 128, kernel_size=(3, 3), stride=(1, 1), padding=(1, 1), bias=False)\n      (bn2): BatchNorm2d(128, eps=1e-05, momentum=0.1, affine=True, track_running_stats=True)\n      (conv3): Conv2d(128, 512, kernel_size=(1, 1), stride=(1, 1), bias=False)\n      (bn3): BatchNorm2d(512, eps=1e-05, momentum=0.1, affine=True, track_running_stats=True)\n      (relu): ReLU(inplace=True)\n    )\n    (3): Bottleneck(\n      (conv1): Conv2d(512, 128, kernel_size=(1, 1), stride=(1, 1), bias=False)\n      (bn1): BatchNorm2d(128, eps=1e-05, momentum=0.1, affine=True, track_running_stats=True)\n      (conv2): Conv2d(128, 128, kernel_size=(3, 3), stride=(1, 1), padding=(1, 1), bias=False)\n      (bn2): BatchNorm2d(128, eps=1e-05, momentum=0.1, affine=True, track_running_stats=True)\n      (conv3): Conv2d(128, 512, kernel_size=(1, 1), stride=(1, 1), bias=False)\n      (bn3): BatchNorm2d(512, eps=1e-05, momentum=0.1, affine=True, track_running_stats=True)\n      (relu): ReLU(inplace=True)\n    )\n  )\n  (layer3): Sequential(\n    (0): Bottleneck(\n      (conv1): Conv2d(512, 256, kernel_size=(1, 1), stride=(1, 1), bias=False)\n      (bn1): BatchNorm2d(256, eps=1e-05, momentum=0.1, affine=True, track_running_stats=True)\n      (conv2): Conv2d(256, 256, kernel_size=(3, 3), stride=(2, 2), padding=(1, 1), bias=False)\n      (bn2): BatchNorm2d(256, eps=1e-05, momentum=0.1, affine=True, track_running_stats=True)\n      (conv3): Conv2d(256, 1024, kernel_size=(1, 1), stride=(1, 1), bias=False)\n      (bn3): BatchNorm2d(1024, eps=1e-05, momentum=0.1, affine=True, track_running_stats=True)\n      (relu): ReLU(inplace=True)\n      (downsample): Sequential(\n        (0): Conv2d(512, 1024, kernel_size=(1, 1), stride=(2, 2), bias=False)\n        (1): BatchNorm2d(1024, eps=1e-05, momentum=0.1, affine=True, track_running_stats=True)\n      )\n    )\n    (1): Bottleneck(\n      (conv1): Conv2d(1024, 256, kernel_size=(1, 1), stride=(1, 1), bias=False)\n      (bn1): BatchNorm2d(256, eps=1e-05, momentum=0.1, affine=True, track_running_stats=True)\n      (conv2): Conv2d(256, 256, kernel_size=(3, 3), stride=(1, 1), padding=(1, 1), bias=False)\n      (bn2): BatchNorm2d(256, eps=1e-05, momentum=0.1, affine=True, track_running_stats=True)\n      (conv3): Conv2d(256, 1024, kernel_size=(1, 1), stride=(1, 1), bias=False)\n      (bn3): BatchNorm2d(1024, eps=1e-05, momentum=0.1, affine=True, track_running_stats=True)\n      (relu): ReLU(inplace=True)\n    )\n    (2): Bottleneck(\n      (conv1): Conv2d(1024, 256, kernel_size=(1, 1), stride=(1, 1), bias=False)\n      (bn1): BatchNorm2d(256, eps=1e-05, momentum=0.1, affine=True, track_running_stats=True)\n      (conv2): Conv2d(256, 256, kernel_size=(3, 3), stride=(1, 1), padding=(1, 1), bias=False)\n      (bn2): BatchNorm2d(256, eps=1e-05, momentum=0.1, affine=True, track_running_stats=True)\n      (conv3): Conv2d(256, 1024, kernel_size=(1, 1), stride=(1, 1), bias=False)\n      (bn3): BatchNorm2d(1024, eps=1e-05, momentum=0.1, affine=True, track_running_stats=True)\n      (relu): ReLU(inplace=True)\n    )\n    (3): Bottleneck(\n      (conv1): Conv2d(1024, 256, kernel_size=(1, 1), stride=(1, 1), bias=False)\n      (bn1): BatchNorm2d(256, eps=1e-05, momentum=0.1, affine=True, track_running_stats=True)\n      (conv2): Conv2d(256, 256, kernel_size=(3, 3), stride=(1, 1), padding=(1, 1), bias=False)\n      (bn2): BatchNorm2d(256, eps=1e-05, momentum=0.1, affine=True, track_running_stats=True)\n      (conv3): Conv2d(256, 1024, kernel_size=(1, 1), stride=(1, 1), bias=False)\n      (bn3): BatchNorm2d(1024, eps=1e-05, momentum=0.1, affine=True, track_running_stats=True)\n      (relu): ReLU(inplace=True)\n    )\n    (4): Bottleneck(\n      (conv1): Conv2d(1024, 256, kernel_size=(1, 1), stride=(1, 1), bias=False)\n      (bn1): BatchNorm2d(256, eps=1e-05, momentum=0.1, affine=True, track_running_stats=True)\n      (conv2): Conv2d(256, 256, kernel_size=(3, 3), stride=(1, 1), padding=(1, 1), bias=False)\n      (bn2): BatchNorm2d(256, eps=1e-05, momentum=0.1, affine=True, track_running_stats=True)\n      (conv3): Conv2d(256, 1024, kernel_size=(1, 1), stride=(1, 1), bias=False)\n      (bn3): BatchNorm2d(1024, eps=1e-05, momentum=0.1, affine=True, track_running_stats=True)\n      (relu): ReLU(inplace=True)\n    )\n    (5): Bottleneck(\n      (conv1): Conv2d(1024, 256, kernel_size=(1, 1), stride=(1, 1), bias=False)\n      (bn1): BatchNorm2d(256, eps=1e-05, momentum=0.1, affine=True, track_running_stats=True)\n      (conv2): Conv2d(256, 256, kernel_size=(3, 3), stride=(1, 1), padding=(1, 1), bias=False)\n      (bn2): BatchNorm2d(256, eps=1e-05, momentum=0.1, affine=True, track_running_stats=True)\n      (conv3): Conv2d(256, 1024, kernel_size=(1, 1), stride=(1, 1), bias=False)\n      (bn3): BatchNorm2d(1024, eps=1e-05, momentum=0.1, affine=True, track_running_stats=True)\n      (relu): ReLU(inplace=True)\n    )\n  )\n  (layer4): Sequential(\n    (0): Bottleneck(\n      (conv1): Conv2d(1024, 512, kernel_size=(1, 1), stride=(1, 1), bias=False)\n      (bn1): BatchNorm2d(512, eps=1e-05, momentum=0.1, affine=True, track_running_stats=True)\n      (conv2): Conv2d(512, 512, kernel_size=(3, 3), stride=(2, 2), padding=(1, 1), bias=False)\n      (bn2): BatchNorm2d(512, eps=1e-05, momentum=0.1, affine=True, track_running_stats=True)\n      (conv3): Conv2d(512, 2048, kernel_size=(1, 1), stride=(1, 1), bias=False)\n      (bn3): BatchNorm2d(2048, eps=1e-05, momentum=0.1, affine=True, track_running_stats=True)\n      (relu): ReLU(inplace=True)\n      (downsample): Sequential(\n        (0): Conv2d(1024, 2048, kernel_size=(1, 1), stride=(2, 2), bias=False)\n        (1): BatchNorm2d(2048, eps=1e-05, momentum=0.1, affine=True, track_running_stats=True)\n      )\n    )\n    (1): Bottleneck(\n      (conv1): Conv2d(2048, 512, kernel_size=(1, 1), stride=(1, 1), bias=False)\n      (bn1): BatchNorm2d(512, eps=1e-05, momentum=0.1, affine=True, track_running_stats=True)\n      (conv2): Conv2d(512, 512, kernel_size=(3, 3), stride=(1, 1), padding=(1, 1), bias=False)\n      (bn2): BatchNorm2d(512, eps=1e-05, momentum=0.1, affine=True, track_running_stats=True)\n      (conv3): Conv2d(512, 2048, kernel_size=(1, 1), stride=(1, 1), bias=False)\n      (bn3): BatchNorm2d(2048, eps=1e-05, momentum=0.1, affine=True, track_running_stats=True)\n      (relu): ReLU(inplace=True)\n    )\n    (2): Bottleneck(\n      (conv1): Conv2d(2048, 512, kernel_size=(1, 1), stride=(1, 1), bias=False)\n      (bn1): BatchNorm2d(512, eps=1e-05, momentum=0.1, affine=True, track_running_stats=True)\n      (conv2): Conv2d(512, 512, kernel_size=(3, 3), stride=(1, 1), padding=(1, 1), bias=False)\n      (bn2): BatchNorm2d(512, eps=1e-05, momentum=0.1, affine=True, track_running_stats=True)\n      (conv3): Conv2d(512, 2048, kernel_size=(1, 1), stride=(1, 1), bias=False)\n      (bn3): BatchNorm2d(2048, eps=1e-05, momentum=0.1, affine=True, track_running_stats=True)\n      (relu): ReLU(inplace=True)\n    )\n  )\n  (avgpool): AdaptiveAvgPool2d(output_size=(1, 1))\n  (fc): Linear(in_features=2048, out_features=7, bias=True)\n)"
     },
     "execution_count": 233,
     "metadata": {},
     "output_type": "execute_result"
    }
   ],
   "source": [
    "import os\n",
    "\n",
    "model = load_model(os.path.join(pretrained_models_dir, \"chord_classifier_v3.pth\"))\n",
    "model.to(device)"
   ],
   "metadata": {
    "collapsed": false
   }
  },
  {
   "cell_type": "code",
   "execution_count": 234,
   "outputs": [
    {
     "data": {
      "text/plain": "ResNet(\n  (conv1): Conv2d(3, 64, kernel_size=(7, 7), stride=(2, 2), padding=(3, 3), bias=False)\n  (bn1): BatchNorm2d(64, eps=1e-05, momentum=0.1, affine=True, track_running_stats=True)\n  (relu): ReLU(inplace=True)\n  (maxpool): MaxPool2d(kernel_size=3, stride=2, padding=1, dilation=1, ceil_mode=False)\n  (layer1): Sequential(\n    (0): Bottleneck(\n      (conv1): Conv2d(64, 64, kernel_size=(1, 1), stride=(1, 1), bias=False)\n      (bn1): BatchNorm2d(64, eps=1e-05, momentum=0.1, affine=True, track_running_stats=True)\n      (conv2): Conv2d(64, 64, kernel_size=(3, 3), stride=(1, 1), padding=(1, 1), bias=False)\n      (bn2): BatchNorm2d(64, eps=1e-05, momentum=0.1, affine=True, track_running_stats=True)\n      (conv3): Conv2d(64, 256, kernel_size=(1, 1), stride=(1, 1), bias=False)\n      (bn3): BatchNorm2d(256, eps=1e-05, momentum=0.1, affine=True, track_running_stats=True)\n      (relu): ReLU(inplace=True)\n      (downsample): Sequential(\n        (0): Conv2d(64, 256, kernel_size=(1, 1), stride=(1, 1), bias=False)\n        (1): BatchNorm2d(256, eps=1e-05, momentum=0.1, affine=True, track_running_stats=True)\n      )\n    )\n    (1): Bottleneck(\n      (conv1): Conv2d(256, 64, kernel_size=(1, 1), stride=(1, 1), bias=False)\n      (bn1): BatchNorm2d(64, eps=1e-05, momentum=0.1, affine=True, track_running_stats=True)\n      (conv2): Conv2d(64, 64, kernel_size=(3, 3), stride=(1, 1), padding=(1, 1), bias=False)\n      (bn2): BatchNorm2d(64, eps=1e-05, momentum=0.1, affine=True, track_running_stats=True)\n      (conv3): Conv2d(64, 256, kernel_size=(1, 1), stride=(1, 1), bias=False)\n      (bn3): BatchNorm2d(256, eps=1e-05, momentum=0.1, affine=True, track_running_stats=True)\n      (relu): ReLU(inplace=True)\n    )\n    (2): Bottleneck(\n      (conv1): Conv2d(256, 64, kernel_size=(1, 1), stride=(1, 1), bias=False)\n      (bn1): BatchNorm2d(64, eps=1e-05, momentum=0.1, affine=True, track_running_stats=True)\n      (conv2): Conv2d(64, 64, kernel_size=(3, 3), stride=(1, 1), padding=(1, 1), bias=False)\n      (bn2): BatchNorm2d(64, eps=1e-05, momentum=0.1, affine=True, track_running_stats=True)\n      (conv3): Conv2d(64, 256, kernel_size=(1, 1), stride=(1, 1), bias=False)\n      (bn3): BatchNorm2d(256, eps=1e-05, momentum=0.1, affine=True, track_running_stats=True)\n      (relu): ReLU(inplace=True)\n    )\n  )\n  (layer2): Sequential(\n    (0): Bottleneck(\n      (conv1): Conv2d(256, 128, kernel_size=(1, 1), stride=(1, 1), bias=False)\n      (bn1): BatchNorm2d(128, eps=1e-05, momentum=0.1, affine=True, track_running_stats=True)\n      (conv2): Conv2d(128, 128, kernel_size=(3, 3), stride=(2, 2), padding=(1, 1), bias=False)\n      (bn2): BatchNorm2d(128, eps=1e-05, momentum=0.1, affine=True, track_running_stats=True)\n      (conv3): Conv2d(128, 512, kernel_size=(1, 1), stride=(1, 1), bias=False)\n      (bn3): BatchNorm2d(512, eps=1e-05, momentum=0.1, affine=True, track_running_stats=True)\n      (relu): ReLU(inplace=True)\n      (downsample): Sequential(\n        (0): Conv2d(256, 512, kernel_size=(1, 1), stride=(2, 2), bias=False)\n        (1): BatchNorm2d(512, eps=1e-05, momentum=0.1, affine=True, track_running_stats=True)\n      )\n    )\n    (1): Bottleneck(\n      (conv1): Conv2d(512, 128, kernel_size=(1, 1), stride=(1, 1), bias=False)\n      (bn1): BatchNorm2d(128, eps=1e-05, momentum=0.1, affine=True, track_running_stats=True)\n      (conv2): Conv2d(128, 128, kernel_size=(3, 3), stride=(1, 1), padding=(1, 1), bias=False)\n      (bn2): BatchNorm2d(128, eps=1e-05, momentum=0.1, affine=True, track_running_stats=True)\n      (conv3): Conv2d(128, 512, kernel_size=(1, 1), stride=(1, 1), bias=False)\n      (bn3): BatchNorm2d(512, eps=1e-05, momentum=0.1, affine=True, track_running_stats=True)\n      (relu): ReLU(inplace=True)\n    )\n    (2): Bottleneck(\n      (conv1): Conv2d(512, 128, kernel_size=(1, 1), stride=(1, 1), bias=False)\n      (bn1): BatchNorm2d(128, eps=1e-05, momentum=0.1, affine=True, track_running_stats=True)\n      (conv2): Conv2d(128, 128, kernel_size=(3, 3), stride=(1, 1), padding=(1, 1), bias=False)\n      (bn2): BatchNorm2d(128, eps=1e-05, momentum=0.1, affine=True, track_running_stats=True)\n      (conv3): Conv2d(128, 512, kernel_size=(1, 1), stride=(1, 1), bias=False)\n      (bn3): BatchNorm2d(512, eps=1e-05, momentum=0.1, affine=True, track_running_stats=True)\n      (relu): ReLU(inplace=True)\n    )\n    (3): Bottleneck(\n      (conv1): Conv2d(512, 128, kernel_size=(1, 1), stride=(1, 1), bias=False)\n      (bn1): BatchNorm2d(128, eps=1e-05, momentum=0.1, affine=True, track_running_stats=True)\n      (conv2): Conv2d(128, 128, kernel_size=(3, 3), stride=(1, 1), padding=(1, 1), bias=False)\n      (bn2): BatchNorm2d(128, eps=1e-05, momentum=0.1, affine=True, track_running_stats=True)\n      (conv3): Conv2d(128, 512, kernel_size=(1, 1), stride=(1, 1), bias=False)\n      (bn3): BatchNorm2d(512, eps=1e-05, momentum=0.1, affine=True, track_running_stats=True)\n      (relu): ReLU(inplace=True)\n    )\n  )\n  (layer3): Sequential(\n    (0): Bottleneck(\n      (conv1): Conv2d(512, 256, kernel_size=(1, 1), stride=(1, 1), bias=False)\n      (bn1): BatchNorm2d(256, eps=1e-05, momentum=0.1, affine=True, track_running_stats=True)\n      (conv2): Conv2d(256, 256, kernel_size=(3, 3), stride=(2, 2), padding=(1, 1), bias=False)\n      (bn2): BatchNorm2d(256, eps=1e-05, momentum=0.1, affine=True, track_running_stats=True)\n      (conv3): Conv2d(256, 1024, kernel_size=(1, 1), stride=(1, 1), bias=False)\n      (bn3): BatchNorm2d(1024, eps=1e-05, momentum=0.1, affine=True, track_running_stats=True)\n      (relu): ReLU(inplace=True)\n      (downsample): Sequential(\n        (0): Conv2d(512, 1024, kernel_size=(1, 1), stride=(2, 2), bias=False)\n        (1): BatchNorm2d(1024, eps=1e-05, momentum=0.1, affine=True, track_running_stats=True)\n      )\n    )\n    (1): Bottleneck(\n      (conv1): Conv2d(1024, 256, kernel_size=(1, 1), stride=(1, 1), bias=False)\n      (bn1): BatchNorm2d(256, eps=1e-05, momentum=0.1, affine=True, track_running_stats=True)\n      (conv2): Conv2d(256, 256, kernel_size=(3, 3), stride=(1, 1), padding=(1, 1), bias=False)\n      (bn2): BatchNorm2d(256, eps=1e-05, momentum=0.1, affine=True, track_running_stats=True)\n      (conv3): Conv2d(256, 1024, kernel_size=(1, 1), stride=(1, 1), bias=False)\n      (bn3): BatchNorm2d(1024, eps=1e-05, momentum=0.1, affine=True, track_running_stats=True)\n      (relu): ReLU(inplace=True)\n    )\n    (2): Bottleneck(\n      (conv1): Conv2d(1024, 256, kernel_size=(1, 1), stride=(1, 1), bias=False)\n      (bn1): BatchNorm2d(256, eps=1e-05, momentum=0.1, affine=True, track_running_stats=True)\n      (conv2): Conv2d(256, 256, kernel_size=(3, 3), stride=(1, 1), padding=(1, 1), bias=False)\n      (bn2): BatchNorm2d(256, eps=1e-05, momentum=0.1, affine=True, track_running_stats=True)\n      (conv3): Conv2d(256, 1024, kernel_size=(1, 1), stride=(1, 1), bias=False)\n      (bn3): BatchNorm2d(1024, eps=1e-05, momentum=0.1, affine=True, track_running_stats=True)\n      (relu): ReLU(inplace=True)\n    )\n    (3): Bottleneck(\n      (conv1): Conv2d(1024, 256, kernel_size=(1, 1), stride=(1, 1), bias=False)\n      (bn1): BatchNorm2d(256, eps=1e-05, momentum=0.1, affine=True, track_running_stats=True)\n      (conv2): Conv2d(256, 256, kernel_size=(3, 3), stride=(1, 1), padding=(1, 1), bias=False)\n      (bn2): BatchNorm2d(256, eps=1e-05, momentum=0.1, affine=True, track_running_stats=True)\n      (conv3): Conv2d(256, 1024, kernel_size=(1, 1), stride=(1, 1), bias=False)\n      (bn3): BatchNorm2d(1024, eps=1e-05, momentum=0.1, affine=True, track_running_stats=True)\n      (relu): ReLU(inplace=True)\n    )\n    (4): Bottleneck(\n      (conv1): Conv2d(1024, 256, kernel_size=(1, 1), stride=(1, 1), bias=False)\n      (bn1): BatchNorm2d(256, eps=1e-05, momentum=0.1, affine=True, track_running_stats=True)\n      (conv2): Conv2d(256, 256, kernel_size=(3, 3), stride=(1, 1), padding=(1, 1), bias=False)\n      (bn2): BatchNorm2d(256, eps=1e-05, momentum=0.1, affine=True, track_running_stats=True)\n      (conv3): Conv2d(256, 1024, kernel_size=(1, 1), stride=(1, 1), bias=False)\n      (bn3): BatchNorm2d(1024, eps=1e-05, momentum=0.1, affine=True, track_running_stats=True)\n      (relu): ReLU(inplace=True)\n    )\n    (5): Bottleneck(\n      (conv1): Conv2d(1024, 256, kernel_size=(1, 1), stride=(1, 1), bias=False)\n      (bn1): BatchNorm2d(256, eps=1e-05, momentum=0.1, affine=True, track_running_stats=True)\n      (conv2): Conv2d(256, 256, kernel_size=(3, 3), stride=(1, 1), padding=(1, 1), bias=False)\n      (bn2): BatchNorm2d(256, eps=1e-05, momentum=0.1, affine=True, track_running_stats=True)\n      (conv3): Conv2d(256, 1024, kernel_size=(1, 1), stride=(1, 1), bias=False)\n      (bn3): BatchNorm2d(1024, eps=1e-05, momentum=0.1, affine=True, track_running_stats=True)\n      (relu): ReLU(inplace=True)\n    )\n  )\n  (layer4): Sequential(\n    (0): Bottleneck(\n      (conv1): Conv2d(1024, 512, kernel_size=(1, 1), stride=(1, 1), bias=False)\n      (bn1): BatchNorm2d(512, eps=1e-05, momentum=0.1, affine=True, track_running_stats=True)\n      (conv2): Conv2d(512, 512, kernel_size=(3, 3), stride=(2, 2), padding=(1, 1), bias=False)\n      (bn2): BatchNorm2d(512, eps=1e-05, momentum=0.1, affine=True, track_running_stats=True)\n      (conv3): Conv2d(512, 2048, kernel_size=(1, 1), stride=(1, 1), bias=False)\n      (bn3): BatchNorm2d(2048, eps=1e-05, momentum=0.1, affine=True, track_running_stats=True)\n      (relu): ReLU(inplace=True)\n      (downsample): Sequential(\n        (0): Conv2d(1024, 2048, kernel_size=(1, 1), stride=(2, 2), bias=False)\n        (1): BatchNorm2d(2048, eps=1e-05, momentum=0.1, affine=True, track_running_stats=True)\n      )\n    )\n    (1): Bottleneck(\n      (conv1): Conv2d(2048, 512, kernel_size=(1, 1), stride=(1, 1), bias=False)\n      (bn1): BatchNorm2d(512, eps=1e-05, momentum=0.1, affine=True, track_running_stats=True)\n      (conv2): Conv2d(512, 512, kernel_size=(3, 3), stride=(1, 1), padding=(1, 1), bias=False)\n      (bn2): BatchNorm2d(512, eps=1e-05, momentum=0.1, affine=True, track_running_stats=True)\n      (conv3): Conv2d(512, 2048, kernel_size=(1, 1), stride=(1, 1), bias=False)\n      (bn3): BatchNorm2d(2048, eps=1e-05, momentum=0.1, affine=True, track_running_stats=True)\n      (relu): ReLU(inplace=True)\n    )\n    (2): Bottleneck(\n      (conv1): Conv2d(2048, 512, kernel_size=(1, 1), stride=(1, 1), bias=False)\n      (bn1): BatchNorm2d(512, eps=1e-05, momentum=0.1, affine=True, track_running_stats=True)\n      (conv2): Conv2d(512, 512, kernel_size=(3, 3), stride=(1, 1), padding=(1, 1), bias=False)\n      (bn2): BatchNorm2d(512, eps=1e-05, momentum=0.1, affine=True, track_running_stats=True)\n      (conv3): Conv2d(512, 2048, kernel_size=(1, 1), stride=(1, 1), bias=False)\n      (bn3): BatchNorm2d(2048, eps=1e-05, momentum=0.1, affine=True, track_running_stats=True)\n      (relu): ReLU(inplace=True)\n    )\n  )\n  (avgpool): AdaptiveAvgPool2d(output_size=(1, 1))\n  (fc): Identity()\n)"
     },
     "execution_count": 234,
     "metadata": {},
     "output_type": "execute_result"
    }
   ],
   "source": [
    "model.fc = nn.Identity()\n",
    "\n",
    "model.eval()"
   ],
   "metadata": {
    "collapsed": false
   }
  },
  {
   "cell_type": "code",
   "execution_count": 235,
   "outputs": [
    {
     "name": "stdout",
     "output_type": "stream",
     "text": [
      "Identity()\n"
     ]
    }
   ],
   "source": [
    "print(model.fc)\n"
   ],
   "metadata": {
    "id": "yaMwWRWTLONd"
   }
  },
  {
   "cell_type": "markdown",
   "source": [
    "Create a custom neural network which will accept features from pre-trained and fine tuned ResNet50 to make final classifications. This will allow for more flexibility in tuning the architecture for this particular task."
   ],
   "metadata": {
    "collapsed": false
   }
  },
  {
   "cell_type": "code",
   "execution_count": 272,
   "outputs": [],
   "source": [
    "import torch.nn as nn\n",
    "\n",
    "# TODO: try softmax\n",
    "class ChordClassifier(nn.Module):\n",
    "    def __init__(self, input_size, num_classes):\n",
    "        super().__init__()\n",
    "        self.fc1 = nn.Linear(input_size, 1024)\n",
    "        self.bn1 = nn.BatchNorm1d(1024)\n",
    "        self.relu1 = nn.ReLU()\n",
    "        self.dropout1 = nn.Dropout(0.5)\n",
    "\n",
    "        self.fc2 = nn.Linear(1024, 512)\n",
    "        self.bn2 = nn.BatchNorm1d(512)\n",
    "        self.relu2 = nn.ReLU()\n",
    "        self.dropout2 = nn.Dropout(0.5)\n",
    "\n",
    "        self.fc3 = nn.Linear(512, 256)\n",
    "        self.bn3 = nn.BatchNorm1d(256)\n",
    "        self.relu3 = nn.ReLU()\n",
    "        self.dropout3 = nn.Dropout(0.5)\n",
    "\n",
    "        # Final layer\n",
    "        self.fc4 = nn.Linear(256, num_classes)\n",
    "\n",
    "    def forward(self, x):\n",
    "        x = self.fc1(x)\n",
    "        x = self.bn1(x)\n",
    "        x = self.relu1(x)\n",
    "        x = self.dropout1(x)\n",
    "\n",
    "        x = self.fc2(x)\n",
    "        x = self.bn2(x)\n",
    "        x = self.relu2(x)\n",
    "        x = self.dropout2(x)\n",
    "\n",
    "        x = self.fc3(x)\n",
    "        x = self.bn3(x)\n",
    "        x = self.relu3(x)\n",
    "        x = self.dropout3(x)\n",
    "\n",
    "        x = self.fc4(x)\n",
    "        return x"
   ],
   "metadata": {
    "collapsed": false
   }
  },
  {
   "cell_type": "markdown",
   "source": [
    "Extract features using pre-trained and fine-tuned ResNet50 and save them into a HDF5 file on disk for training the classifier."
   ],
   "metadata": {
    "collapsed": false,
    "id": "ifh-T68RLONd"
   }
  },
  {
   "cell_type": "code",
   "execution_count": 179,
   "outputs": [],
   "source": [
    "import h5py\n",
    "import numpy as np\n",
    "import torch\n",
    "\n",
    "\n",
    "def create_h5_dataset(data_loader, file_name):\n",
    "    with h5py.File(file_name, 'w') as h5f:\n",
    "        for i, (inputs, labels) in enumerate(data_loader):\n",
    "            print(f\"Processed {i} of {len(data_loader)}\")\n",
    "            inputs = inputs.to(device)\n",
    "            with torch.no_grad():\n",
    "                output = model(inputs)\n",
    "\n",
    "            # Convert to numpy and write to disk\n",
    "            features_batch = output.cpu().detach().numpy()\n",
    "            labels_batch = labels.numpy()\n",
    "\n",
    "            # Create datasets for the first batch and then append for subsequent batches\n",
    "            if i == 0:\n",
    "                h5f.create_dataset('features', data=features_batch, maxshape=(None, features_batch.shape[1]), chunks=True)\n",
    "                h5f.create_dataset('labels', data=labels_batch, maxshape=(None,), chunks=True)\n",
    "            else:\n",
    "                h5f['features'].resize((h5f['features'].shape[0] + features_batch.shape[0]), axis=0)\n",
    "                h5f['features'][-features_batch.shape[0]:] = features_batch\n",
    "                h5f['labels'].resize((h5f['labels'].shape[0] + labels_batch.shape[0]), axis=0)\n",
    "                h5f['labels'][-labels_batch.shape[0]:] = labels_batch"
   ],
   "metadata": {
    "id": "ckZoipLbLONd"
   }
  },
  {
   "cell_type": "code",
   "execution_count": 166,
   "outputs": [],
   "source": [
    "train_features_set_file_name = \"features_labels.h5\""
   ],
   "metadata": {
    "collapsed": false
   }
  },
  {
   "cell_type": "code",
   "execution_count": 178,
   "outputs": [
    {
     "ename": "NameError",
     "evalue": "name 'create_h5_dataset' is not defined",
     "output_type": "error",
     "traceback": [
      "\u001B[0;31m---------------------------------------------------------------------------\u001B[0m",
      "\u001B[0;31mNameError\u001B[0m                                 Traceback (most recent call last)",
      "Cell \u001B[0;32mIn[178], line 4\u001B[0m\n\u001B[1;32m      1\u001B[0m train_dataset \u001B[38;5;241m=\u001B[39m SpectrogramDataset(root_dir\u001B[38;5;241m=\u001B[39mpreprocessed_train_data_dir, transform\u001B[38;5;241m=\u001B[39mtransform)\n\u001B[1;32m      2\u001B[0m train_loader \u001B[38;5;241m=\u001B[39m DataLoader(train_dataset, batch_size\u001B[38;5;241m=\u001B[39m\u001B[38;5;241m128\u001B[39m, shuffle\u001B[38;5;241m=\u001B[39m\u001B[38;5;28;01mTrue\u001B[39;00m)\n\u001B[0;32m----> 4\u001B[0m \u001B[43mcreate_h5_dataset\u001B[49m(train_loader, train_features_set_file_name)\n",
      "\u001B[0;31mNameError\u001B[0m: name 'create_h5_dataset' is not defined"
     ]
    }
   ],
   "source": [
    "train_dataset = SpectrogramDataset(root_dir=preprocessed_train_data_dir, transform=transform)\n",
    "train_loader = DataLoader(train_dataset, batch_size=128, shuffle=True)\n",
    "\n",
    "create_h5_dataset(train_loader, train_features_set_file_name)"
   ],
   "metadata": {
    "collapsed": false
   }
  },
  {
   "cell_type": "markdown",
   "source": [
    "Use the same approach to generate test dataset"
   ],
   "metadata": {
    "collapsed": false
   }
  },
  {
   "cell_type": "code",
   "execution_count": 167,
   "outputs": [],
   "source": [
    "test_features_set_file_name = \"features_labels_test.h5\""
   ],
   "metadata": {
    "collapsed": false
   }
  },
  {
   "cell_type": "code",
   "execution_count": null,
   "outputs": [],
   "source": [
    "dataset = SpectrogramDataset(root_dir=preprocessed_test_data_dir, transform=transform)\n",
    "test_loader = DataLoader(dataset, batch_size=128, shuffle=False)\n",
    "\n",
    "create_h5_dataset(test_loader, test_features_set_file_name)"
   ],
   "metadata": {
    "collapsed": false
   }
  },
  {
   "cell_type": "code",
   "execution_count": 171,
   "outputs": [],
   "source": [
    "import h5py\n",
    "import torch\n",
    "from torch.utils.data import TensorDataset, DataLoader\n",
    "\n",
    "def load_dataset_from_file(file_name):\n",
    "    # Load features and labels\n",
    "    with h5py.File(file_name, 'r') as hf:\n",
    "        features = hf['features'][:]\n",
    "        labels = hf['labels'][:]\n",
    "\n",
    "    features = torch.tensor(features, dtype=torch.float)\n",
    "    labels = torch.tensor(labels, dtype=torch.long)\n",
    "\n",
    "    return features, labels"
   ],
   "metadata": {
    "id": "B471IC_mLONd"
   }
  },
  {
   "cell_type": "code",
   "execution_count": 250,
   "outputs": [],
   "source": [
    "features, labels = load_dataset_from_file(train_features_set_file_name)"
   ],
   "metadata": {
    "collapsed": false
   }
  },
  {
   "cell_type": "markdown",
   "source": [
    "Split the data into training and validation sets"
   ],
   "metadata": {
    "collapsed": false,
    "id": "IQRJkcpQLONd"
   }
  },
  {
   "cell_type": "code",
   "execution_count": 173,
   "outputs": [],
   "source": [
    "from sklearn.model_selection import train_test_split\n",
    "\n",
    "features_train, features_val, labels_train, labels_val = train_test_split(\n",
    "    features, labels, test_size=0.2, random_state=42)"
   ],
   "metadata": {
    "id": "7wYdk8djLONd"
   }
  },
  {
   "cell_type": "markdown",
   "source": [
    "Create datasets"
   ],
   "metadata": {
    "collapsed": false,
    "id": "8xkn3OMkLONd"
   }
  },
  {
   "cell_type": "code",
   "execution_count": 174,
   "outputs": [
    {
     "name": "stdout",
     "output_type": "stream",
     "text": [
      "36664 9167\n"
     ]
    }
   ],
   "source": [
    "train_features_dataset = TensorDataset(features_train, labels_train)\n",
    "val_features_dataset = TensorDataset(features_val, labels_val)\n",
    "\n",
    "print(len(train_features_dataset), len(val_features_dataset))"
   ],
   "metadata": {
    "id": "drRI6gJ0LONd"
   }
  },
  {
   "cell_type": "markdown",
   "source": [
    "Train and validate"
   ],
   "metadata": {
    "collapsed": false,
    "id": "GjXCYSpYLONe"
   }
  },
  {
   "cell_type": "code",
   "execution_count": 275,
   "outputs": [],
   "source": [
    "classifier_model = ChordClassifier(input_size=features.shape[1], num_classes=len(torch.unique(labels)))\n"
   ],
   "metadata": {
    "id": "cDB8IJsyLONe"
   }
  },
  {
   "cell_type": "code",
   "execution_count": 159,
   "outputs": [],
   "source": [
    "import torch.optim as optim\n",
    "from torch.optim.lr_scheduler import StepLR\n",
    "\n",
    "def train_classifier(config):\n",
    "    optimizer = torch.optim.Adam(classifier_model.parameters(), lr=config[\"lr\"])\n",
    "    criterion = nn.CrossEntropyLoss()\n",
    "    epochs = config[\"epochs\"]\n",
    "\n",
    "    scheduler = StepLR(optimizer, step_size=10, gamma=0.1)\n",
    "\n",
    "    train_loader = DataLoader(train_features_dataset, batch_size=config[\"batch_size\"], shuffle=True)\n",
    "    val_loader = DataLoader(val_features_dataset, batch_size=config[\"batch_size\"], shuffle=False)\n",
    "\n",
    "    for epoch in range(epochs):\n",
    "        model.train()\n",
    "        running_loss = 0.0\n",
    "        for data, target in train_loader:\n",
    "            optimizer.zero_grad()\n",
    "            output = classifier_model(data)\n",
    "            loss = criterion(output, target)\n",
    "            loss.backward()\n",
    "            optimizer.step()\n",
    "            running_loss += loss.item()\n",
    "\n",
    "        # Validation\n",
    "        classifier_model.eval()\n",
    "        val_loss = 0.0\n",
    "        correct = 0\n",
    "        with torch.no_grad():\n",
    "            for data, target in val_loader:\n",
    "                output = classifier_model(data)\n",
    "                val_loss += criterion(output, target).item()\n",
    "                pred = output.argmax(dim=1, keepdim=True)\n",
    "                correct += pred.eq(target.view_as(pred)).sum().item()\n",
    "\n",
    "\n",
    "        scheduler.step()\n",
    "        val_accuracy = correct/len(val_loader.dataset)\n",
    "        print(f'Epoch {epoch+1}/{epochs}, Train Loss: {running_loss/len(train_loader)}, '\n",
    "              f'Val Loss: {val_loss/len(val_loader)}, Val Acc: {val_accuracy}')"
   ],
   "metadata": {
    "collapsed": false
   }
  },
  {
   "cell_type": "code",
   "execution_count": 276,
   "outputs": [
    {
     "name": "stdout",
     "output_type": "stream",
     "text": [
      "Epoch 1/30, Train Loss: 0.24871177580331486, Val Loss: 0.11808191401313287, Val Acc: 0.956256136140504\n",
      "Epoch 2/30, Train Loss: 0.11476019234736975, Val Loss: 0.11781032309319604, Val Acc: 0.9559288753136249\n",
      "Epoch 3/30, Train Loss: 0.11587541372425057, Val Loss: 0.1258414049165031, Val Acc: 0.9530926148140068\n",
      "Epoch 4/30, Train Loss: 0.11205397626057187, Val Loss: 0.2629963352673928, Val Acc: 0.9499290934875095\n",
      "Epoch 5/30, Train Loss: 0.11881385422751867, Val Loss: 0.12289185982867928, Val Acc: 0.9596378313515872\n",
      "Epoch 6/30, Train Loss: 0.10460999446775063, Val Loss: 0.12149942191367338, Val Acc: 0.9582197011017781\n",
      "Epoch 7/30, Train Loss: 0.13009399303317631, Val Loss: 0.1574780030429841, Val Acc: 0.9576742663903131\n",
      "Epoch 8/30, Train Loss: 0.10969947083725254, Val Loss: 0.14063243748309487, Val Acc: 0.957456092505727\n",
      "Epoch 9/30, Train Loss: 0.10367407408263729, Val Loss: 0.1578856205732658, Val Acc: 0.9587651358132432\n",
      "Epoch 10/30, Train Loss: 0.1121424443465581, Val Loss: 0.17855030546722886, Val Acc: 0.957237918621141\n",
      "Epoch 11/30, Train Loss: 0.09522892605963659, Val Loss: 0.1612508173653833, Val Acc: 0.9600741791207592\n",
      "Epoch 12/30, Train Loss: 0.09246036998715326, Val Loss: 0.1742478161151703, Val Acc: 0.9602923530053452\n",
      "Epoch 13/30, Train Loss: 0.09179645578419142, Val Loss: 0.17169190369372458, Val Acc: 0.9602923530053452\n",
      "Epoch 14/30, Train Loss: 0.09112288839555245, Val Loss: 0.18647748883645648, Val Acc: 0.9601832660630523\n",
      "Epoch 15/30, Train Loss: 0.09092491301681262, Val Loss: 0.1894431332297394, Val Acc: 0.9600741791207592\n",
      "Epoch 16/30, Train Loss: 0.09045145625364347, Val Loss: 0.2063766692801073, Val Acc: 0.9602923530053452\n",
      "Epoch 17/30, Train Loss: 0.09043424545713928, Val Loss: 0.19798060364045164, Val Acc: 0.9602923530053452\n",
      "Epoch 18/30, Train Loss: 0.09017728887033186, Val Loss: 0.21465038789349383, Val Acc: 0.9602923530053452\n",
      "Epoch 19/30, Train Loss: 0.09009657711410562, Val Loss: 0.23580575944914708, Val Acc: 0.9601832660630523\n",
      "Epoch 20/30, Train Loss: 0.08996056831589755, Val Loss: 0.22546669988744863, Val Acc: 0.9604014399476383\n",
      "Epoch 21/30, Train Loss: 0.08923659798843239, Val Loss: 0.22940972342412178, Val Acc: 0.9604014399476383\n",
      "Epoch 22/30, Train Loss: 0.08920299009476668, Val Loss: 0.23419380437421547, Val Acc: 0.9604014399476383\n",
      "Epoch 23/30, Train Loss: 0.08915398318291566, Val Loss: 0.23789253026475266, Val Acc: 0.9604014399476383\n",
      "Epoch 24/30, Train Loss: 0.08912765712091766, Val Loss: 0.24313227162132897, Val Acc: 0.9604014399476383\n",
      "Epoch 25/30, Train Loss: 0.08912961437905881, Val Loss: 0.24622391539479738, Val Acc: 0.9604014399476383\n",
      "Epoch 26/30, Train Loss: 0.08906523247925499, Val Loss: 0.2500448281500993, Val Acc: 0.9604014399476383\n",
      "Epoch 27/30, Train Loss: 0.08903767168828156, Val Loss: 0.2513781292754611, Val Acc: 0.9604014399476383\n",
      "Epoch 28/30, Train Loss: 0.08900275836633588, Val Loss: 0.2549225427029791, Val Acc: 0.9604014399476383\n",
      "Epoch 29/30, Train Loss: 0.08896876126174219, Val Loss: 0.25745149445427845, Val Acc: 0.9602923530053452\n",
      "Epoch 30/30, Train Loss: 0.0889546166162593, Val Loss: 0.2588888976030914, Val Acc: 0.9604014399476383\n"
     ]
    }
   ],
   "source": [
    "train_classifier({\"lr\": 0.02, \"batch_size\": 16, \"epochs\": 30})\n"
   ],
   "metadata": {
    "collapsed": false
   }
  },
  {
   "cell_type": "markdown",
   "source": [
    "## Testing the model"
   ],
   "metadata": {
    "collapsed": false,
    "id": "3dZv3SmcLONf"
   }
  },
  {
   "cell_type": "code",
   "execution_count": 204,
   "outputs": [
    {
     "data": {
      "text/plain": "8646"
     },
     "execution_count": 204,
     "metadata": {},
     "output_type": "execute_result"
    }
   ],
   "source": [
    "test_dataset = SpectrogramDataset(root_dir=preprocessed_test_data_dir, transform=transform)\n",
    "test_loader = DataLoader(test_dataset, batch_size=best_config[\"batch_size\"], shuffle=True)\n",
    "\n",
    "len(test_dataset)"
   ],
   "metadata": {
    "collapsed": false
   }
  },
  {
   "cell_type": "code",
   "execution_count": 205,
   "outputs": [
    {
     "data": {
      "text/plain": "8646"
     },
     "execution_count": 205,
     "metadata": {},
     "output_type": "execute_result"
    }
   ],
   "source": [
    "classifier_features, classifier_labels = load_dataset_from_file(test_features_set_file_name)\n",
    "\n",
    "test_classifier_dataset = TensorDataset(classifier_features, classifier_labels)\n",
    "test_classifier_loader = DataLoader(test_classifier_dataset, batch_size=32, shuffle=False)\n",
    "len(test_classifier_dataset)"
   ],
   "metadata": {
    "collapsed": false
   }
  },
  {
   "cell_type": "code",
   "execution_count": 266,
   "outputs": [],
   "source": [
    "from sklearn.metrics import precision_score, recall_score, f1_score, confusion_matrix\n",
    "\n",
    "def get_metrics(model_to_test, data_loader):\n",
    "    model_to_test.eval()\n",
    "\n",
    "    all_predictions = []\n",
    "    all_targets = []\n",
    "\n",
    "    batch_count = 0\n",
    "    with torch.no_grad():\n",
    "        for inputs, targets in data_loader:\n",
    "            batch_count += 1\n",
    "            print(\"handle batch\", batch_count)\n",
    "            inputs = inputs.to(device)\n",
    "            outputs = model_to_test(inputs)\n",
    "            _, predicted = torch.max(outputs, 1)\n",
    "\n",
    "            all_predictions.extend(predicted.cpu().numpy())\n",
    "            all_targets.extend(targets.cpu().numpy())\n",
    "\n",
    "    # Calculate metrics\n",
    "    precision = precision_score(all_targets, all_predictions, average='macro')\n",
    "    recall = recall_score(all_targets, all_predictions, average='macro')\n",
    "    f1 = f1_score(all_targets, all_predictions, average='macro')\n",
    "    conf_matrix = confusion_matrix(all_targets, all_predictions, labels=range(len(chord_labels)))\n",
    "\n",
    "    return precision, recall, f1, conf_matrix\n",
    "\n",
    "\n"
   ],
   "metadata": {
    "id": "PDGFpUk0u3AL",
    "colab": {
     "base_uri": "https://localhost:8080/"
    },
    "outputId": "ea84e68e-1feb-4a96-c4c7-cb20b32f210c"
   }
  },
  {
   "cell_type": "code",
   "execution_count": 214,
   "outputs": [
    {
     "data": {
      "text/plain": "ChordClassifier(\n  (fc1): Linear(in_features=2048, out_features=512, bias=True)\n  (relu): ReLU()\n  (fc2): Linear(in_features=512, out_features=7, bias=True)\n  (softmax): Softmax(dim=1)\n)"
     },
     "execution_count": 214,
     "metadata": {},
     "output_type": "execute_result"
    }
   ],
   "source": [
    "classifier_model"
   ],
   "metadata": {
    "collapsed": false
   }
  },
  {
   "cell_type": "code",
   "execution_count": 277,
   "outputs": [],
   "source": [
    "classifier_precision, classifier_recall, classifier_f1, classifier_conf_matrix = get_metrics(classifier_model, test_classifier_loader)"
   ],
   "metadata": {
    "collapsed": false
   }
  },
  {
   "cell_type": "code",
   "execution_count": 278,
   "outputs": [
    {
     "name": "stdout",
     "output_type": "stream",
     "text": [
      "0.9035940999683936 0.8964606527671436 0.8976557762603086\n"
     ]
    }
   ],
   "source": [
    "print(classifier_precision, classifier_recall, classifier_f1)"
   ],
   "metadata": {
    "collapsed": false
   }
  },
  {
   "cell_type": "markdown",
   "source": [
    "0.9021650034095429 0.8961107826195616 0.8971024453227924"
   ],
   "metadata": {
    "collapsed": false
   }
  },
  {
   "cell_type": "markdown",
   "source": [
    "0.9035940999683936 0.8964606527671436 0.8976557762603086"
   ],
   "metadata": {
    "collapsed": false
   }
  },
  {
   "cell_type": "markdown",
   "source": [
    "Need to reload the ResNet50 model to restore the last layer for comparison."
   ],
   "metadata": {
    "collapsed": false
   }
  },
  {
   "cell_type": "code",
   "execution_count": 225,
   "outputs": [
    {
     "name": "stdout",
     "output_type": "stream",
     "text": [
      "Linear(in_features=2048, out_features=7, bias=True)\n"
     ]
    }
   ],
   "source": [
    "import os\n",
    "\n",
    "model = load_model(os.path.join(pretrained_models_dir, \"chord_classifier_v3.pth\"))\n",
    "model.to(device)\n",
    "print(model.fc)"
   ],
   "metadata": {
    "collapsed": false
   }
  },
  {
   "cell_type": "code",
   "execution_count": 228,
   "outputs": [
    {
     "name": "stdout",
     "output_type": "stream",
     "text": [
      "handle batch 1\n",
      "handle batch 2\n",
      "handle batch 3\n",
      "handle batch 4\n",
      "handle batch 5\n",
      "handle batch 6\n",
      "handle batch 7\n",
      "handle batch 8\n",
      "handle batch 9\n",
      "handle batch 10\n",
      "handle batch 11\n",
      "handle batch 12\n",
      "handle batch 13\n",
      "handle batch 14\n",
      "handle batch 15\n",
      "handle batch 16\n",
      "handle batch 17\n",
      "handle batch 18\n",
      "handle batch 19\n",
      "handle batch 20\n",
      "handle batch 21\n",
      "handle batch 22\n",
      "handle batch 23\n",
      "handle batch 24\n",
      "handle batch 25\n",
      "handle batch 26\n",
      "handle batch 27\n",
      "handle batch 28\n",
      "handle batch 29\n",
      "handle batch 30\n",
      "handle batch 31\n",
      "handle batch 32\n",
      "handle batch 33\n",
      "handle batch 34\n",
      "handle batch 35\n",
      "handle batch 36\n",
      "handle batch 37\n",
      "handle batch 38\n",
      "handle batch 39\n",
      "handle batch 40\n",
      "handle batch 41\n",
      "handle batch 42\n",
      "handle batch 43\n",
      "handle batch 44\n",
      "handle batch 45\n",
      "handle batch 46\n",
      "handle batch 47\n",
      "handle batch 48\n",
      "handle batch 49\n",
      "handle batch 50\n",
      "handle batch 51\n",
      "handle batch 52\n",
      "handle batch 53\n",
      "handle batch 54\n",
      "handle batch 55\n",
      "handle batch 56\n",
      "handle batch 57\n",
      "handle batch 58\n",
      "handle batch 59\n",
      "handle batch 60\n",
      "handle batch 61\n",
      "handle batch 62\n",
      "handle batch 63\n",
      "handle batch 64\n",
      "handle batch 65\n",
      "handle batch 66\n",
      "handle batch 67\n",
      "handle batch 68\n",
      "handle batch 69\n",
      "handle batch 70\n",
      "handle batch 71\n",
      "handle batch 72\n",
      "handle batch 73\n",
      "handle batch 74\n",
      "handle batch 75\n",
      "handle batch 76\n",
      "handle batch 77\n",
      "handle batch 78\n",
      "handle batch 79\n",
      "handle batch 80\n",
      "handle batch 81\n",
      "handle batch 82\n",
      "handle batch 83\n",
      "handle batch 84\n",
      "handle batch 85\n",
      "handle batch 86\n",
      "handle batch 87\n",
      "handle batch 88\n",
      "handle batch 89\n",
      "handle batch 90\n",
      "handle batch 91\n",
      "handle batch 92\n",
      "handle batch 93\n",
      "handle batch 94\n",
      "handle batch 95\n",
      "handle batch 96\n",
      "handle batch 97\n",
      "handle batch 98\n",
      "handle batch 99\n",
      "handle batch 100\n",
      "handle batch 101\n",
      "handle batch 102\n",
      "handle batch 103\n",
      "handle batch 104\n",
      "handle batch 105\n",
      "handle batch 106\n",
      "handle batch 107\n",
      "handle batch 108\n",
      "handle batch 109\n",
      "handle batch 110\n",
      "handle batch 111\n",
      "handle batch 112\n",
      "handle batch 113\n",
      "handle batch 114\n",
      "handle batch 115\n",
      "handle batch 116\n",
      "handle batch 117\n",
      "handle batch 118\n",
      "handle batch 119\n",
      "handle batch 120\n",
      "handle batch 121\n",
      "handle batch 122\n",
      "handle batch 123\n",
      "handle batch 124\n",
      "handle batch 125\n",
      "handle batch 126\n",
      "handle batch 127\n",
      "handle batch 128\n",
      "handle batch 129\n",
      "handle batch 130\n",
      "handle batch 131\n",
      "handle batch 132\n",
      "handle batch 133\n",
      "handle batch 134\n",
      "handle batch 135\n",
      "handle batch 136\n",
      "handle batch 137\n",
      "handle batch 138\n",
      "handle batch 139\n",
      "handle batch 140\n",
      "handle batch 141\n",
      "handle batch 142\n",
      "handle batch 143\n",
      "handle batch 144\n",
      "handle batch 145\n",
      "handle batch 146\n",
      "handle batch 147\n",
      "handle batch 148\n",
      "handle batch 149\n",
      "handle batch 150\n",
      "handle batch 151\n",
      "handle batch 152\n",
      "handle batch 153\n",
      "handle batch 154\n",
      "handle batch 155\n",
      "handle batch 156\n",
      "handle batch 157\n",
      "handle batch 158\n",
      "handle batch 159\n",
      "handle batch 160\n",
      "handle batch 161\n",
      "handle batch 162\n",
      "handle batch 163\n",
      "handle batch 164\n",
      "handle batch 165\n",
      "handle batch 166\n",
      "handle batch 167\n",
      "handle batch 168\n",
      "handle batch 169\n",
      "handle batch 170\n",
      "handle batch 171\n",
      "handle batch 172\n",
      "handle batch 173\n",
      "handle batch 174\n",
      "handle batch 175\n",
      "handle batch 176\n",
      "handle batch 177\n",
      "handle batch 178\n",
      "handle batch 179\n",
      "handle batch 180\n",
      "handle batch 181\n",
      "handle batch 182\n",
      "handle batch 183\n",
      "handle batch 184\n",
      "handle batch 185\n",
      "handle batch 186\n",
      "handle batch 187\n",
      "handle batch 188\n",
      "handle batch 189\n",
      "handle batch 190\n",
      "handle batch 191\n",
      "handle batch 192\n",
      "handle batch 193\n",
      "handle batch 194\n",
      "handle batch 195\n",
      "handle batch 196\n",
      "handle batch 197\n",
      "handle batch 198\n",
      "handle batch 199\n",
      "handle batch 200\n",
      "handle batch 201\n",
      "handle batch 202\n",
      "handle batch 203\n",
      "handle batch 204\n",
      "handle batch 205\n",
      "handle batch 206\n",
      "handle batch 207\n",
      "handle batch 208\n",
      "handle batch 209\n",
      "handle batch 210\n",
      "handle batch 211\n",
      "handle batch 212\n",
      "handle batch 213\n",
      "handle batch 214\n",
      "handle batch 215\n",
      "handle batch 216\n",
      "handle batch 217\n",
      "handle batch 218\n",
      "handle batch 219\n",
      "handle batch 220\n",
      "handle batch 221\n",
      "handle batch 222\n",
      "handle batch 223\n",
      "handle batch 224\n",
      "handle batch 225\n",
      "handle batch 226\n",
      "handle batch 227\n",
      "handle batch 228\n",
      "handle batch 229\n",
      "handle batch 230\n",
      "handle batch 231\n",
      "handle batch 232\n",
      "handle batch 233\n",
      "handle batch 234\n",
      "handle batch 235\n",
      "handle batch 236\n",
      "handle batch 237\n",
      "handle batch 238\n",
      "handle batch 239\n",
      "handle batch 240\n",
      "handle batch 241\n",
      "handle batch 242\n",
      "handle batch 243\n",
      "handle batch 244\n",
      "handle batch 245\n",
      "handle batch 246\n",
      "handle batch 247\n",
      "handle batch 248\n",
      "handle batch 249\n",
      "handle batch 250\n",
      "handle batch 251\n",
      "handle batch 252\n",
      "handle batch 253\n",
      "handle batch 254\n",
      "handle batch 255\n",
      "handle batch 256\n",
      "handle batch 257\n",
      "handle batch 258\n",
      "handle batch 259\n",
      "handle batch 260\n",
      "handle batch 261\n",
      "handle batch 262\n",
      "handle batch 263\n",
      "handle batch 264\n",
      "handle batch 265\n",
      "handle batch 266\n",
      "handle batch 267\n",
      "handle batch 268\n",
      "handle batch 269\n",
      "handle batch 270\n",
      "handle batch 271\n",
      "handle batch 272\n",
      "handle batch 273\n",
      "handle batch 274\n",
      "handle batch 275\n",
      "handle batch 276\n",
      "handle batch 277\n",
      "handle batch 278\n",
      "handle batch 279\n",
      "handle batch 280\n",
      "handle batch 281\n",
      "handle batch 282\n",
      "handle batch 283\n",
      "handle batch 284\n",
      "handle batch 285\n",
      "handle batch 286\n",
      "handle batch 287\n",
      "handle batch 288\n",
      "handle batch 289\n",
      "handle batch 290\n",
      "handle batch 291\n",
      "handle batch 292\n",
      "handle batch 293\n",
      "handle batch 294\n",
      "handle batch 295\n",
      "handle batch 296\n",
      "handle batch 297\n",
      "handle batch 298\n",
      "handle batch 299\n",
      "handle batch 300\n",
      "handle batch 301\n",
      "handle batch 302\n",
      "handle batch 303\n",
      "handle batch 304\n",
      "handle batch 305\n",
      "handle batch 306\n",
      "handle batch 307\n",
      "handle batch 308\n",
      "handle batch 309\n",
      "handle batch 310\n",
      "handle batch 311\n",
      "handle batch 312\n",
      "handle batch 313\n",
      "handle batch 314\n",
      "handle batch 315\n",
      "handle batch 316\n",
      "handle batch 317\n",
      "handle batch 318\n",
      "handle batch 319\n",
      "handle batch 320\n",
      "handle batch 321\n",
      "handle batch 322\n",
      "handle batch 323\n",
      "handle batch 324\n",
      "handle batch 325\n",
      "handle batch 326\n",
      "handle batch 327\n",
      "handle batch 328\n",
      "handle batch 329\n",
      "handle batch 330\n",
      "handle batch 331\n",
      "handle batch 332\n",
      "handle batch 333\n",
      "handle batch 334\n",
      "handle batch 335\n",
      "handle batch 336\n",
      "handle batch 337\n",
      "handle batch 338\n",
      "handle batch 339\n",
      "handle batch 340\n",
      "handle batch 341\n",
      "handle batch 342\n",
      "handle batch 343\n",
      "handle batch 344\n",
      "handle batch 345\n",
      "handle batch 346\n",
      "handle batch 347\n",
      "handle batch 348\n",
      "handle batch 349\n",
      "handle batch 350\n",
      "handle batch 351\n",
      "handle batch 352\n",
      "handle batch 353\n",
      "handle batch 354\n",
      "handle batch 355\n",
      "handle batch 356\n",
      "handle batch 357\n",
      "handle batch 358\n",
      "handle batch 359\n",
      "handle batch 360\n",
      "handle batch 361\n",
      "handle batch 362\n",
      "handle batch 363\n",
      "handle batch 364\n",
      "handle batch 365\n",
      "handle batch 366\n",
      "handle batch 367\n",
      "handle batch 368\n",
      "handle batch 369\n",
      "handle batch 370\n",
      "handle batch 371\n",
      "handle batch 372\n",
      "handle batch 373\n",
      "handle batch 374\n",
      "handle batch 375\n",
      "handle batch 376\n",
      "handle batch 377\n",
      "handle batch 378\n",
      "handle batch 379\n",
      "handle batch 380\n",
      "handle batch 381\n",
      "handle batch 382\n",
      "handle batch 383\n",
      "handle batch 384\n",
      "handle batch 385\n",
      "handle batch 386\n",
      "handle batch 387\n",
      "handle batch 388\n",
      "handle batch 389\n",
      "handle batch 390\n",
      "handle batch 391\n",
      "handle batch 392\n",
      "handle batch 393\n",
      "handle batch 394\n",
      "handle batch 395\n",
      "handle batch 396\n",
      "handle batch 397\n",
      "handle batch 398\n",
      "handle batch 399\n",
      "handle batch 400\n",
      "handle batch 401\n",
      "handle batch 402\n",
      "handle batch 403\n",
      "handle batch 404\n",
      "handle batch 405\n",
      "handle batch 406\n",
      "handle batch 407\n",
      "handle batch 408\n",
      "handle batch 409\n",
      "handle batch 410\n",
      "handle batch 411\n",
      "handle batch 412\n",
      "handle batch 413\n",
      "handle batch 414\n",
      "handle batch 415\n",
      "handle batch 416\n",
      "handle batch 417\n",
      "handle batch 418\n",
      "handle batch 419\n",
      "handle batch 420\n",
      "handle batch 421\n",
      "handle batch 422\n",
      "handle batch 423\n",
      "handle batch 424\n",
      "handle batch 425\n",
      "handle batch 426\n",
      "handle batch 427\n",
      "handle batch 428\n",
      "handle batch 429\n",
      "handle batch 430\n",
      "handle batch 431\n",
      "handle batch 432\n",
      "handle batch 433\n",
      "handle batch 434\n",
      "handle batch 435\n",
      "handle batch 436\n",
      "handle batch 437\n",
      "handle batch 438\n",
      "handle batch 439\n",
      "handle batch 440\n",
      "handle batch 441\n",
      "handle batch 442\n",
      "handle batch 443\n",
      "handle batch 444\n",
      "handle batch 445\n",
      "handle batch 446\n",
      "handle batch 447\n",
      "handle batch 448\n",
      "handle batch 449\n",
      "handle batch 450\n",
      "handle batch 451\n",
      "handle batch 452\n",
      "handle batch 453\n",
      "handle batch 454\n",
      "handle batch 455\n",
      "handle batch 456\n",
      "handle batch 457\n",
      "handle batch 458\n",
      "handle batch 459\n",
      "handle batch 460\n",
      "handle batch 461\n",
      "handle batch 462\n",
      "handle batch 463\n",
      "handle batch 464\n",
      "handle batch 465\n",
      "handle batch 466\n",
      "handle batch 467\n",
      "handle batch 468\n",
      "handle batch 469\n",
      "handle batch 470\n",
      "handle batch 471\n",
      "handle batch 472\n",
      "handle batch 473\n",
      "handle batch 474\n",
      "handle batch 475\n",
      "handle batch 476\n",
      "handle batch 477\n",
      "handle batch 478\n",
      "handle batch 479\n",
      "handle batch 480\n",
      "handle batch 481\n",
      "handle batch 482\n",
      "handle batch 483\n",
      "handle batch 484\n",
      "handle batch 485\n",
      "handle batch 486\n",
      "handle batch 487\n",
      "handle batch 488\n",
      "handle batch 489\n",
      "handle batch 490\n",
      "handle batch 491\n",
      "handle batch 492\n",
      "handle batch 493\n",
      "handle batch 494\n",
      "handle batch 495\n",
      "handle batch 496\n",
      "handle batch 497\n",
      "handle batch 498\n",
      "handle batch 499\n",
      "handle batch 500\n",
      "handle batch 501\n",
      "handle batch 502\n",
      "handle batch 503\n",
      "handle batch 504\n",
      "handle batch 505\n",
      "handle batch 506\n",
      "handle batch 507\n",
      "handle batch 508\n",
      "handle batch 509\n",
      "handle batch 510\n",
      "handle batch 511\n",
      "handle batch 512\n",
      "handle batch 513\n",
      "handle batch 514\n",
      "handle batch 515\n",
      "handle batch 516\n",
      "handle batch 517\n",
      "handle batch 518\n",
      "handle batch 519\n",
      "handle batch 520\n",
      "handle batch 521\n",
      "handle batch 522\n",
      "handle batch 523\n",
      "handle batch 524\n",
      "handle batch 525\n",
      "handle batch 526\n",
      "handle batch 527\n",
      "handle batch 528\n",
      "handle batch 529\n",
      "handle batch 530\n",
      "handle batch 531\n",
      "handle batch 532\n",
      "handle batch 533\n",
      "handle batch 534\n",
      "handle batch 535\n",
      "handle batch 536\n",
      "handle batch 537\n",
      "handle batch 538\n",
      "handle batch 539\n",
      "handle batch 540\n",
      "handle batch 541\n"
     ]
    }
   ],
   "source": [
    "precision, recall, f1, conf_matrix = get_metrics(model, test_loader)\n"
   ],
   "metadata": {
    "collapsed": false
   }
  },
  {
   "cell_type": "code",
   "execution_count": 229,
   "outputs": [
    {
     "name": "stdout",
     "output_type": "stream",
     "text": [
      "0.9045474853508028 0.8953034375710812 0.8971718566412676\n"
     ]
    }
   ],
   "source": [
    "print(precision, recall, f1)"
   ],
   "metadata": {
    "collapsed": false
   }
  },
  {
   "cell_type": "code",
   "execution_count": null,
   "outputs": [],
   "source": [
    "print(f\"ResNet50 Precision: {precision}, Classifier Precision: {classifier_precision}\")\n",
    "print(f\"ResNet50 Recall: {recall}, Classifier Recall: {classifier_recall}\")\n",
    "print(f\"ResNet50 F1 Score: {f1}, Classifier F1 Score\")"
   ],
   "metadata": {
    "collapsed": false
   }
  },
  {
   "cell_type": "markdown",
   "source": [
    "Metrics received on test dataset:\n",
    "\n",
    "Precision: 0.9044754119873304\n",
    "\n",
    "Recall: 0.8930117832821793\n",
    "\n",
    "F1 Score: 0.8953096711745837"
   ],
   "metadata": {
    "collapsed": false,
    "id": "AmMORCKTu3AL"
   }
  },
  {
   "cell_type": "markdown",
   "source": [],
   "metadata": {
    "collapsed": false,
    "id": "z0U3NWvaLONf"
   }
  },
  {
   "cell_type": "code",
   "execution_count": 279,
   "outputs": [],
   "source": [
    "import matplotlib.pyplot as plt\n",
    "import seaborn as sns\n",
    "\n",
    "def plot_confusion_matrices(conf_matrix1, conf_matrix2, labels, title1='Confusion Matrix 1', title2='Confusion Matrix 2'):\n",
    "    fig, ax = plt.subplots(1, 2, figsize=(20, 8))  # 1 row, 2 columns\n",
    "\n",
    "    # Plot first confusion matrix\n",
    "    sns.heatmap(conf_matrix1, annot=True, fmt='g', ax=ax[0], xticklabels=labels, yticklabels=labels, cmap='viridis')\n",
    "    ax[0].set_title(title1)\n",
    "    ax[0].set_xlabel('Predicted labels')\n",
    "    ax[0].set_ylabel('True labels')\n",
    "\n",
    "    # Plot second confusion matrix\n",
    "    sns.heatmap(conf_matrix2, annot=True, fmt='g', ax=ax[1], xticklabels=labels, yticklabels=labels, cmap='viridis')\n",
    "    ax[1].set_title(title2)\n",
    "    ax[1].set_xlabel('Predicted labels')\n",
    "    ax[1].set_ylabel('True labels')\n",
    "\n",
    "    plt.tight_layout()  # Adjust layout to not overlap\n",
    "    plt.show()\n"
   ],
   "metadata": {
    "id": "mB0dq8E7u3AL",
    "colab": {
     "base_uri": "https://localhost:8080/",
     "height": 696
    },
    "outputId": "fb12c976-5560-46dc-bbc3-7840124a41ff"
   }
  },
  {
   "cell_type": "code",
   "execution_count": 280,
   "outputs": [
    {
     "data": {
      "text/plain": "<Figure size 2000x800 with 4 Axes>",
      "image/png": "[encoded data removed]"
     },
     "metadata": {},
     "output_type": "display_data"
    }
   ],
   "source": [
    "plot_confusion_matrices(conf_matrix, classifier_conf_matrix, chord_labels, \"ResNet50\", \"Classifier\")\n"
   ],
   "metadata": {
    "collapsed": false
   }
  },
  {
   "cell_type": "markdown",
   "source": [
    "## Track splitting\n"
   ],
   "metadata": {
    "collapsed": false,
    "id": "rv762AGOu2_4"
   }
  },
  {
   "cell_type": "code",
   "execution_count": 308,
   "outputs": [],
   "source": [
    "songs_dir = \"songs\"\n",
    "separated_songs_dir = os.path.join(songs_dir, \"separated\")\n",
    "song_file_name = \"Have-You-Ever-Seen-The-Rain\"\n",
    "song_path = os.path.join(songs_dir, song_file_name + \".mp3\")"
   ],
   "metadata": {
    "id": "A2PY9iuau2_4"
   }
  },
  {
   "cell_type": "markdown",
   "source": [
    "Extracting the guitar track from the uploaded song. Let's check this feature on the Have You Ever Seen The Rain by Creedence Clearwater Revival which has a distinctive guitar track.\n"
   ],
   "metadata": {
    "collapsed": false,
    "id": "REPXTaEau2_5"
   }
  },
  {
   "cell_type": "code",
   "execution_count": null,
   "outputs": [],
   "source": [
    "from IPython.display import Audio\n",
    "\n",
    "Audio(song_path)\n"
   ],
   "metadata": {
    "id": "FLg2dJ-xu2_5"
   }
  },
  {
   "cell_type": "markdown",
   "source": [
    "Spleeter will divide the song into 4 separate tracks: bass, drums, vocals and other. The guitar will be contained in \"other\"."
   ],
   "metadata": {
    "collapsed": false,
    "id": "UXG6YViZu2_5"
   }
  },
  {
   "cell_type": "code",
   "execution_count": null,
   "outputs": [],
   "source": [
    "import subprocess\n",
    "\n",
    "command = f\"spleeter separate -p spleeter:4stems -o {separated_songs_dir} {song_path}\"\n",
    "subprocess.run(command, shell=True)"
   ],
   "metadata": {
    "id": "pbKjiheMu2_5"
   }
  },
  {
   "cell_type": "markdown",
   "source": [],
   "metadata": {
    "collapsed": false,
    "id": "20fDQaLnu2_5"
   }
  },
  {
   "cell_type": "code",
   "execution_count": null,
   "outputs": [],
   "source": [
    "guitar_track_path = os.path.join(separated_songs_dir, song_file_name, \"other.mp3\")\n",
    "\n",
    "Audio(guitar_track_path)\n"
   ],
   "metadata": {
    "id": "I25XBUP8u2_5"
   }
  },
  {
   "cell_type": "markdown",
   "source": [
    "## Generating spectrograms from the extracted track\n"
   ],
   "metadata": {
    "collapsed": false,
    "id": "QXqSCBagu2_5"
   }
  },
  {
   "cell_type": "code",
   "execution_count": 309,
   "outputs": [],
   "source": [
    "output_dir = Path(os.path.join(\"data\", \"extracted\", song_file_name))"
   ],
   "metadata": {
    "id": "lercTZzau2_6"
   }
  },
  {
   "cell_type": "markdown",
   "source": [
    "The following function will process each segment of a track and convert it to a spectrogram. The spectrogram will be returned to be used as input to CNN and also will be saved to disk so that if we want to process the same track again, we could use existing data."
   ],
   "metadata": {
    "collapsed": false,
    "id": "2gaZcaQEu2_6"
   }
  },
  {
   "cell_type": "markdown",
   "source": [
    "The following function detects beat length and generates a spectrogram for each beat. Currently, it returns an array of spectrograms. Later on, predictions of a chord with CNN will be plugged in and it will return a list of predictions."
   ],
   "metadata": {
    "collapsed": false,
    "id": "e569jcHEu2_6"
   }
  },
  {
   "cell_type": "code",
   "execution_count": null,
   "outputs": [],
   "source": [
    "import librosa\n",
    "\n",
    "def process_track(audio_path, output_dir):\n",
    "    y, sr = librosa.load(audio_path, sr=None)\n",
    "    tempo, _ = librosa.beat.beat_track(y=y, sr=sr)\n",
    "\n",
    "    print(f\"Track tempo is {tempo}\")\n",
    "    beat_duration = 60.0 / tempo  # Duration of a beat in seconds\n",
    "\n",
    "    print(f\"Beat duration is {beat_duration} seconds\")\n",
    "\n",
    "    # Calculate the number of samples per beat\n",
    "    samples_per_beat = int(beat_duration * sr)\n",
    "\n",
    "    print(f\"Samples per beat: {samples_per_beat}\")\n",
    "\n",
    "    spectrograms = []\n",
    "    for i in range(0, len(y), samples_per_beat):\n",
    "        end_frame = i + samples_per_beat\n",
    "        if end_frame > len(y):\n",
    "            end_frame = len(y)  # Adjust the end frame for the last segment\n",
    "\n",
    "        segment = y[i:end_frame]\n",
    "        filename = f'spectrogram_{i // samples_per_beat}.jpg'\n",
    "        print(f\"Create spectrogram {filename}\")\n",
    "        spectrogram = create_spectrogram(segment, sr, os.path.join(output_dir, filename))\n",
    "        spectrograms.append(spectrogram)\n",
    "\n",
    "    return spectrograms\n"
   ],
   "metadata": {
    "id": "kEvvfu7lu2_6"
   }
  },
  {
   "cell_type": "markdown",
   "source": [
    "To keep things simple, we will consider that the track already processed if the directory with the song name already exists. We can implement more sophisticated and robust checks like file hash sum later."
   ],
   "metadata": {
    "collapsed": false,
    "id": "LWoGfR9Gu2_6"
   }
  },
  {
   "cell_type": "code",
   "execution_count": null,
   "outputs": [],
   "source": [
    "try:\n",
    "    if os.path.exists(output_dir):\n",
    "        print(\"The track is already processed\", output_dir)\n",
    "    else:\n",
    "        os.makedirs(output_dir)\n",
    "        print(\"Processing track\", output_dir)\n",
    "        spectrograms = process_track(guitar_track_path, output_dir)\n",
    "\n",
    "        print(spectrograms[:10])\n",
    "except Exception as e:\n",
    "    print(e)\n",
    "    os.removedirs(output_dir)\n"
   ],
   "metadata": {
    "id": "RDxB-WYXu3AE"
   }
  },
  {
   "cell_type": "markdown",
   "source": [
    "Let's visualize an example of generated spectrogram"
   ],
   "metadata": {
    "collapsed": false,
    "id": "G_ypZyhxu3AE"
   }
  },
  {
   "cell_type": "code",
   "execution_count": null,
   "outputs": [],
   "source": [
    "import matplotlib.image as mpimg\n",
    "\n",
    "files = os.listdir(output_dir)\n",
    "image_path = os.path.join(output_dir, files[50])\n",
    "\n",
    "print(f\"Displaying the image at {image_path}\")\n",
    "\n",
    "img = mpimg.imread(image_path)\n",
    "\n",
    "# Display the image\n",
    "plt.imshow(img)\n",
    "plt.axis('off')\n",
    "plt.show()\n"
   ],
   "metadata": {
    "id": "LgWhiYrlu3AE"
   }
  },
  {
   "cell_type": "markdown",
   "source": [
    "## Inference\n"
   ],
   "metadata": {
    "collapsed": false,
    "id": "eoy3YSI8u3AL"
   }
  },
  {
   "cell_type": "code",
   "execution_count": 295,
   "outputs": [],
   "source": [
    "from PIL import Image\n",
    "\n",
    "def load_spectrogram(file_path):\n",
    "    image = Image.open(file_path).convert('RGB')\n",
    "    return transform(image)"
   ],
   "metadata": {
    "id": "TMlaZwv9u3AL"
   }
  },
  {
   "cell_type": "markdown",
   "source": [
    "Switch to evaluation mode and convert logits to probabilities using softmax\n"
   ],
   "metadata": {
    "id": "AmN4yNA492Qh"
   }
  },
  {
   "cell_type": "code",
   "source": [
    "import torch\n",
    "\n",
    "# Ensure the model is in evaluation mode\n",
    "model.eval()\n",
    "classifier_model.eval()\n",
    "\n",
    "# Define the softmax function\n",
    "softmax = torch.nn.Softmax(dim=1)"
   ],
   "metadata": {
    "id": "y7dabTIL92sR"
   },
   "execution_count": 310,
   "outputs": []
  },
  {
   "cell_type": "markdown",
   "source": [
    "Sort spectrograms by file name as it contains its order number. We need to have it ordered to be able to output it aligned with track timeline."
   ],
   "metadata": {
    "id": "Y6ajig6M99FI"
   }
  },
  {
   "cell_type": "code",
   "execution_count": 311,
   "outputs": [
    {
     "data": {
      "text/plain": "PosixPath('data/extracted/Have-You-Ever-Seen-The-Rain')"
     },
     "execution_count": 311,
     "metadata": {},
     "output_type": "execute_result"
    }
   ],
   "source": [
    "output_dir"
   ],
   "metadata": {
    "id": "7pCSqfliLONg"
   }
  },
  {
   "cell_type": "code",
   "source": [
    "import os\n",
    "\n",
    "# List all jpg files in the output directory\n",
    "file_names = [file for file in os.listdir(output_dir) if file.endswith('.jpg')]\n",
    "\n",
    "# Sort the file names (natural sort or simple alphanumeric sort)\n",
    "file_names.sort(key=lambda f: int(f.split('_')[-1].split('.')[0]))\n",
    "\n",
    "spectrograms = [load_spectrogram(os.path.join(output_dir, file)) for file in file_names]"
   ],
   "metadata": {
    "id": "ZnouPWsO99qI"
   },
   "execution_count": 312,
   "outputs": []
  },
  {
   "cell_type": "markdown",
   "source": [
    "Make predictions for each spectrogram. For each prediction we get top N results. We also map them to labels for output."
   ],
   "metadata": {
    "id": "jTse-xad-e5h"
   }
  },
  {
   "cell_type": "code",
   "source": [
    "index_to_label = {v: k for k,v in label_to_idx.items()}\n",
    "\n",
    "N = 3  # Number of top predictions\n",
    "\n",
    "top_labels_all = []\n",
    "top_confidences_all = []\n",
    "\n",
    "for spectrogram in spectrograms:\n",
    "    # make sure spectrograms are on the same device as the model, otherwise there will be input type mismatch\n",
    "    spectrogram = spectrogram.to(device)\n",
    "    # Apply the model and get the prediction\n",
    "    output = classifier_model(model(spectrogram.unsqueeze(0)))  # Add batch dimension\n",
    "    probabilities = softmax(output)\n",
    "\n",
    "    # Get the top N predictions\n",
    "    top_probs, top_preds = torch.topk(probabilities, N, dim=1)\n",
    "\n",
    "    # Convert to labels and confidences\n",
    "    top_labels = [index_to_label[pred.item()] for pred in top_preds[0]]\n",
    "    top_confidences = [prob.item() for prob in top_probs[0]]\n",
    "\n",
    "    top_labels_all.append(top_labels)\n",
    "    top_confidences_all.append(top_confidences)"
   ],
   "metadata": {
    "id": "qfmCyTJg-Ysq"
   },
   "execution_count": 313,
   "outputs": []
  },
  {
   "cell_type": "markdown",
   "source": [
    "## Output"
   ],
   "metadata": {
    "id": "tJ1KM4F7-3hP"
   }
  },
  {
   "cell_type": "markdown",
   "source": [
    "* For each beat, we get top N predictions\n",
    "* Low confidence predictions with threshold lower than 0.3 will be discarded\n",
    "* We will consider two adjacents beats at once. First, chords that appear in both beats predictions will be chosen. If there are several such chords, then the chord with the highest average confidence will be chosen."
   ],
   "metadata": {
    "id": "b-hMILEE-80c"
   }
  },
  {
   "cell_type": "markdown",
   "source": [],
   "metadata": {
    "collapsed": false,
    "id": "RRRXzre5LONh"
   }
  },
  {
   "cell_type": "code",
   "source": [
    "for file, labels, confidences in zip(file_names[:20], top_labels_all[:20], top_confidences_all[:20]):\n",
    "    print(f\"{file}:\")\n",
    "    for label, confidence in zip(labels, confidences):\n",
    "        print(f\"  {label}: {confidence:.4f}\")"
   ],
   "metadata": {
    "id": "I35BkV0O-0hb"
   },
   "execution_count": 314,
   "outputs": [
    {
     "name": "stdout",
     "output_type": "stream",
     "text": [
      "spectrogram_0.jpg:\n",
      "  Am: 1.0000\n",
      "  Bb: 0.0000\n",
      "  C: 0.0000\n",
      "spectrogram_1.jpg:\n",
      "  Am: 1.0000\n",
      "  Bb: 0.0000\n",
      "  C: 0.0000\n",
      "spectrogram_2.jpg:\n",
      "  Am: 1.0000\n",
      "  Bb: 0.0000\n",
      "  C: 0.0000\n",
      "spectrogram_3.jpg:\n",
      "  Am: 1.0000\n",
      "  Bb: 0.0000\n",
      "  C: 0.0000\n",
      "spectrogram_4.jpg:\n",
      "  Am: 1.0000\n",
      "  Bb: 0.0000\n",
      "  C: 0.0000\n",
      "spectrogram_5.jpg:\n",
      "  F: 1.0000\n",
      "  Bb: 0.0000\n",
      "  C: 0.0000\n",
      "spectrogram_6.jpg:\n",
      "  F: 1.0000\n",
      "  Bb: 0.0000\n",
      "  C: 0.0000\n",
      "spectrogram_7.jpg:\n",
      "  F: 1.0000\n",
      "  Bb: 0.0000\n",
      "  C: 0.0000\n",
      "spectrogram_8.jpg:\n",
      "  F: 1.0000\n",
      "  C: 0.0000\n",
      "  Bb: 0.0000\n",
      "spectrogram_9.jpg:\n",
      "  C: 1.0000\n",
      "  Bb: 0.0000\n",
      "  Am: 0.0000\n",
      "spectrogram_10.jpg:\n",
      "  C: 1.0000\n",
      "  G: 0.0000\n",
      "  Am: 0.0000\n",
      "spectrogram_11.jpg:\n",
      "  C: 1.0000\n",
      "  G: 0.0000\n",
      "  Am: 0.0000\n",
      "spectrogram_12.jpg:\n",
      "  C: 1.0000\n",
      "  G: 0.0000\n",
      "  Dm: 0.0000\n",
      "spectrogram_13.jpg:\n",
      "  G: 1.0000\n",
      "  Bb: 0.0000\n",
      "  C: 0.0000\n",
      "spectrogram_14.jpg:\n",
      "  G: 1.0000\n",
      "  Bb: 0.0000\n",
      "  C: 0.0000\n",
      "spectrogram_15.jpg:\n",
      "  Em: 1.0000\n",
      "  Bb: 0.0000\n",
      "  C: 0.0000\n",
      "spectrogram_16.jpg:\n",
      "  Em: 1.0000\n",
      "  Bb: 0.0000\n",
      "  C: 0.0000\n",
      "spectrogram_17.jpg:\n",
      "  Em: 1.0000\n",
      "  G: 0.0000\n",
      "  C: 0.0000\n",
      "spectrogram_18.jpg:\n",
      "  Em: 1.0000\n",
      "  C: 0.0000\n",
      "  G: 0.0000\n",
      "spectrogram_19.jpg:\n",
      "  C: 1.0000\n",
      "  G: 0.0000\n",
      "  Dm: 0.0000\n"
     ]
    }
   ]
  },
  {
   "cell_type": "code",
   "execution_count": 315,
   "outputs": [],
   "source": [
    "def map_label_to_confidence(labels, confidences):\n",
    "    return {label: confidence for label, confidence in zip(labels, confidences)}"
   ],
   "metadata": {
    "id": "jg_iBgLwLONh"
   }
  },
  {
   "cell_type": "code",
   "execution_count": 316,
   "outputs": [],
   "source": [
    "def get_with_max_confidence(common_labels, prev_labels_to_confidence, labels_to_confidence):\n",
    "    highest_conf_label = None\n",
    "    highest_confidence = 0\n",
    "\n",
    "    for label in common_labels:\n",
    "        avg_conf = (prev_labels_to_confidence.get(label, 0) + labels_to_confidence.get(label, 0)) / 2\n",
    "        if avg_conf > highest_confidence:\n",
    "            highest_confidence = avg_conf\n",
    "            highest_conf_label = label\n",
    "\n",
    "    return highest_conf_label, highest_confidence"
   ],
   "metadata": {
    "id": "I9XcA3g3LONh"
   }
  },
  {
   "cell_type": "code",
   "source": [
    "def process_chord_predictions(top_labels_all, top_confidences_all, confidence_threshold=0.3):\n",
    "    chord_predictions = []\n",
    "\n",
    "    for i in range(1, len(top_labels_all), 2):\n",
    "        prev_labels = top_labels_all[i - 1]\n",
    "        labels = top_labels_all[i]\n",
    "        prev_confidences = top_confidences_all[i - 1]\n",
    "        confidences = top_confidences_all[i]\n",
    "\n",
    "        prev_labels_to_confidence = map_label_to_confidence(prev_labels, prev_confidences)\n",
    "        labels_to_confidence = map_label_to_confidence(labels, confidences)\n",
    "\n",
    "        # Filter labels by confidence threshold\n",
    "        prev_filtered = {label: conf for label, conf in prev_labels_to_confidence.items() if conf >= confidence_threshold}\n",
    "        filtered = {label: conf for label, conf in labels_to_confidence.items() if conf >= confidence_threshold}\n",
    "\n",
    "        common_labels = set(prev_filtered.keys()).intersection(filtered.keys())\n",
    "\n",
    "        if common_labels:\n",
    "            chosen_label, chosen_confidence = get_with_max_confidence(common_labels, prev_labels_to_confidence, labels_to_confidence)\n",
    "        else:\n",
    "            # Combine and sort all labels by confidence, regardless of threshold, if no common labels meet the threshold\n",
    "            all_labels_confidences = list(prev_labels_to_confidence.items()) + list(labels_to_confidence.items())\n",
    "            chosen_label, chosen_confidence = max(all_labels_confidences, key=lambda x: x[1])\n",
    "\n",
    "        chord_predictions.append((chosen_label, chosen_confidence))\n",
    "\n",
    "    return chord_predictions"
   ],
   "metadata": {
    "id": "ezVrdXhw-5vo"
   },
   "execution_count": 317,
   "outputs": []
  },
  {
   "cell_type": "code",
   "execution_count": 318,
   "outputs": [
    {
     "name": "stdout",
     "output_type": "stream",
     "text": [
      "[('Am', 1.0), ('Am', 1.0), ('Am', 1.0), ('F', 1.0), ('C', 1.0), ('C', 1.0), ('C', 1.0), ('G', 1.0), ('Em', 1.0), ('Em', 1.0), ('Em', 1.0), ('Am', 1.0), ('Em', 1.0), ('Em', 1.0), ('Em', 1.0), ('Em', 1.0), ('C', 1.0), ('Em', 1.0), ('C', 1.0), ('Em', 1.0), ('Em', 1.0), ('G', 1.0), ('G', 1.0), ('G', 1.0), ('G', 1.0), ('C', 1.0), ('C', 1.0), ('Em', 1.0), ('C', 1.0), ('C', 1.0), ('C', 1.0), ('C', 1.0), ('C', 1.0), ('C', 1.0), ('Em', 1.0), ('C', 0.9999553561210632), ('F', 1.0), ('G', 1.0), ('G', 1.0), ('G', 1.0), ('G', 1.0), ('C', 1.0), ('F', 1.0), ('C', 1.0), ('C', 1.0), ('F', 1.0), ('F', 1.0), ('G', 1.0), ('G', 1.0), ('Am', 0.9999594688415527), ('C', 1.0), ('Am', 1.0), ('Am', 1.0), ('F', 1.0), ('F', 1.0), ('G', 1.0), ('G', 1.0), ('C', 1.0), ('C', 1.0), ('Am', 1.0), ('Am', 1.0), ('F', 1.0), ('F', 1.0), ('G', 1.0), ('G', 1.0), ('C', 1.0), ('C', 1.0), ('C', 1.0), ('Am', 1.0), ('Am', 1.0), ('Em', 1.0), ('C', 1.0), ('C', 1.0), ('C', 1.0), ('C', 1.0), ('C', 1.0), ('C', 1.0), ('Em', 1.0), ('G', 1.0), ('G', 1.0), ('G', 1.0), ('G', 1.0), ('C', 1.0), ('C', 1.0), ('C', 1.0), ('C', 0.8930985331535339), ('C', 1.0), ('C', 1.0), ('C', 1.0), ('C', 1.0), ('C', 1.0), ('C', 1.0), ('C', 1.0), ('Em', 1.0), ('G', 1.0), ('G', 1.0), ('G', 1.0), ('C', 1.0), ('C', 1.0), ('C', 1.0), ('C', 1.0), ('F', 1.0), ('F', 1.0), ('F', 1.0), ('G', 1.0), ('G', 1.0), ('C', 1.0), ('C', 1.0), ('Am', 1.0), ('Am', 1.0), ('F', 1.0), ('F', 1.0), ('G', 1.0), ('G', 1.0), ('C', 1.0), ('C', 1.0), ('Am', 1.0), ('F', 1.0), ('F', 1.0), ('F', 1.0), ('G', 1.0), ('Em', 1.0), ('C', 1.0), ('C', 1.0), ('C', 1.0), ('F', 1.0), ('F', 1.0), ('F', 1.0), ('G', 1.0), ('G', 1.0), ('Em', 1.0), ('C', 1.0), ('Am', 1.0), ('Am', 1.0), ('F', 1.0), ('F', 1.0), ('G', 1.0), ('G', 1.0), ('C', 1.0), ('Bb', 1.0), ('Am', 1.0), ('Am', 0.9999563694000244), ('F', 1.0), ('F', 1.0), ('G', 1.0), ('G', 1.0), ('C', 1.0), ('C', 1.0), ('G', 1.0), ('Em', 1.0), ('C', 0.9999477863311768), ('G', 1.0), ('G', 0.9999985694885254), ('Bb', 1.0), ('Bb', 0.9888486564159393), ('C', 1.0), ('Bb', 1.0), ('G', 1.0), ('Bb', 0.9999788999557495), ('Bb', 1.0), ('Bb', 0.7178656309843063), ('Bb', 1.0), ('Bb', 0.9999984502792358), ('Bb', 0.1964704841375351)]\n"
     ]
    }
   ],
   "source": [
    "chord_predictions = process_chord_predictions(top_labels_all, top_confidences_all)\n",
    "print(chord_predictions)"
   ],
   "metadata": {
    "id": "2rn0jPRNLONh"
   }
  },
  {
   "cell_type": "markdown",
   "source": [
    "Combine predictions into a chord sequence."
   ],
   "metadata": {
    "collapsed": false,
    "id": "-yVj4VV9LONi"
   }
  },
  {
   "cell_type": "code",
   "execution_count": 319,
   "outputs": [],
   "source": [
    "combined_predictions = []\n",
    "\n",
    "# Initialize the previous chord variable with None\n",
    "prev_chord = None\n",
    "\n",
    "# Iterate through each prediction\n",
    "for chord, confidence in chord_predictions:\n",
    "    # Check if the current chord is different from the previous chord\n",
    "    if chord != prev_chord:\n",
    "        # If it's different, append it to the combined list\n",
    "        combined_predictions.append(chord)\n",
    "        # Update the previous chord\n",
    "        prev_chord = chord"
   ],
   "metadata": {
    "id": "SX-5CaNXLONi"
   }
  },
  {
   "cell_type": "code",
   "execution_count": 320,
   "outputs": [],
   "source": [
    "from IPython.display import display, HTML\n",
    "\n",
    "def display_chords(chord_predictions):\n",
    "    # Define a color scheme for each chord\n",
    "    chord_colors = {\n",
    "        \"Am\": \"#FFD700\",  # Gold\n",
    "        \"Bb\": \"#FF4500\",  # OrangeRed\n",
    "        \"Bdim\": \"#1E90FF\",  # DodgerBlue\n",
    "        \"C\": \"#32CD32\",  # LimeGreen\n",
    "        \"Dm\": \"#BA55D3\",  # MediumOrchid\n",
    "        \"Em\": \"#FF69B4\",  # HotPink\n",
    "        \"F\": \"#00CED1\",  # DarkTurquoise\n",
    "        \"G\": \"#FFA500\",  # Orange\n",
    "    }\n",
    "\n",
    "    # Start the HTML string for output\n",
    "    output = \"<div style='display: flex; flex-wrap: wrap;'>\"\n",
    "\n",
    "    # Counter to keep track of chords per line\n",
    "    chords_per_line = 0\n",
    "\n",
    "    for i, chord in enumerate(chord_predictions, start=1):\n",
    "        # Get the color for the current chord\n",
    "        color = chord_colors.get(chord, \"grey\")  # Default to grey if chord not found\n",
    "\n",
    "        # Create a div for the chord with the specific background color and white text for contrast\n",
    "        output += f\"<div style='color: white; margin: 5px; padding: 10px; background-color: {color}; width: 100px; text-align: center;'>{chord}</div>\"\n",
    "\n",
    "        # Increment the counter\n",
    "        chords_per_line += 1\n",
    "\n",
    "        # Check if we've reached 4 chords or the end of the list, then reset counter and add a line break\n",
    "        if chords_per_line == 4 or i == len(chord_predictions):\n",
    "            output += \"<div style='flex-basis: 100%; height: 0;'></div>\"  # This creates a line break in flexbox\n",
    "            chords_per_line = 0\n",
    "\n",
    "    # Close the HTML string\n",
    "    output += \"</div>\"\n",
    "\n",
    "    # Display the HTML in the Jupyter Notebook\n",
    "    display(HTML(output))\n"
   ],
   "metadata": {
    "id": "BqBOgC-wLONi"
   }
  },
  {
   "cell_type": "code",
   "execution_count": 321,
   "outputs": [
    {
     "data": {
      "text/plain": "<IPython.core.display.HTML object>",
      "text/html": "<div style='display: flex; flex-wrap: wrap;'><div style='color: white; margin: 5px; padding: 10px; background-color: #FFD700; width: 100px; text-align: center;'>Am</div><div style='color: white; margin: 5px; padding: 10px; background-color: #00CED1; width: 100px; text-align: center;'>F</div><div style='color: white; margin: 5px; padding: 10px; background-color: #32CD32; width: 100px; text-align: center;'>C</div><div style='color: white; margin: 5px; padding: 10px; background-color: #FFA500; width: 100px; text-align: center;'>G</div><div style='flex-basis: 100%; height: 0;'></div><div style='color: white; margin: 5px; padding: 10px; background-color: #FF69B4; width: 100px; text-align: center;'>Em</div><div style='color: white; margin: 5px; padding: 10px; background-color: #FFD700; width: 100px; text-align: center;'>Am</div><div style='color: white; margin: 5px; padding: 10px; background-color: #FF69B4; width: 100px; text-align: center;'>Em</div><div style='color: white; margin: 5px; padding: 10px; background-color: #32CD32; width: 100px; text-align: center;'>C</div><div style='flex-basis: 100%; height: 0;'></div><div style='color: white; margin: 5px; padding: 10px; background-color: #FF69B4; width: 100px; text-align: center;'>Em</div><div style='color: white; margin: 5px; padding: 10px; background-color: #32CD32; width: 100px; text-align: center;'>C</div><div style='color: white; margin: 5px; padding: 10px; background-color: #FF69B4; width: 100px; text-align: center;'>Em</div><div style='color: white; margin: 5px; padding: 10px; background-color: #FFA500; width: 100px; text-align: center;'>G</div><div style='flex-basis: 100%; height: 0;'></div><div style='color: white; margin: 5px; padding: 10px; background-color: #32CD32; width: 100px; text-align: center;'>C</div><div style='color: white; margin: 5px; padding: 10px; background-color: #FF69B4; width: 100px; text-align: center;'>Em</div><div style='color: white; margin: 5px; padding: 10px; background-color: #32CD32; width: 100px; text-align: center;'>C</div><div style='color: white; margin: 5px; padding: 10px; background-color: #FF69B4; width: 100px; text-align: center;'>Em</div><div style='flex-basis: 100%; height: 0;'></div><div style='color: white; margin: 5px; padding: 10px; background-color: #32CD32; width: 100px; text-align: center;'>C</div><div style='color: white; margin: 5px; padding: 10px; background-color: #00CED1; width: 100px; text-align: center;'>F</div><div style='color: white; margin: 5px; padding: 10px; background-color: #FFA500; width: 100px; text-align: center;'>G</div><div style='color: white; margin: 5px; padding: 10px; background-color: #32CD32; width: 100px; text-align: center;'>C</div><div style='flex-basis: 100%; height: 0;'></div><div style='color: white; margin: 5px; padding: 10px; background-color: #00CED1; width: 100px; text-align: center;'>F</div><div style='color: white; margin: 5px; padding: 10px; background-color: #32CD32; width: 100px; text-align: center;'>C</div><div style='color: white; margin: 5px; padding: 10px; background-color: #00CED1; width: 100px; text-align: center;'>F</div><div style='color: white; margin: 5px; padding: 10px; background-color: #FFA500; width: 100px; text-align: center;'>G</div><div style='flex-basis: 100%; height: 0;'></div><div style='color: white; margin: 5px; padding: 10px; background-color: #FFD700; width: 100px; text-align: center;'>Am</div><div style='color: white; margin: 5px; padding: 10px; background-color: #32CD32; width: 100px; text-align: center;'>C</div><div style='color: white; margin: 5px; padding: 10px; background-color: #FFD700; width: 100px; text-align: center;'>Am</div><div style='color: white; margin: 5px; padding: 10px; background-color: #00CED1; width: 100px; text-align: center;'>F</div><div style='flex-basis: 100%; height: 0;'></div><div style='color: white; margin: 5px; padding: 10px; background-color: #FFA500; width: 100px; text-align: center;'>G</div><div style='color: white; margin: 5px; padding: 10px; background-color: #32CD32; width: 100px; text-align: center;'>C</div><div style='color: white; margin: 5px; padding: 10px; background-color: #FFD700; width: 100px; text-align: center;'>Am</div><div style='color: white; margin: 5px; padding: 10px; background-color: #00CED1; width: 100px; text-align: center;'>F</div><div style='flex-basis: 100%; height: 0;'></div><div style='color: white; margin: 5px; padding: 10px; background-color: #FFA500; width: 100px; text-align: center;'>G</div><div style='color: white; margin: 5px; padding: 10px; background-color: #32CD32; width: 100px; text-align: center;'>C</div><div style='color: white; margin: 5px; padding: 10px; background-color: #FFD700; width: 100px; text-align: center;'>Am</div><div style='color: white; margin: 5px; padding: 10px; background-color: #FF69B4; width: 100px; text-align: center;'>Em</div><div style='flex-basis: 100%; height: 0;'></div><div style='color: white; margin: 5px; padding: 10px; background-color: #32CD32; width: 100px; text-align: center;'>C</div><div style='color: white; margin: 5px; padding: 10px; background-color: #FF69B4; width: 100px; text-align: center;'>Em</div><div style='color: white; margin: 5px; padding: 10px; background-color: #FFA500; width: 100px; text-align: center;'>G</div><div style='color: white; margin: 5px; padding: 10px; background-color: #32CD32; width: 100px; text-align: center;'>C</div><div style='flex-basis: 100%; height: 0;'></div><div style='color: white; margin: 5px; padding: 10px; background-color: #FF69B4; width: 100px; text-align: center;'>Em</div><div style='color: white; margin: 5px; padding: 10px; background-color: #FFA500; width: 100px; text-align: center;'>G</div><div style='color: white; margin: 5px; padding: 10px; background-color: #32CD32; width: 100px; text-align: center;'>C</div><div style='color: white; margin: 5px; padding: 10px; background-color: #00CED1; width: 100px; text-align: center;'>F</div><div style='flex-basis: 100%; height: 0;'></div><div style='color: white; margin: 5px; padding: 10px; background-color: #FFA500; width: 100px; text-align: center;'>G</div><div style='color: white; margin: 5px; padding: 10px; background-color: #32CD32; width: 100px; text-align: center;'>C</div><div style='color: white; margin: 5px; padding: 10px; background-color: #FFD700; width: 100px; text-align: center;'>Am</div><div style='color: white; margin: 5px; padding: 10px; background-color: #00CED1; width: 100px; text-align: center;'>F</div><div style='flex-basis: 100%; height: 0;'></div><div style='color: white; margin: 5px; padding: 10px; background-color: #FFA500; width: 100px; text-align: center;'>G</div><div style='color: white; margin: 5px; padding: 10px; background-color: #32CD32; width: 100px; text-align: center;'>C</div><div style='color: white; margin: 5px; padding: 10px; background-color: #FFD700; width: 100px; text-align: center;'>Am</div><div style='color: white; margin: 5px; padding: 10px; background-color: #00CED1; width: 100px; text-align: center;'>F</div><div style='flex-basis: 100%; height: 0;'></div><div style='color: white; margin: 5px; padding: 10px; background-color: #FFA500; width: 100px; text-align: center;'>G</div><div style='color: white; margin: 5px; padding: 10px; background-color: #FF69B4; width: 100px; text-align: center;'>Em</div><div style='color: white; margin: 5px; padding: 10px; background-color: #32CD32; width: 100px; text-align: center;'>C</div><div style='color: white; margin: 5px; padding: 10px; background-color: #00CED1; width: 100px; text-align: center;'>F</div><div style='flex-basis: 100%; height: 0;'></div><div style='color: white; margin: 5px; padding: 10px; background-color: #FFA500; width: 100px; text-align: center;'>G</div><div style='color: white; margin: 5px; padding: 10px; background-color: #FF69B4; width: 100px; text-align: center;'>Em</div><div style='color: white; margin: 5px; padding: 10px; background-color: #32CD32; width: 100px; text-align: center;'>C</div><div style='color: white; margin: 5px; padding: 10px; background-color: #FFD700; width: 100px; text-align: center;'>Am</div><div style='flex-basis: 100%; height: 0;'></div><div style='color: white; margin: 5px; padding: 10px; background-color: #00CED1; width: 100px; text-align: center;'>F</div><div style='color: white; margin: 5px; padding: 10px; background-color: #FFA500; width: 100px; text-align: center;'>G</div><div style='color: white; margin: 5px; padding: 10px; background-color: #32CD32; width: 100px; text-align: center;'>C</div><div style='color: white; margin: 5px; padding: 10px; background-color: #FF4500; width: 100px; text-align: center;'>Bb</div><div style='flex-basis: 100%; height: 0;'></div><div style='color: white; margin: 5px; padding: 10px; background-color: #FFD700; width: 100px; text-align: center;'>Am</div><div style='color: white; margin: 5px; padding: 10px; background-color: #00CED1; width: 100px; text-align: center;'>F</div><div style='color: white; margin: 5px; padding: 10px; background-color: #FFA500; width: 100px; text-align: center;'>G</div><div style='color: white; margin: 5px; padding: 10px; background-color: #32CD32; width: 100px; text-align: center;'>C</div><div style='flex-basis: 100%; height: 0;'></div><div style='color: white; margin: 5px; padding: 10px; background-color: #FFA500; width: 100px; text-align: center;'>G</div><div style='color: white; margin: 5px; padding: 10px; background-color: #FF69B4; width: 100px; text-align: center;'>Em</div><div style='color: white; margin: 5px; padding: 10px; background-color: #32CD32; width: 100px; text-align: center;'>C</div><div style='color: white; margin: 5px; padding: 10px; background-color: #FFA500; width: 100px; text-align: center;'>G</div><div style='flex-basis: 100%; height: 0;'></div><div style='color: white; margin: 5px; padding: 10px; background-color: #FF4500; width: 100px; text-align: center;'>Bb</div><div style='color: white; margin: 5px; padding: 10px; background-color: #32CD32; width: 100px; text-align: center;'>C</div><div style='color: white; margin: 5px; padding: 10px; background-color: #FF4500; width: 100px; text-align: center;'>Bb</div><div style='color: white; margin: 5px; padding: 10px; background-color: #FFA500; width: 100px; text-align: center;'>G</div><div style='flex-basis: 100%; height: 0;'></div><div style='color: white; margin: 5px; padding: 10px; background-color: #FF4500; width: 100px; text-align: center;'>Bb</div><div style='flex-basis: 100%; height: 0;'></div></div>"
     },
     "metadata": {},
     "output_type": "display_data"
    }
   ],
   "source": [
    "display_chords(combined_predictions)"
   ],
   "metadata": {
    "id": "2epX51JILONi"
   }
  },
  {
   "cell_type": "code",
   "execution_count": null,
   "outputs": [],
   "source": [],
   "metadata": {
    "id": "rPycLnN8LONi"
   }
  }
 ],
 "metadata": {
  "kernelspec": {
   "display_name": "Python 3",
   "name": "python3"
  },
  "language_info": {
   "codemirror_mode": {
    "name": "ipython",
    "version": 2
   },
   "file_extension": ".py",
   "mimetype": "text/x-python",
   "name": "python",
   "nbconvert_exporter": "python",
   "pygments_lexer": "ipython2",
   "version": "2.7.6"
  },
  "colab": {
   "provenance": [],
   "gpuType": "V100",
   "toc_visible": true
  },
  "accelerator": "GPU"
 },
 "nbformat": 4,
 "nbformat_minor": 0
}
